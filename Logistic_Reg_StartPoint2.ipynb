{
 "cells": [
  {
   "cell_type": "code",
   "execution_count": 8,
   "id": "f76c3887",
   "metadata": {},
   "outputs": [],
   "source": [
    "import pandas as pd\n",
    "import numpy as np\n",
    "import matplotlib.pyplot as plt\n",
    "import seaborn as sns\n",
    "\n",
    "from sklearn.linear_model import LogisticRegression\n",
    "from sklearn.model_selection import train_test_split\n",
    "from sklearn.pipeline import make_pipeline\n",
    "from sklearn.preprocessing import StandardScaler\n",
    "\n",
    "from sklearn.metrics import accuracy_score, confusion_matrix, precision_score, f1_score\n",
    "\n",
    "%matplotlib inline"
   ]
  },
  {
   "cell_type": "code",
   "execution_count": 9,
   "id": "35e9f137",
   "metadata": {},
   "outputs": [],
   "source": [
    "data = pd.read_csv('/Users/jennihawk/Documents/Data Science/Classification/Churn Project/Models/chatr_clean.csv')"
   ]
  },
  {
   "cell_type": "code",
   "execution_count": 10,
   "id": "1baa799d",
   "metadata": {},
   "outputs": [
    {
     "data": {
      "text/html": [
       "<div>\n",
       "<style scoped>\n",
       "    .dataframe tbody tr th:only-of-type {\n",
       "        vertical-align: middle;\n",
       "    }\n",
       "\n",
       "    .dataframe tbody tr th {\n",
       "        vertical-align: top;\n",
       "    }\n",
       "\n",
       "    .dataframe thead th {\n",
       "        text-align: right;\n",
       "    }\n",
       "</style>\n",
       "<table border=\"1\" class=\"dataframe\">\n",
       "  <thead>\n",
       "    <tr style=\"text-align: right;\">\n",
       "      <th></th>\n",
       "      <th>customerID</th>\n",
       "      <th>SeniorCitizen</th>\n",
       "      <th>tenure</th>\n",
       "      <th>MonthlyCharges</th>\n",
       "      <th>TotalCharges</th>\n",
       "      <th>InternetService_Fiber</th>\n",
       "      <th>InternetService_No</th>\n",
       "      <th>Contract_One_Year</th>\n",
       "      <th>Contract_Two_year</th>\n",
       "      <th>PaymentMethod_Crcard</th>\n",
       "      <th>...</th>\n",
       "      <th>DeviceProtection_No_internet_serv</th>\n",
       "      <th>DeviceProtection_Yes</th>\n",
       "      <th>TechSupport_No_internet_serv</th>\n",
       "      <th>TechSupport_Yes</th>\n",
       "      <th>StreamingTV_No_internet_serv</th>\n",
       "      <th>StreamingTV_Yes</th>\n",
       "      <th>StreamingMovies_No_internet_serv</th>\n",
       "      <th>StreamingMovies_Yes</th>\n",
       "      <th>PaperlessBilling_Yes</th>\n",
       "      <th>Churn_Yes</th>\n",
       "    </tr>\n",
       "  </thead>\n",
       "  <tbody>\n",
       "    <tr>\n",
       "      <th>0</th>\n",
       "      <td>7590-VHVEG</td>\n",
       "      <td>0</td>\n",
       "      <td>1.0</td>\n",
       "      <td>29.85</td>\n",
       "      <td>29.85</td>\n",
       "      <td>0</td>\n",
       "      <td>0</td>\n",
       "      <td>0</td>\n",
       "      <td>0</td>\n",
       "      <td>0</td>\n",
       "      <td>...</td>\n",
       "      <td>0</td>\n",
       "      <td>0</td>\n",
       "      <td>0</td>\n",
       "      <td>0</td>\n",
       "      <td>0</td>\n",
       "      <td>0</td>\n",
       "      <td>0</td>\n",
       "      <td>0</td>\n",
       "      <td>1</td>\n",
       "      <td>0</td>\n",
       "    </tr>\n",
       "    <tr>\n",
       "      <th>1</th>\n",
       "      <td>5575-GNVDE</td>\n",
       "      <td>0</td>\n",
       "      <td>34.0</td>\n",
       "      <td>56.95</td>\n",
       "      <td>1889.50</td>\n",
       "      <td>0</td>\n",
       "      <td>0</td>\n",
       "      <td>1</td>\n",
       "      <td>0</td>\n",
       "      <td>0</td>\n",
       "      <td>...</td>\n",
       "      <td>0</td>\n",
       "      <td>1</td>\n",
       "      <td>0</td>\n",
       "      <td>0</td>\n",
       "      <td>0</td>\n",
       "      <td>0</td>\n",
       "      <td>0</td>\n",
       "      <td>0</td>\n",
       "      <td>0</td>\n",
       "      <td>0</td>\n",
       "    </tr>\n",
       "    <tr>\n",
       "      <th>2</th>\n",
       "      <td>3668-QPYBK</td>\n",
       "      <td>0</td>\n",
       "      <td>2.0</td>\n",
       "      <td>53.85</td>\n",
       "      <td>108.15</td>\n",
       "      <td>0</td>\n",
       "      <td>0</td>\n",
       "      <td>0</td>\n",
       "      <td>0</td>\n",
       "      <td>0</td>\n",
       "      <td>...</td>\n",
       "      <td>0</td>\n",
       "      <td>0</td>\n",
       "      <td>0</td>\n",
       "      <td>0</td>\n",
       "      <td>0</td>\n",
       "      <td>0</td>\n",
       "      <td>0</td>\n",
       "      <td>0</td>\n",
       "      <td>1</td>\n",
       "      <td>1</td>\n",
       "    </tr>\n",
       "    <tr>\n",
       "      <th>3</th>\n",
       "      <td>7795-CFOCW</td>\n",
       "      <td>0</td>\n",
       "      <td>45.0</td>\n",
       "      <td>42.30</td>\n",
       "      <td>1840.75</td>\n",
       "      <td>0</td>\n",
       "      <td>0</td>\n",
       "      <td>1</td>\n",
       "      <td>0</td>\n",
       "      <td>0</td>\n",
       "      <td>...</td>\n",
       "      <td>0</td>\n",
       "      <td>1</td>\n",
       "      <td>0</td>\n",
       "      <td>1</td>\n",
       "      <td>0</td>\n",
       "      <td>0</td>\n",
       "      <td>0</td>\n",
       "      <td>0</td>\n",
       "      <td>0</td>\n",
       "      <td>0</td>\n",
       "    </tr>\n",
       "    <tr>\n",
       "      <th>4</th>\n",
       "      <td>9237-HQITU</td>\n",
       "      <td>0</td>\n",
       "      <td>2.0</td>\n",
       "      <td>70.70</td>\n",
       "      <td>151.65</td>\n",
       "      <td>1</td>\n",
       "      <td>0</td>\n",
       "      <td>0</td>\n",
       "      <td>0</td>\n",
       "      <td>0</td>\n",
       "      <td>...</td>\n",
       "      <td>0</td>\n",
       "      <td>0</td>\n",
       "      <td>0</td>\n",
       "      <td>0</td>\n",
       "      <td>0</td>\n",
       "      <td>0</td>\n",
       "      <td>0</td>\n",
       "      <td>0</td>\n",
       "      <td>1</td>\n",
       "      <td>1</td>\n",
       "    </tr>\n",
       "  </tbody>\n",
       "</table>\n",
       "<p>5 rows × 32 columns</p>\n",
       "</div>"
      ],
      "text/plain": [
       "   customerID  SeniorCitizen  tenure  MonthlyCharges  TotalCharges  \\\n",
       "0  7590-VHVEG              0     1.0           29.85         29.85   \n",
       "1  5575-GNVDE              0    34.0           56.95       1889.50   \n",
       "2  3668-QPYBK              0     2.0           53.85        108.15   \n",
       "3  7795-CFOCW              0    45.0           42.30       1840.75   \n",
       "4  9237-HQITU              0     2.0           70.70        151.65   \n",
       "\n",
       "   InternetService_Fiber  InternetService_No  Contract_One_Year  \\\n",
       "0                      0                   0                  0   \n",
       "1                      0                   0                  1   \n",
       "2                      0                   0                  0   \n",
       "3                      0                   0                  1   \n",
       "4                      1                   0                  0   \n",
       "\n",
       "   Contract_Two_year  PaymentMethod_Crcard  ...  \\\n",
       "0                  0                     0  ...   \n",
       "1                  0                     0  ...   \n",
       "2                  0                     0  ...   \n",
       "3                  0                     0  ...   \n",
       "4                  0                     0  ...   \n",
       "\n",
       "   DeviceProtection_No_internet_serv  DeviceProtection_Yes  \\\n",
       "0                                  0                     0   \n",
       "1                                  0                     1   \n",
       "2                                  0                     0   \n",
       "3                                  0                     1   \n",
       "4                                  0                     0   \n",
       "\n",
       "   TechSupport_No_internet_serv  TechSupport_Yes  \\\n",
       "0                             0                0   \n",
       "1                             0                0   \n",
       "2                             0                0   \n",
       "3                             0                1   \n",
       "4                             0                0   \n",
       "\n",
       "   StreamingTV_No_internet_serv  StreamingTV_Yes  \\\n",
       "0                             0                0   \n",
       "1                             0                0   \n",
       "2                             0                0   \n",
       "3                             0                0   \n",
       "4                             0                0   \n",
       "\n",
       "   StreamingMovies_No_internet_serv  StreamingMovies_Yes  \\\n",
       "0                                 0                    0   \n",
       "1                                 0                    0   \n",
       "2                                 0                    0   \n",
       "3                                 0                    0   \n",
       "4                                 0                    0   \n",
       "\n",
       "   PaperlessBilling_Yes  Churn_Yes  \n",
       "0                     1          0  \n",
       "1                     0          0  \n",
       "2                     1          1  \n",
       "3                     0          0  \n",
       "4                     1          1  \n",
       "\n",
       "[5 rows x 32 columns]"
      ]
     },
     "execution_count": 10,
     "metadata": {},
     "output_type": "execute_result"
    }
   ],
   "source": [
    "data.head()"
   ]
  },
  {
   "cell_type": "code",
   "execution_count": 11,
   "id": "773cbd3b",
   "metadata": {},
   "outputs": [
    {
     "data": {
      "text/plain": [
       "Index(['customerID', 'SeniorCitizen', 'tenure', 'MonthlyCharges',\n",
       "       'TotalCharges', 'InternetService_Fiber', 'InternetService_No',\n",
       "       'Contract_One_Year', 'Contract_Two_year', 'PaymentMethod_Crcard',\n",
       "       'PaymentMethod_Electr_Check', 'PaymentMethod_Mailed_check',\n",
       "       'MultipleLines_No_phone_serv', 'MultipleLines_Yes', 'Dependents_Yes',\n",
       "       'gender_Male', 'Partner_Yes', 'PhoneService_Yes',\n",
       "       'OnlineSecurity_No_internet_serv', 'OnlineSecurity_Yes',\n",
       "       'OnlineBackup_No_Internet_Serv', 'OnlineBackup_Yes',\n",
       "       'DeviceProtection_No_internet_serv', 'DeviceProtection_Yes',\n",
       "       'TechSupport_No_internet_serv', 'TechSupport_Yes',\n",
       "       'StreamingTV_No_internet_serv', 'StreamingTV_Yes',\n",
       "       'StreamingMovies_No_internet_serv', 'StreamingMovies_Yes',\n",
       "       'PaperlessBilling_Yes', 'Churn_Yes'],\n",
       "      dtype='object')"
      ]
     },
     "execution_count": 11,
     "metadata": {},
     "output_type": "execute_result"
    }
   ],
   "source": [
    "data.columns"
   ]
  },
  {
   "cell_type": "markdown",
   "id": "b6cda65b",
   "metadata": {},
   "source": [
    "### Sklearn defaults to keep in mind\n",
    "- Decision Boundary: 50% cutoff value for positive / negative class\n",
    "- Regularization built in\n",
    "- Hyperparameter C controls effect of model term. Default C=1.0\n",
    "- Set C through validation or cross-validation. Larger C allows model to be more complex.\n",
    "- It's just like the alpha parameter from linear regression regularization, except it multiplies the model term instead of the regularization term. \n",
    "- the regularization term can be the squares of the coefficient betas, like ridge regression, - or it could be the absolute values of those betas, like lasso.\n",
    "- Option to set penalty. Penalty refers to type of regularization penalty:\n",
    "- L2 default means we're squaring the coefficients\n",
    "- L1 set for absolute values. You can also set to elastic net penalty. Or completely turn off regularization. "
   ]
  },
  {
   "cell_type": "code",
   "execution_count": 12,
   "id": "7055d877",
   "metadata": {},
   "outputs": [],
   "source": [
    "features_in = ['SeniorCitizen', 'tenure', 'MonthlyCharges',\n",
    "       'TotalCharges', 'InternetService_Fiber', 'InternetService_No',\n",
    "       'Contract_One_Year', 'Contract_Two_year', 'PaymentMethod_Crcard',\n",
    "       'PaymentMethod_Electr_Check', 'PaymentMethod_Mailed_check',\n",
    "       'MultipleLines_No_phone_serv', 'MultipleLines_Yes', 'Dependents_Yes',\n",
    "       'gender_Male', 'Partner_Yes', 'PhoneService_Yes',\n",
    "       'OnlineSecurity_No_internet_serv', 'OnlineSecurity_Yes',\n",
    "       'OnlineBackup_No_Internet_Serv', 'OnlineBackup_Yes',\n",
    "       'DeviceProtection_No_internet_serv', 'DeviceProtection_Yes',\n",
    "       'TechSupport_No_internet_serv', 'TechSupport_Yes',\n",
    "       'StreamingTV_No_internet_serv', 'StreamingTV_Yes',\n",
    "       'StreamingMovies_No_internet_serv', 'StreamingMovies_Yes',\n",
    "       'PaperlessBilling_Yes']\n",
    "\n",
    "y = data['Churn_Yes']\n",
    "X = data[features_in]\n",
    "\n",
    "X_train, X_test, y_train, y_test = train_test_split(X, y, random_state=42)\n",
    "pipe = make_pipeline(StandardScaler(), LogisticRegression())"
   ]
  },
  {
   "cell_type": "code",
   "execution_count": 13,
   "id": "4ff686dc",
   "metadata": {},
   "outputs": [
    {
     "ename": "NameError",
     "evalue": "name 'Pipeline' is not defined",
     "output_type": "error",
     "traceback": [
      "\u001b[0;31m---------------------------------------------------------------------------\u001b[0m",
      "\u001b[0;31mNameError\u001b[0m                                 Traceback (most recent call last)",
      "Input \u001b[0;32mIn [13]\u001b[0m, in \u001b[0;36m<cell line: 3>\u001b[0;34m()\u001b[0m\n\u001b[1;32m      1\u001b[0m pipe\u001b[38;5;241m.\u001b[39mfit(X_train, y_train)  \u001b[38;5;66;03m# apply scaling on training data\u001b[39;00m\n\u001b[1;32m      2\u001b[0m \u001b[38;5;66;03m#not sure what this line is doing:\u001b[39;00m\n\u001b[0;32m----> 3\u001b[0m \u001b[43mPipeline\u001b[49m(steps\u001b[38;5;241m=\u001b[39m[(\u001b[38;5;124m'\u001b[39m\u001b[38;5;124mstandardscaler\u001b[39m\u001b[38;5;124m'\u001b[39m, StandardScaler()),\n\u001b[1;32m      4\u001b[0m                 (\u001b[38;5;124m'\u001b[39m\u001b[38;5;124mlogisticregression\u001b[39m\u001b[38;5;124m'\u001b[39m, LogisticRegression())])\n",
      "\u001b[0;31mNameError\u001b[0m: name 'Pipeline' is not defined"
     ]
    }
   ],
   "source": [
    "pipe.fit(X_train, y_train)  # apply scaling on training data\n",
    "#not sure what this line is doing:\n",
    "Pipeline(steps=[('standardscaler', StandardScaler()),\n",
    "                ('logisticregression', LogisticRegression())])"
   ]
  },
  {
   "cell_type": "markdown",
   "id": "5df2984a",
   "metadata": {},
   "source": [
    "### Accuracy metric on test data"
   ]
  },
  {
   "cell_type": "code",
   "execution_count": 14,
   "id": "e90b66ca",
   "metadata": {},
   "outputs": [
    {
     "data": {
      "text/plain": [
       "0.7895335608646189"
      ]
     },
     "execution_count": 14,
     "metadata": {},
     "output_type": "execute_result"
    }
   ],
   "source": [
    "pipe.score(X_test, y_test)  # apply scaling on testing data, without leaking training data."
   ]
  },
  {
   "cell_type": "code",
   "execution_count": 15,
   "id": "9cf1d46f",
   "metadata": {},
   "outputs": [
    {
     "name": "stdout",
     "output_type": "stream",
     "text": [
      "(5274, 30)\n",
      "(1758, 30)\n",
      "(5274,)\n",
      "(1758,)\n"
     ]
    }
   ],
   "source": [
    "print(X_train.shape)\n",
    "print(X_test.shape)\n",
    "print(y_train.shape)\n",
    "print(y_test.shape)"
   ]
  },
  {
   "cell_type": "markdown",
   "id": "93103de5",
   "metadata": {},
   "source": [
    "#### Fit model to training data"
   ]
  },
  {
   "cell_type": "code",
   "execution_count": 16,
   "id": "23da7fdd",
   "metadata": {},
   "outputs": [],
   "source": [
    "#logreg.fit(X_train,y_train)"
   ]
  },
  {
   "cell_type": "markdown",
   "id": "095dc359",
   "metadata": {},
   "source": [
    "### See how our training data is doing"
   ]
  },
  {
   "cell_type": "markdown",
   "id": "a4875bb4",
   "metadata": {},
   "source": [
    "##### Average Rate of Churn on Test Data"
   ]
  },
  {
   "cell_type": "code",
   "execution_count": 17,
   "id": "9039abd0",
   "metadata": {},
   "outputs": [
    {
     "data": {
      "text/plain": [
       "0.26753886992794845"
      ]
     },
     "execution_count": 17,
     "metadata": {},
     "output_type": "execute_result"
    }
   ],
   "source": [
    "np.mean(y_train)"
   ]
  },
  {
   "cell_type": "markdown",
   "id": "c7f34c10",
   "metadata": {},
   "source": [
    "#### Hard Class Predictions"
   ]
  },
  {
   "cell_type": "code",
   "execution_count": 18,
   "id": "6c06140b",
   "metadata": {},
   "outputs": [
    {
     "data": {
      "text/plain": [
       "array([0, 0, 0, 0, 0])"
      ]
     },
     "execution_count": 18,
     "metadata": {},
     "output_type": "execute_result"
    }
   ],
   "source": [
    "pipe.predict(X_train)[:5]"
   ]
  },
  {
   "cell_type": "markdown",
   "id": "1fb5b953",
   "metadata": {},
   "source": [
    "#### Soft Class Predictions"
   ]
  },
  {
   "cell_type": "code",
   "execution_count": 19,
   "id": "f3baabb6",
   "metadata": {},
   "outputs": [
    {
     "data": {
      "text/plain": [
       "array([[0.79618131, 0.20381869],\n",
       "       [0.75795558, 0.24204442],\n",
       "       [0.62957169, 0.37042831],\n",
       "       [0.89523733, 0.10476267],\n",
       "       [0.94672815, 0.05327185]])"
      ]
     },
     "execution_count": 19,
     "metadata": {},
     "output_type": "execute_result"
    }
   ],
   "source": [
    "pipe.predict_proba(X_train)[:5]"
   ]
  },
  {
   "cell_type": "markdown",
   "id": "4a76f654",
   "metadata": {},
   "source": [
    "### Accuracy"
   ]
  },
  {
   "cell_type": "code",
   "execution_count": 20,
   "id": "ee07ae95",
   "metadata": {},
   "outputs": [
    {
     "data": {
      "text/plain": [
       "0.8065984072810012"
      ]
     },
     "execution_count": 20,
     "metadata": {},
     "output_type": "execute_result"
    }
   ],
   "source": [
    "pipe.score(X_train, y_train)"
   ]
  },
  {
   "cell_type": "markdown",
   "id": "4df42d3e",
   "metadata": {},
   "source": [
    "### Confusion Matrix"
   ]
  },
  {
   "cell_type": "code",
   "execution_count": 21,
   "id": "787b646e",
   "metadata": {},
   "outputs": [],
   "source": [
    "# y_pred = pipe.predict(y_train)\n",
    "# confusion_matrix(y, y_pred)"
   ]
  },
  {
   "cell_type": "markdown",
   "id": "85ecf33a",
   "metadata": {},
   "source": [
    "### Interpreting Coefficients\n",
    "- One unit of increase in x actually increases the log odds by beta units. \n",
    "- In other words: One unit of increase in x, increases the odds by an exponential factor of beta.\n",
    "- If the features coefficient beta is positive, increasing that feature makes the positive class more likely\n",
    "- If beta is negative, increasing the feature does the opposite and the positive class becomes less likely"
   ]
  },
  {
   "cell_type": "code",
   "execution_count": 22,
   "id": "abe6b1cc",
   "metadata": {},
   "outputs": [
    {
     "ename": "AttributeError",
     "evalue": "'Pipeline' object has no attribute 'coef_'",
     "output_type": "error",
     "traceback": [
      "\u001b[0;31m---------------------------------------------------------------------------\u001b[0m",
      "\u001b[0;31mAttributeError\u001b[0m                            Traceback (most recent call last)",
      "Input \u001b[0;32mIn [22]\u001b[0m, in \u001b[0;36m<cell line: 1>\u001b[0;34m()\u001b[0m\n\u001b[0;32m----> 1\u001b[0m \u001b[43mpipe\u001b[49m\u001b[38;5;241;43m.\u001b[39;49m\u001b[43mcoef_\u001b[49m, pipe\u001b[38;5;241m.\u001b[39mintercept_\n",
      "\u001b[0;31mAttributeError\u001b[0m: 'Pipeline' object has no attribute 'coef_'"
     ]
    }
   ],
   "source": [
    "pipe.coef_, pipe.intercept_"
   ]
  },
  {
   "cell_type": "code",
   "execution_count": null,
   "id": "81e196e5",
   "metadata": {},
   "outputs": [],
   "source": []
  }
 ],
 "metadata": {
  "kernelspec": {
   "display_name": "Python 3 (ipykernel)",
   "language": "python",
   "name": "python3"
  },
  "language_info": {
   "codemirror_mode": {
    "name": "ipython",
    "version": 3
   },
   "file_extension": ".py",
   "mimetype": "text/x-python",
   "name": "python",
   "nbconvert_exporter": "python",
   "pygments_lexer": "ipython3",
   "version": "3.9.7"
  }
 },
 "nbformat": 4,
 "nbformat_minor": 5
}
