{
 "cells": [
  {
   "cell_type": "code",
   "execution_count": 1,
   "id": "f76c3887",
   "metadata": {},
   "outputs": [],
   "source": [
    "import pandas as pd\n",
    "import numpy as np\n",
    "import matplotlib.pyplot as plt\n",
    "import seaborn as sns\n",
    "\n",
    "from sklearn.linear_model import LogisticRegression\n",
    "from sklearn.model_selection import train_test_split\n",
    "from sklearn.pipeline import make_pipeline\n",
    "from sklearn.preprocessing import StandardScaler\n",
    "\n",
    "from sklearn.metrics import accuracy_score, confusion_matrix, precision_score, f1_score\n",
    "\n",
    "%matplotlib inline"
   ]
  },
  {
   "cell_type": "code",
   "execution_count": 2,
   "id": "35e9f137",
   "metadata": {},
   "outputs": [],
   "source": [
    "data = pd.read_csv('/Users/jennihawk/Documents/Data Science/Classification/Churn Project/Models/chatr_clean.csv')"
   ]
  },
  {
   "cell_type": "code",
   "execution_count": 3,
   "id": "1baa799d",
   "metadata": {},
   "outputs": [
    {
     "data": {
      "text/html": [
       "<div>\n",
       "<style scoped>\n",
       "    .dataframe tbody tr th:only-of-type {\n",
       "        vertical-align: middle;\n",
       "    }\n",
       "\n",
       "    .dataframe tbody tr th {\n",
       "        vertical-align: top;\n",
       "    }\n",
       "\n",
       "    .dataframe thead th {\n",
       "        text-align: right;\n",
       "    }\n",
       "</style>\n",
       "<table border=\"1\" class=\"dataframe\">\n",
       "  <thead>\n",
       "    <tr style=\"text-align: right;\">\n",
       "      <th></th>\n",
       "      <th>customerID</th>\n",
       "      <th>SeniorCitizen</th>\n",
       "      <th>tenure</th>\n",
       "      <th>MonthlyCharges</th>\n",
       "      <th>TotalCharges</th>\n",
       "      <th>InternetService_Fiber</th>\n",
       "      <th>InternetService_No</th>\n",
       "      <th>Contract_One_Year</th>\n",
       "      <th>Contract_Two_year</th>\n",
       "      <th>PaymentMethod_Crcard</th>\n",
       "      <th>...</th>\n",
       "      <th>DeviceProtection_No_internet_serv</th>\n",
       "      <th>DeviceProtection_Yes</th>\n",
       "      <th>TechSupport_No_internet_serv</th>\n",
       "      <th>TechSupport_Yes</th>\n",
       "      <th>StreamingTV_No_internet_serv</th>\n",
       "      <th>StreamingTV_Yes</th>\n",
       "      <th>StreamingMovies_No_internet_serv</th>\n",
       "      <th>StreamingMovies_Yes</th>\n",
       "      <th>PaperlessBilling_Yes</th>\n",
       "      <th>Churn_Yes</th>\n",
       "    </tr>\n",
       "  </thead>\n",
       "  <tbody>\n",
       "    <tr>\n",
       "      <th>0</th>\n",
       "      <td>7590-VHVEG</td>\n",
       "      <td>0</td>\n",
       "      <td>1.0</td>\n",
       "      <td>29.85</td>\n",
       "      <td>29.85</td>\n",
       "      <td>0</td>\n",
       "      <td>0</td>\n",
       "      <td>0</td>\n",
       "      <td>0</td>\n",
       "      <td>0</td>\n",
       "      <td>...</td>\n",
       "      <td>0</td>\n",
       "      <td>0</td>\n",
       "      <td>0</td>\n",
       "      <td>0</td>\n",
       "      <td>0</td>\n",
       "      <td>0</td>\n",
       "      <td>0</td>\n",
       "      <td>0</td>\n",
       "      <td>1</td>\n",
       "      <td>0</td>\n",
       "    </tr>\n",
       "    <tr>\n",
       "      <th>1</th>\n",
       "      <td>5575-GNVDE</td>\n",
       "      <td>0</td>\n",
       "      <td>34.0</td>\n",
       "      <td>56.95</td>\n",
       "      <td>1889.50</td>\n",
       "      <td>0</td>\n",
       "      <td>0</td>\n",
       "      <td>1</td>\n",
       "      <td>0</td>\n",
       "      <td>0</td>\n",
       "      <td>...</td>\n",
       "      <td>0</td>\n",
       "      <td>1</td>\n",
       "      <td>0</td>\n",
       "      <td>0</td>\n",
       "      <td>0</td>\n",
       "      <td>0</td>\n",
       "      <td>0</td>\n",
       "      <td>0</td>\n",
       "      <td>0</td>\n",
       "      <td>0</td>\n",
       "    </tr>\n",
       "    <tr>\n",
       "      <th>2</th>\n",
       "      <td>3668-QPYBK</td>\n",
       "      <td>0</td>\n",
       "      <td>2.0</td>\n",
       "      <td>53.85</td>\n",
       "      <td>108.15</td>\n",
       "      <td>0</td>\n",
       "      <td>0</td>\n",
       "      <td>0</td>\n",
       "      <td>0</td>\n",
       "      <td>0</td>\n",
       "      <td>...</td>\n",
       "      <td>0</td>\n",
       "      <td>0</td>\n",
       "      <td>0</td>\n",
       "      <td>0</td>\n",
       "      <td>0</td>\n",
       "      <td>0</td>\n",
       "      <td>0</td>\n",
       "      <td>0</td>\n",
       "      <td>1</td>\n",
       "      <td>1</td>\n",
       "    </tr>\n",
       "    <tr>\n",
       "      <th>3</th>\n",
       "      <td>7795-CFOCW</td>\n",
       "      <td>0</td>\n",
       "      <td>45.0</td>\n",
       "      <td>42.30</td>\n",
       "      <td>1840.75</td>\n",
       "      <td>0</td>\n",
       "      <td>0</td>\n",
       "      <td>1</td>\n",
       "      <td>0</td>\n",
       "      <td>0</td>\n",
       "      <td>...</td>\n",
       "      <td>0</td>\n",
       "      <td>1</td>\n",
       "      <td>0</td>\n",
       "      <td>1</td>\n",
       "      <td>0</td>\n",
       "      <td>0</td>\n",
       "      <td>0</td>\n",
       "      <td>0</td>\n",
       "      <td>0</td>\n",
       "      <td>0</td>\n",
       "    </tr>\n",
       "    <tr>\n",
       "      <th>4</th>\n",
       "      <td>9237-HQITU</td>\n",
       "      <td>0</td>\n",
       "      <td>2.0</td>\n",
       "      <td>70.70</td>\n",
       "      <td>151.65</td>\n",
       "      <td>1</td>\n",
       "      <td>0</td>\n",
       "      <td>0</td>\n",
       "      <td>0</td>\n",
       "      <td>0</td>\n",
       "      <td>...</td>\n",
       "      <td>0</td>\n",
       "      <td>0</td>\n",
       "      <td>0</td>\n",
       "      <td>0</td>\n",
       "      <td>0</td>\n",
       "      <td>0</td>\n",
       "      <td>0</td>\n",
       "      <td>0</td>\n",
       "      <td>1</td>\n",
       "      <td>1</td>\n",
       "    </tr>\n",
       "  </tbody>\n",
       "</table>\n",
       "<p>5 rows × 32 columns</p>\n",
       "</div>"
      ],
      "text/plain": [
       "   customerID  SeniorCitizen  tenure  MonthlyCharges  TotalCharges  \\\n",
       "0  7590-VHVEG              0     1.0           29.85         29.85   \n",
       "1  5575-GNVDE              0    34.0           56.95       1889.50   \n",
       "2  3668-QPYBK              0     2.0           53.85        108.15   \n",
       "3  7795-CFOCW              0    45.0           42.30       1840.75   \n",
       "4  9237-HQITU              0     2.0           70.70        151.65   \n",
       "\n",
       "   InternetService_Fiber  InternetService_No  Contract_One_Year  \\\n",
       "0                      0                   0                  0   \n",
       "1                      0                   0                  1   \n",
       "2                      0                   0                  0   \n",
       "3                      0                   0                  1   \n",
       "4                      1                   0                  0   \n",
       "\n",
       "   Contract_Two_year  PaymentMethod_Crcard  ...  \\\n",
       "0                  0                     0  ...   \n",
       "1                  0                     0  ...   \n",
       "2                  0                     0  ...   \n",
       "3                  0                     0  ...   \n",
       "4                  0                     0  ...   \n",
       "\n",
       "   DeviceProtection_No_internet_serv  DeviceProtection_Yes  \\\n",
       "0                                  0                     0   \n",
       "1                                  0                     1   \n",
       "2                                  0                     0   \n",
       "3                                  0                     1   \n",
       "4                                  0                     0   \n",
       "\n",
       "   TechSupport_No_internet_serv  TechSupport_Yes  \\\n",
       "0                             0                0   \n",
       "1                             0                0   \n",
       "2                             0                0   \n",
       "3                             0                1   \n",
       "4                             0                0   \n",
       "\n",
       "   StreamingTV_No_internet_serv  StreamingTV_Yes  \\\n",
       "0                             0                0   \n",
       "1                             0                0   \n",
       "2                             0                0   \n",
       "3                             0                0   \n",
       "4                             0                0   \n",
       "\n",
       "   StreamingMovies_No_internet_serv  StreamingMovies_Yes  \\\n",
       "0                                 0                    0   \n",
       "1                                 0                    0   \n",
       "2                                 0                    0   \n",
       "3                                 0                    0   \n",
       "4                                 0                    0   \n",
       "\n",
       "   PaperlessBilling_Yes  Churn_Yes  \n",
       "0                     1          0  \n",
       "1                     0          0  \n",
       "2                     1          1  \n",
       "3                     0          0  \n",
       "4                     1          1  \n",
       "\n",
       "[5 rows x 32 columns]"
      ]
     },
     "execution_count": 3,
     "metadata": {},
     "output_type": "execute_result"
    }
   ],
   "source": [
    "data.head()"
   ]
  },
  {
   "cell_type": "code",
   "execution_count": 4,
   "id": "773cbd3b",
   "metadata": {},
   "outputs": [
    {
     "data": {
      "text/plain": [
       "Index(['customerID', 'SeniorCitizen', 'tenure', 'MonthlyCharges',\n",
       "       'TotalCharges', 'InternetService_Fiber', 'InternetService_No',\n",
       "       'Contract_One_Year', 'Contract_Two_year', 'PaymentMethod_Crcard',\n",
       "       'PaymentMethod_Electr_Check', 'PaymentMethod_Mailed_check',\n",
       "       'MultipleLines_No_phone_serv', 'MultipleLines_Yes', 'Dependents_Yes',\n",
       "       'gender_Male', 'Partner_Yes', 'PhoneService_Yes',\n",
       "       'OnlineSecurity_No_internet_serv', 'OnlineSecurity_Yes',\n",
       "       'OnlineBackup_No_Internet_Serv', 'OnlineBackup_Yes',\n",
       "       'DeviceProtection_No_internet_serv', 'DeviceProtection_Yes',\n",
       "       'TechSupport_No_internet_serv', 'TechSupport_Yes',\n",
       "       'StreamingTV_No_internet_serv', 'StreamingTV_Yes',\n",
       "       'StreamingMovies_No_internet_serv', 'StreamingMovies_Yes',\n",
       "       'PaperlessBilling_Yes', 'Churn_Yes'],\n",
       "      dtype='object')"
      ]
     },
     "execution_count": 4,
     "metadata": {},
     "output_type": "execute_result"
    }
   ],
   "source": [
    "data.columns"
   ]
  },
  {
   "cell_type": "markdown",
   "id": "b6cda65b",
   "metadata": {},
   "source": [
    "### Sklearn defaults to keep in mind\n",
    "- Decision Boundary: 50% cutoff value for positive / negative class\n",
    "- Regularization built in\n",
    "- Hyperparameter C controls effect of model term. Default C=1.0\n",
    "- Set C through validation or cross-validation. Larger C allows model to be more complex.\n",
    "- It's just like the alpha parameter from linear regression regularization, except it multiplies the model term instead of the regularization term. \n",
    "- the regularization term can be the squares of the coefficient betas, like ridge regression, - or it could be the absolute values of those betas, like lasso.\n",
    "- Option to set penalty. Penalty refers to type of regularization penalty:\n",
    "- L2 default means we're squaring the coefficients\n",
    "- L1 set for absolute values. You can also set to elastic net penalty. Or completely turn off regularization. "
   ]
  },
  {
   "cell_type": "code",
   "execution_count": 5,
   "id": "7055d877",
   "metadata": {},
   "outputs": [],
   "source": [
    "features_in = ['SeniorCitizen', 'tenure', 'MonthlyCharges',\n",
    "       'TotalCharges', 'InternetService_Fiber', 'InternetService_No',\n",
    "       'Contract_One_Year', 'Contract_Two_year', 'PaymentMethod_Crcard',\n",
    "       'PaymentMethod_Electr_Check', 'PaymentMethod_Mailed_check',\n",
    "       'MultipleLines_No_phone_serv', 'MultipleLines_Yes', 'Dependents_Yes',\n",
    "       'gender_Male', 'Partner_Yes', 'PhoneService_Yes',\n",
    "       'OnlineSecurity_No_internet_serv', 'OnlineSecurity_Yes',\n",
    "       'OnlineBackup_No_Internet_Serv', 'OnlineBackup_Yes',\n",
    "       'DeviceProtection_No_internet_serv', 'DeviceProtection_Yes',\n",
    "       'TechSupport_No_internet_serv', 'TechSupport_Yes',\n",
    "       'StreamingTV_No_internet_serv', 'StreamingTV_Yes',\n",
    "       'StreamingMovies_No_internet_serv', 'StreamingMovies_Yes',\n",
    "       'PaperlessBilling_Yes']\n",
    "\n",
    "y = data['Churn_Yes']\n",
    "X = data[features_in]\n",
    "\n",
    "X_train, X_test, y_train, y_test = train_test_split(X, y, random_state=42)\n",
    "pipe = make_pipeline(StandardScaler(), LogisticRegression())"
   ]
  },
  {
   "cell_type": "code",
   "execution_count": 6,
   "id": "9cf1d46f",
   "metadata": {},
   "outputs": [],
   "source": [
    "# print(X_train.shape)\n",
    "# print(X_test.shape)\n",
    "# print(y_train.shape)\n",
    "# print(y_test.shape)"
   ]
  },
  {
   "cell_type": "code",
   "execution_count": 7,
   "id": "98d3cc95",
   "metadata": {},
   "outputs": [
    {
     "data": {
      "text/html": [
       "<style>#sk-container-id-1 {color: black;background-color: white;}#sk-container-id-1 pre{padding: 0;}#sk-container-id-1 div.sk-toggleable {background-color: white;}#sk-container-id-1 label.sk-toggleable__label {cursor: pointer;display: block;width: 100%;margin-bottom: 0;padding: 0.3em;box-sizing: border-box;text-align: center;}#sk-container-id-1 label.sk-toggleable__label-arrow:before {content: \"▸\";float: left;margin-right: 0.25em;color: #696969;}#sk-container-id-1 label.sk-toggleable__label-arrow:hover:before {color: black;}#sk-container-id-1 div.sk-estimator:hover label.sk-toggleable__label-arrow:before {color: black;}#sk-container-id-1 div.sk-toggleable__content {max-height: 0;max-width: 0;overflow: hidden;text-align: left;background-color: #f0f8ff;}#sk-container-id-1 div.sk-toggleable__content pre {margin: 0.2em;color: black;border-radius: 0.25em;background-color: #f0f8ff;}#sk-container-id-1 input.sk-toggleable__control:checked~div.sk-toggleable__content {max-height: 200px;max-width: 100%;overflow: auto;}#sk-container-id-1 input.sk-toggleable__control:checked~label.sk-toggleable__label-arrow:before {content: \"▾\";}#sk-container-id-1 div.sk-estimator input.sk-toggleable__control:checked~label.sk-toggleable__label {background-color: #d4ebff;}#sk-container-id-1 div.sk-label input.sk-toggleable__control:checked~label.sk-toggleable__label {background-color: #d4ebff;}#sk-container-id-1 input.sk-hidden--visually {border: 0;clip: rect(1px 1px 1px 1px);clip: rect(1px, 1px, 1px, 1px);height: 1px;margin: -1px;overflow: hidden;padding: 0;position: absolute;width: 1px;}#sk-container-id-1 div.sk-estimator {font-family: monospace;background-color: #f0f8ff;border: 1px dotted black;border-radius: 0.25em;box-sizing: border-box;margin-bottom: 0.5em;}#sk-container-id-1 div.sk-estimator:hover {background-color: #d4ebff;}#sk-container-id-1 div.sk-parallel-item::after {content: \"\";width: 100%;border-bottom: 1px solid gray;flex-grow: 1;}#sk-container-id-1 div.sk-label:hover label.sk-toggleable__label {background-color: #d4ebff;}#sk-container-id-1 div.sk-serial::before {content: \"\";position: absolute;border-left: 1px solid gray;box-sizing: border-box;top: 0;bottom: 0;left: 50%;z-index: 0;}#sk-container-id-1 div.sk-serial {display: flex;flex-direction: column;align-items: center;background-color: white;padding-right: 0.2em;padding-left: 0.2em;position: relative;}#sk-container-id-1 div.sk-item {position: relative;z-index: 1;}#sk-container-id-1 div.sk-parallel {display: flex;align-items: stretch;justify-content: center;background-color: white;position: relative;}#sk-container-id-1 div.sk-item::before, #sk-container-id-1 div.sk-parallel-item::before {content: \"\";position: absolute;border-left: 1px solid gray;box-sizing: border-box;top: 0;bottom: 0;left: 50%;z-index: -1;}#sk-container-id-1 div.sk-parallel-item {display: flex;flex-direction: column;z-index: 1;position: relative;background-color: white;}#sk-container-id-1 div.sk-parallel-item:first-child::after {align-self: flex-end;width: 50%;}#sk-container-id-1 div.sk-parallel-item:last-child::after {align-self: flex-start;width: 50%;}#sk-container-id-1 div.sk-parallel-item:only-child::after {width: 0;}#sk-container-id-1 div.sk-dashed-wrapped {border: 1px dashed gray;margin: 0 0.4em 0.5em 0.4em;box-sizing: border-box;padding-bottom: 0.4em;background-color: white;}#sk-container-id-1 div.sk-label label {font-family: monospace;font-weight: bold;display: inline-block;line-height: 1.2em;}#sk-container-id-1 div.sk-label-container {text-align: center;}#sk-container-id-1 div.sk-container {/* jupyter's `normalize.less` sets `[hidden] { display: none; }` but bootstrap.min.css set `[hidden] { display: none !important; }` so we also need the `!important` here to be able to override the default hidden behavior on the sphinx rendered scikit-learn.org. See: https://github.com/scikit-learn/scikit-learn/issues/21755 */display: inline-block !important;position: relative;}#sk-container-id-1 div.sk-text-repr-fallback {display: none;}</style><div id=\"sk-container-id-1\" class=\"sk-top-container\"><div class=\"sk-text-repr-fallback\"><pre>Pipeline(steps=[(&#x27;standardscaler&#x27;, StandardScaler()),\n",
       "                (&#x27;logisticregression&#x27;, LogisticRegression())])</pre><b>In a Jupyter environment, please rerun this cell to show the HTML representation or trust the notebook. <br />On GitHub, the HTML representation is unable to render, please try loading this page with nbviewer.org.</b></div><div class=\"sk-container\" hidden><div class=\"sk-item sk-dashed-wrapped\"><div class=\"sk-label-container\"><div class=\"sk-label sk-toggleable\"><input class=\"sk-toggleable__control sk-hidden--visually\" id=\"sk-estimator-id-1\" type=\"checkbox\" ><label for=\"sk-estimator-id-1\" class=\"sk-toggleable__label sk-toggleable__label-arrow\">Pipeline</label><div class=\"sk-toggleable__content\"><pre>Pipeline(steps=[(&#x27;standardscaler&#x27;, StandardScaler()),\n",
       "                (&#x27;logisticregression&#x27;, LogisticRegression())])</pre></div></div></div><div class=\"sk-serial\"><div class=\"sk-item\"><div class=\"sk-estimator sk-toggleable\"><input class=\"sk-toggleable__control sk-hidden--visually\" id=\"sk-estimator-id-2\" type=\"checkbox\" ><label for=\"sk-estimator-id-2\" class=\"sk-toggleable__label sk-toggleable__label-arrow\">StandardScaler</label><div class=\"sk-toggleable__content\"><pre>StandardScaler()</pre></div></div></div><div class=\"sk-item\"><div class=\"sk-estimator sk-toggleable\"><input class=\"sk-toggleable__control sk-hidden--visually\" id=\"sk-estimator-id-3\" type=\"checkbox\" ><label for=\"sk-estimator-id-3\" class=\"sk-toggleable__label sk-toggleable__label-arrow\">LogisticRegression</label><div class=\"sk-toggleable__content\"><pre>LogisticRegression()</pre></div></div></div></div></div></div></div>"
      ],
      "text/plain": [
       "Pipeline(steps=[('standardscaler', StandardScaler()),\n",
       "                ('logisticregression', LogisticRegression())])"
      ]
     },
     "execution_count": 7,
     "metadata": {},
     "output_type": "execute_result"
    }
   ],
   "source": [
    "pipe.fit(X_train, y_train)  # apply scaling on training data"
   ]
  },
  {
   "cell_type": "markdown",
   "id": "4a8dcac9",
   "metadata": {},
   "source": [
    "### Accuracy metric on test data"
   ]
  },
  {
   "cell_type": "code",
   "execution_count": 8,
   "id": "0b2f50e9",
   "metadata": {},
   "outputs": [
    {
     "data": {
      "text/plain": [
       "0.7895335608646189"
      ]
     },
     "execution_count": 8,
     "metadata": {},
     "output_type": "execute_result"
    }
   ],
   "source": [
    "pipe.score(X_test, y_test)  # apply scaling on testing data, without leaking training data."
   ]
  },
  {
   "cell_type": "markdown",
   "id": "095dc359",
   "metadata": {},
   "source": [
    "### See how our training data is doing"
   ]
  },
  {
   "cell_type": "markdown",
   "id": "a4875bb4",
   "metadata": {},
   "source": [
    "##### Average Rate of Churn on Test Data"
   ]
  },
  {
   "cell_type": "code",
   "execution_count": 9,
   "id": "9039abd0",
   "metadata": {},
   "outputs": [
    {
     "data": {
      "text/plain": [
       "0.2605233219567691"
      ]
     },
     "execution_count": 9,
     "metadata": {},
     "output_type": "execute_result"
    }
   ],
   "source": [
    "np.mean(y_test)"
   ]
  },
  {
   "cell_type": "markdown",
   "id": "c7f34c10",
   "metadata": {},
   "source": [
    "#### Hard Class Predictions\n",
    "Predict Churn / Not Churn"
   ]
  },
  {
   "cell_type": "code",
   "execution_count": 25,
   "id": "6c06140b",
   "metadata": {},
   "outputs": [],
   "source": [
    "y_pred_tst = pipe.predict(X_test)"
   ]
  },
  {
   "cell_type": "code",
   "execution_count": 26,
   "id": "a953b610",
   "metadata": {},
   "outputs": [
    {
     "data": {
      "text/plain": [
       "array([0, 0, 1, ..., 0, 0, 0])"
      ]
     },
     "execution_count": 26,
     "metadata": {},
     "output_type": "execute_result"
    }
   ],
   "source": [
    "y_pred_tst"
   ]
  },
  {
   "cell_type": "markdown",
   "id": "1fb5b953",
   "metadata": {},
   "source": [
    "#### Soft Class Predictions\n",
    "If class labels strings Sklearn displays in alphabetical order. If numerical class labels they'll be in ascending order"
   ]
  },
  {
   "cell_type": "code",
   "execution_count": 11,
   "id": "f3baabb6",
   "metadata": {},
   "outputs": [
    {
     "data": {
      "text/plain": [
       "array([[0.99479267, 0.00520733],\n",
       "       [0.8773139 , 0.1226861 ],\n",
       "       [0.30829241, 0.69170759],\n",
       "       [0.88565903, 0.11434097],\n",
       "       [0.63613899, 0.36386101]])"
      ]
     },
     "execution_count": 11,
     "metadata": {},
     "output_type": "execute_result"
    }
   ],
   "source": [
    "pipe.predict_proba(X_test)[:5]"
   ]
  },
  {
   "cell_type": "markdown",
   "id": "4a76f654",
   "metadata": {},
   "source": [
    "### Accuracy\n",
    "Percentage of observations that were correctly classified.\n",
    "When one class is significantly less common that the other accuracy is often not the most helpful metric to optimize."
   ]
  },
  {
   "cell_type": "code",
   "execution_count": 12,
   "id": "ee07ae95",
   "metadata": {},
   "outputs": [
    {
     "data": {
      "text/plain": [
       "0.8065984072810012"
      ]
     },
     "execution_count": 12,
     "metadata": {},
     "output_type": "execute_result"
    }
   ],
   "source": [
    "#accuracy score on train data\n",
    "pipe.score(X_train, y_train)"
   ]
  },
  {
   "cell_type": "code",
   "execution_count": 13,
   "id": "c4ee15e0",
   "metadata": {},
   "outputs": [
    {
     "data": {
      "text/plain": [
       "0.7895335608646189"
      ]
     },
     "execution_count": 13,
     "metadata": {},
     "output_type": "execute_result"
    }
   ],
   "source": [
    "#accuracy score on test data\n",
    "pipe.score(X_test, y_test)"
   ]
  },
  {
   "cell_type": "markdown",
   "id": "4df42d3e",
   "metadata": {},
   "source": [
    "### Confusion Matrix"
   ]
  },
  {
   "cell_type": "code",
   "execution_count": 14,
   "id": "787b646e",
   "metadata": {},
   "outputs": [],
   "source": [
    "#sklearn.metrics.confusion_matrix(y_true, y_pred, *, labels=None, sample_weight=None, normalize=None)"
   ]
  },
  {
   "cell_type": "code",
   "execution_count": 27,
   "id": "f35d5f5e",
   "metadata": {},
   "outputs": [
    {
     "data": {
      "image/png": "[encoded data removed]",
      "text/plain": [
       "<Figure size 960x720 with 2 Axes>"
      ]
     },
     "metadata": {},
     "output_type": "display_data"
    }
   ],
   "source": [
    "# confusion matrix for logistic regression\n",
    "logreg_confusion = confusion_matrix(y_test, y_pred_tst)\n",
    "plt.figure(dpi=150)\n",
    "sns.heatmap(logreg_confusion, cmap=plt.cm.Blues, annot=True, square=True,\n",
    "           xticklabels=data['Churn_Yes'],\n",
    "           yticklabels=data['Churn_Yes'])\n",
    "\n",
    "plt.xlabel('Predicted')\n",
    "plt.ylabel('Actual')\n",
    "plt.title('Logistic regression confusion matrix');\n",
    "\n",
    "#plt.savefig(\"confusion_matrix_log_reg\")"
   ]
  },
  {
   "cell_type": "markdown",
   "id": "85ecf33a",
   "metadata": {},
   "source": [
    "### Interpreting Coefficients\n",
    "- One unit of increase in x actually increases the log odds by beta units. \n",
    "- In other words: One unit of increase in x, increases the odds by an exponential factor of beta.\n",
    "- If the features coefficient beta is positive, increasing that feature makes the positive class more likely\n",
    "- If beta is negative, increasing the feature does the opposite and the positive class becomes less likely"
   ]
  },
  {
   "cell_type": "code",
   "execution_count": null,
   "id": "abe6b1cc",
   "metadata": {},
   "outputs": [],
   "source": [
    "pipe.coef_, pipe.intercept_"
   ]
  },
  {
   "cell_type": "markdown",
   "id": "9cf79849",
   "metadata": {},
   "source": [
    "### Determine if class imbalance\n",
    "- In your case you would compare the percent of your data points with churn == True vs churn == False\n",
    "- Code example to determine which features have imbalance:\n",
    "https://elitedatascience.com/imbalanced-classes\n",
    "https://stackoverflow.com/questions/67287472/how-can-i-find-whether-my-dataset-is-balanced-or-not"
   ]
  },
  {
   "cell_type": "code",
   "execution_count": null,
   "id": "e25b0e37",
   "metadata": {},
   "outputs": [],
   "source": []
  }
 ],
 "metadata": {
  "kernelspec": {
   "display_name": "Python 3 (ipykernel)",
   "language": "python",
   "name": "python3"
  },
  "language_info": {
   "codemirror_mode": {
    "name": "ipython",
    "version": 3
   },
   "file_extension": ".py",
   "mimetype": "text/x-python",
   "name": "python",
   "nbconvert_exporter": "python",
   "pygments_lexer": "ipython3",
   "version": "3.9.7"
  }
 },
 "nbformat": 4,
 "nbformat_minor": 5
}
