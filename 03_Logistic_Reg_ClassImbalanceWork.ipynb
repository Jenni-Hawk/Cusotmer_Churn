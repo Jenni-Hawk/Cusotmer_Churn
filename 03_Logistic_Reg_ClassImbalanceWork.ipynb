{
 "cells": [
  {
   "cell_type": "markdown",
   "id": "76819d85",
   "metadata": {},
   "source": [
    "### Which metric is important to your client? \n",
    "- Recall over Precision: Recall. It would be better to cast the net wider and provide interventions to more potential churn customers than to pull back and miss potential churn customers. The business investment is in creative development of interventions - so if some people that are misclassified get these interventions it shouldn't incur huge costs. The creative guideline would be not to call out people directly. "
   ]
  },
  {
   "cell_type": "code",
   "execution_count": 1,
   "id": "f76c3887",
   "metadata": {},
   "outputs": [],
   "source": [
    "import pandas as pd\n",
    "import numpy as np\n",
    "import matplotlib.pyplot as plt\n",
    "import seaborn as sns\n",
    "\n",
    "from sklearn.linear_model import LogisticRegression\n",
    "from sklearn.model_selection import train_test_split\n",
    "from sklearn.pipeline import make_pipeline\n",
    "from sklearn.pipeline import Pipeline\n",
    "from sklearn.preprocessing import StandardScaler\n",
    "from ipywidgets import interactive, FloatSlider\n",
    "\n",
    "import imblearn.over_sampling\n",
    "\n",
    "from sklearn.metrics import accuracy_score, confusion_matrix, precision_score, recall_score, f1_score, roc_auc_score, roc_curve \n",
    "\n",
    "%matplotlib inline"
   ]
  },
  {
   "cell_type": "code",
   "execution_count": 2,
   "id": "35e9f137",
   "metadata": {},
   "outputs": [],
   "source": [
    "data = pd.read_csv('/Users/jennihawk/Documents/Data Science/Classification/Churn Project/Models/chatr_clean.csv')"
   ]
  },
  {
   "cell_type": "code",
   "execution_count": 3,
   "id": "1baa799d",
   "metadata": {},
   "outputs": [
    {
     "data": {
      "text/html": [
       "<div>\n",
       "<style scoped>\n",
       "    .dataframe tbody tr th:only-of-type {\n",
       "        vertical-align: middle;\n",
       "    }\n",
       "\n",
       "    .dataframe tbody tr th {\n",
       "        vertical-align: top;\n",
       "    }\n",
       "\n",
       "    .dataframe thead th {\n",
       "        text-align: right;\n",
       "    }\n",
       "</style>\n",
       "<table border=\"1\" class=\"dataframe\">\n",
       "  <thead>\n",
       "    <tr style=\"text-align: right;\">\n",
       "      <th></th>\n",
       "      <th>customerID</th>\n",
       "      <th>SeniorCitizen</th>\n",
       "      <th>tenure</th>\n",
       "      <th>MonthlyCharges</th>\n",
       "      <th>TotalCharges</th>\n",
       "      <th>InternetService_Fiber</th>\n",
       "      <th>InternetService_No</th>\n",
       "      <th>Contract_One_Year</th>\n",
       "      <th>Contract_Two_year</th>\n",
       "      <th>PaymentMethod_Crcard</th>\n",
       "      <th>...</th>\n",
       "      <th>DeviceProtection_No_internet_serv</th>\n",
       "      <th>DeviceProtection_Yes</th>\n",
       "      <th>TechSupport_No_internet_serv</th>\n",
       "      <th>TechSupport_Yes</th>\n",
       "      <th>StreamingTV_No_internet_serv</th>\n",
       "      <th>StreamingTV_Yes</th>\n",
       "      <th>StreamingMovies_No_internet_serv</th>\n",
       "      <th>StreamingMovies_Yes</th>\n",
       "      <th>PaperlessBilling_Yes</th>\n",
       "      <th>Churn_Yes</th>\n",
       "    </tr>\n",
       "  </thead>\n",
       "  <tbody>\n",
       "    <tr>\n",
       "      <th>0</th>\n",
       "      <td>7590-VHVEG</td>\n",
       "      <td>0</td>\n",
       "      <td>1.0</td>\n",
       "      <td>29.85</td>\n",
       "      <td>29.85</td>\n",
       "      <td>0</td>\n",
       "      <td>0</td>\n",
       "      <td>0</td>\n",
       "      <td>0</td>\n",
       "      <td>0</td>\n",
       "      <td>...</td>\n",
       "      <td>0</td>\n",
       "      <td>0</td>\n",
       "      <td>0</td>\n",
       "      <td>0</td>\n",
       "      <td>0</td>\n",
       "      <td>0</td>\n",
       "      <td>0</td>\n",
       "      <td>0</td>\n",
       "      <td>1</td>\n",
       "      <td>0</td>\n",
       "    </tr>\n",
       "    <tr>\n",
       "      <th>1</th>\n",
       "      <td>5575-GNVDE</td>\n",
       "      <td>0</td>\n",
       "      <td>34.0</td>\n",
       "      <td>56.95</td>\n",
       "      <td>1889.50</td>\n",
       "      <td>0</td>\n",
       "      <td>0</td>\n",
       "      <td>1</td>\n",
       "      <td>0</td>\n",
       "      <td>0</td>\n",
       "      <td>...</td>\n",
       "      <td>0</td>\n",
       "      <td>1</td>\n",
       "      <td>0</td>\n",
       "      <td>0</td>\n",
       "      <td>0</td>\n",
       "      <td>0</td>\n",
       "      <td>0</td>\n",
       "      <td>0</td>\n",
       "      <td>0</td>\n",
       "      <td>0</td>\n",
       "    </tr>\n",
       "    <tr>\n",
       "      <th>2</th>\n",
       "      <td>3668-QPYBK</td>\n",
       "      <td>0</td>\n",
       "      <td>2.0</td>\n",
       "      <td>53.85</td>\n",
       "      <td>108.15</td>\n",
       "      <td>0</td>\n",
       "      <td>0</td>\n",
       "      <td>0</td>\n",
       "      <td>0</td>\n",
       "      <td>0</td>\n",
       "      <td>...</td>\n",
       "      <td>0</td>\n",
       "      <td>0</td>\n",
       "      <td>0</td>\n",
       "      <td>0</td>\n",
       "      <td>0</td>\n",
       "      <td>0</td>\n",
       "      <td>0</td>\n",
       "      <td>0</td>\n",
       "      <td>1</td>\n",
       "      <td>1</td>\n",
       "    </tr>\n",
       "    <tr>\n",
       "      <th>3</th>\n",
       "      <td>7795-CFOCW</td>\n",
       "      <td>0</td>\n",
       "      <td>45.0</td>\n",
       "      <td>42.30</td>\n",
       "      <td>1840.75</td>\n",
       "      <td>0</td>\n",
       "      <td>0</td>\n",
       "      <td>1</td>\n",
       "      <td>0</td>\n",
       "      <td>0</td>\n",
       "      <td>...</td>\n",
       "      <td>0</td>\n",
       "      <td>1</td>\n",
       "      <td>0</td>\n",
       "      <td>1</td>\n",
       "      <td>0</td>\n",
       "      <td>0</td>\n",
       "      <td>0</td>\n",
       "      <td>0</td>\n",
       "      <td>0</td>\n",
       "      <td>0</td>\n",
       "    </tr>\n",
       "    <tr>\n",
       "      <th>4</th>\n",
       "      <td>9237-HQITU</td>\n",
       "      <td>0</td>\n",
       "      <td>2.0</td>\n",
       "      <td>70.70</td>\n",
       "      <td>151.65</td>\n",
       "      <td>1</td>\n",
       "      <td>0</td>\n",
       "      <td>0</td>\n",
       "      <td>0</td>\n",
       "      <td>0</td>\n",
       "      <td>...</td>\n",
       "      <td>0</td>\n",
       "      <td>0</td>\n",
       "      <td>0</td>\n",
       "      <td>0</td>\n",
       "      <td>0</td>\n",
       "      <td>0</td>\n",
       "      <td>0</td>\n",
       "      <td>0</td>\n",
       "      <td>1</td>\n",
       "      <td>1</td>\n",
       "    </tr>\n",
       "  </tbody>\n",
       "</table>\n",
       "<p>5 rows × 32 columns</p>\n",
       "</div>"
      ],
      "text/plain": [
       "   customerID  SeniorCitizen  tenure  MonthlyCharges  TotalCharges  \\\n",
       "0  7590-VHVEG              0     1.0           29.85         29.85   \n",
       "1  5575-GNVDE              0    34.0           56.95       1889.50   \n",
       "2  3668-QPYBK              0     2.0           53.85        108.15   \n",
       "3  7795-CFOCW              0    45.0           42.30       1840.75   \n",
       "4  9237-HQITU              0     2.0           70.70        151.65   \n",
       "\n",
       "   InternetService_Fiber  InternetService_No  Contract_One_Year  \\\n",
       "0                      0                   0                  0   \n",
       "1                      0                   0                  1   \n",
       "2                      0                   0                  0   \n",
       "3                      0                   0                  1   \n",
       "4                      1                   0                  0   \n",
       "\n",
       "   Contract_Two_year  PaymentMethod_Crcard  ...  \\\n",
       "0                  0                     0  ...   \n",
       "1                  0                     0  ...   \n",
       "2                  0                     0  ...   \n",
       "3                  0                     0  ...   \n",
       "4                  0                     0  ...   \n",
       "\n",
       "   DeviceProtection_No_internet_serv  DeviceProtection_Yes  \\\n",
       "0                                  0                     0   \n",
       "1                                  0                     1   \n",
       "2                                  0                     0   \n",
       "3                                  0                     1   \n",
       "4                                  0                     0   \n",
       "\n",
       "   TechSupport_No_internet_serv  TechSupport_Yes  \\\n",
       "0                             0                0   \n",
       "1                             0                0   \n",
       "2                             0                0   \n",
       "3                             0                1   \n",
       "4                             0                0   \n",
       "\n",
       "   StreamingTV_No_internet_serv  StreamingTV_Yes  \\\n",
       "0                             0                0   \n",
       "1                             0                0   \n",
       "2                             0                0   \n",
       "3                             0                0   \n",
       "4                             0                0   \n",
       "\n",
       "   StreamingMovies_No_internet_serv  StreamingMovies_Yes  \\\n",
       "0                                 0                    0   \n",
       "1                                 0                    0   \n",
       "2                                 0                    0   \n",
       "3                                 0                    0   \n",
       "4                                 0                    0   \n",
       "\n",
       "   PaperlessBilling_Yes  Churn_Yes  \n",
       "0                     1          0  \n",
       "1                     0          0  \n",
       "2                     1          1  \n",
       "3                     0          0  \n",
       "4                     1          1  \n",
       "\n",
       "[5 rows x 32 columns]"
      ]
     },
     "execution_count": 3,
     "metadata": {},
     "output_type": "execute_result"
    }
   ],
   "source": [
    "data.head()"
   ]
  },
  {
   "cell_type": "code",
   "execution_count": 4,
   "id": "06c19a68",
   "metadata": {},
   "outputs": [],
   "source": [
    "#data.info()"
   ]
  },
  {
   "cell_type": "code",
   "execution_count": 5,
   "id": "773cbd3b",
   "metadata": {},
   "outputs": [
    {
     "data": {
      "text/plain": [
       "Index(['customerID', 'SeniorCitizen', 'tenure', 'MonthlyCharges',\n",
       "       'TotalCharges', 'InternetService_Fiber', 'InternetService_No',\n",
       "       'Contract_One_Year', 'Contract_Two_year', 'PaymentMethod_Crcard',\n",
       "       'PaymentMethod_Electr_Check', 'PaymentMethod_Mailed_check',\n",
       "       'MultipleLines_No_phone_serv', 'MultipleLines_Yes', 'Dependents_Yes',\n",
       "       'gender_Male', 'Partner_Yes', 'PhoneService_Yes',\n",
       "       'OnlineSecurity_No_internet_serv', 'OnlineSecurity_Yes',\n",
       "       'OnlineBackup_No_Internet_Serv', 'OnlineBackup_Yes',\n",
       "       'DeviceProtection_No_internet_serv', 'DeviceProtection_Yes',\n",
       "       'TechSupport_No_internet_serv', 'TechSupport_Yes',\n",
       "       'StreamingTV_No_internet_serv', 'StreamingTV_Yes',\n",
       "       'StreamingMovies_No_internet_serv', 'StreamingMovies_Yes',\n",
       "       'PaperlessBilling_Yes', 'Churn_Yes'],\n",
       "      dtype='object')"
      ]
     },
     "execution_count": 5,
     "metadata": {},
     "output_type": "execute_result"
    }
   ],
   "source": [
    "data.columns"
   ]
  },
  {
   "cell_type": "markdown",
   "id": "1503498d",
   "metadata": {},
   "source": [
    "### Model Setup"
   ]
  },
  {
   "cell_type": "code",
   "execution_count": 6,
   "id": "7055d877",
   "metadata": {},
   "outputs": [],
   "source": [
    "features_in = ['SeniorCitizen', 'tenure', 'MonthlyCharges',\n",
    "       'TotalCharges', 'InternetService_Fiber', 'InternetService_No',\n",
    "       'Contract_One_Year', 'Contract_Two_year', 'PaymentMethod_Crcard',\n",
    "       'PaymentMethod_Electr_Check', 'PaymentMethod_Mailed_check',\n",
    "       'MultipleLines_No_phone_serv', 'MultipleLines_Yes', 'Dependents_Yes',\n",
    "       'gender_Male', 'Partner_Yes', 'PhoneService_Yes',\n",
    "       'OnlineSecurity_No_internet_serv', 'OnlineSecurity_Yes',\n",
    "       'OnlineBackup_No_Internet_Serv', 'OnlineBackup_Yes',\n",
    "       'DeviceProtection_No_internet_serv', 'DeviceProtection_Yes',\n",
    "       'TechSupport_No_internet_serv', 'TechSupport_Yes',\n",
    "       'StreamingTV_No_internet_serv', 'StreamingTV_Yes',\n",
    "       'StreamingMovies_No_internet_serv', 'StreamingMovies_Yes',\n",
    "       'PaperlessBilling_Yes']\n",
    "\n",
    "y = data['Churn_Yes']\n",
    "X = data[features_in]\n",
    "\n",
    "X_train, X_test, y_train, y_test = train_test_split(X, y, random_state=42)\n",
    "\n",
    "pipe = Pipeline([('scaler', StandardScaler()), ('LogReg', LogisticRegression())])"
   ]
  },
  {
   "cell_type": "code",
   "execution_count": 7,
   "id": "9cf1d46f",
   "metadata": {},
   "outputs": [
    {
     "name": "stdout",
     "output_type": "stream",
     "text": [
      "(5274, 30)\n",
      "(1758, 30)\n",
      "(5274,)\n",
      "(1758,)\n"
     ]
    }
   ],
   "source": [
    "print(X_train.shape)\n",
    "print(X_test.shape)\n",
    "print(y_train.shape)\n",
    "print(y_test.shape)"
   ]
  },
  {
   "cell_type": "markdown",
   "id": "45231ed1",
   "metadata": {},
   "source": [
    "### Fit Logistic Regression to Training Data"
   ]
  },
  {
   "cell_type": "code",
   "execution_count": 8,
   "id": "98f3ae5d",
   "metadata": {},
   "outputs": [
    {
     "data": {
      "text/html": [
       "<style>#sk-container-id-1 {color: black;background-color: white;}#sk-container-id-1 pre{padding: 0;}#sk-container-id-1 div.sk-toggleable {background-color: white;}#sk-container-id-1 label.sk-toggleable__label {cursor: pointer;display: block;width: 100%;margin-bottom: 0;padding: 0.3em;box-sizing: border-box;text-align: center;}#sk-container-id-1 label.sk-toggleable__label-arrow:before {content: \"▸\";float: left;margin-right: 0.25em;color: #696969;}#sk-container-id-1 label.sk-toggleable__label-arrow:hover:before {color: black;}#sk-container-id-1 div.sk-estimator:hover label.sk-toggleable__label-arrow:before {color: black;}#sk-container-id-1 div.sk-toggleable__content {max-height: 0;max-width: 0;overflow: hidden;text-align: left;background-color: #f0f8ff;}#sk-container-id-1 div.sk-toggleable__content pre {margin: 0.2em;color: black;border-radius: 0.25em;background-color: #f0f8ff;}#sk-container-id-1 input.sk-toggleable__control:checked~div.sk-toggleable__content {max-height: 200px;max-width: 100%;overflow: auto;}#sk-container-id-1 input.sk-toggleable__control:checked~label.sk-toggleable__label-arrow:before {content: \"▾\";}#sk-container-id-1 div.sk-estimator input.sk-toggleable__control:checked~label.sk-toggleable__label {background-color: #d4ebff;}#sk-container-id-1 div.sk-label input.sk-toggleable__control:checked~label.sk-toggleable__label {background-color: #d4ebff;}#sk-container-id-1 input.sk-hidden--visually {border: 0;clip: rect(1px 1px 1px 1px);clip: rect(1px, 1px, 1px, 1px);height: 1px;margin: -1px;overflow: hidden;padding: 0;position: absolute;width: 1px;}#sk-container-id-1 div.sk-estimator {font-family: monospace;background-color: #f0f8ff;border: 1px dotted black;border-radius: 0.25em;box-sizing: border-box;margin-bottom: 0.5em;}#sk-container-id-1 div.sk-estimator:hover {background-color: #d4ebff;}#sk-container-id-1 div.sk-parallel-item::after {content: \"\";width: 100%;border-bottom: 1px solid gray;flex-grow: 1;}#sk-container-id-1 div.sk-label:hover label.sk-toggleable__label {background-color: #d4ebff;}#sk-container-id-1 div.sk-serial::before {content: \"\";position: absolute;border-left: 1px solid gray;box-sizing: border-box;top: 0;bottom: 0;left: 50%;z-index: 0;}#sk-container-id-1 div.sk-serial {display: flex;flex-direction: column;align-items: center;background-color: white;padding-right: 0.2em;padding-left: 0.2em;position: relative;}#sk-container-id-1 div.sk-item {position: relative;z-index: 1;}#sk-container-id-1 div.sk-parallel {display: flex;align-items: stretch;justify-content: center;background-color: white;position: relative;}#sk-container-id-1 div.sk-item::before, #sk-container-id-1 div.sk-parallel-item::before {content: \"\";position: absolute;border-left: 1px solid gray;box-sizing: border-box;top: 0;bottom: 0;left: 50%;z-index: -1;}#sk-container-id-1 div.sk-parallel-item {display: flex;flex-direction: column;z-index: 1;position: relative;background-color: white;}#sk-container-id-1 div.sk-parallel-item:first-child::after {align-self: flex-end;width: 50%;}#sk-container-id-1 div.sk-parallel-item:last-child::after {align-self: flex-start;width: 50%;}#sk-container-id-1 div.sk-parallel-item:only-child::after {width: 0;}#sk-container-id-1 div.sk-dashed-wrapped {border: 1px dashed gray;margin: 0 0.4em 0.5em 0.4em;box-sizing: border-box;padding-bottom: 0.4em;background-color: white;}#sk-container-id-1 div.sk-label label {font-family: monospace;font-weight: bold;display: inline-block;line-height: 1.2em;}#sk-container-id-1 div.sk-label-container {text-align: center;}#sk-container-id-1 div.sk-container {/* jupyter's `normalize.less` sets `[hidden] { display: none; }` but bootstrap.min.css set `[hidden] { display: none !important; }` so we also need the `!important` here to be able to override the default hidden behavior on the sphinx rendered scikit-learn.org. See: https://github.com/scikit-learn/scikit-learn/issues/21755 */display: inline-block !important;position: relative;}#sk-container-id-1 div.sk-text-repr-fallback {display: none;}</style><div id=\"sk-container-id-1\" class=\"sk-top-container\"><div class=\"sk-text-repr-fallback\"><pre>Pipeline(steps=[(&#x27;scaler&#x27;, StandardScaler()), (&#x27;LogReg&#x27;, LogisticRegression())])</pre><b>In a Jupyter environment, please rerun this cell to show the HTML representation or trust the notebook. <br />On GitHub, the HTML representation is unable to render, please try loading this page with nbviewer.org.</b></div><div class=\"sk-container\" hidden><div class=\"sk-item sk-dashed-wrapped\"><div class=\"sk-label-container\"><div class=\"sk-label sk-toggleable\"><input class=\"sk-toggleable__control sk-hidden--visually\" id=\"sk-estimator-id-1\" type=\"checkbox\" ><label for=\"sk-estimator-id-1\" class=\"sk-toggleable__label sk-toggleable__label-arrow\">Pipeline</label><div class=\"sk-toggleable__content\"><pre>Pipeline(steps=[(&#x27;scaler&#x27;, StandardScaler()), (&#x27;LogReg&#x27;, LogisticRegression())])</pre></div></div></div><div class=\"sk-serial\"><div class=\"sk-item\"><div class=\"sk-estimator sk-toggleable\"><input class=\"sk-toggleable__control sk-hidden--visually\" id=\"sk-estimator-id-2\" type=\"checkbox\" ><label for=\"sk-estimator-id-2\" class=\"sk-toggleable__label sk-toggleable__label-arrow\">StandardScaler</label><div class=\"sk-toggleable__content\"><pre>StandardScaler()</pre></div></div></div><div class=\"sk-item\"><div class=\"sk-estimator sk-toggleable\"><input class=\"sk-toggleable__control sk-hidden--visually\" id=\"sk-estimator-id-3\" type=\"checkbox\" ><label for=\"sk-estimator-id-3\" class=\"sk-toggleable__label sk-toggleable__label-arrow\">LogisticRegression</label><div class=\"sk-toggleable__content\"><pre>LogisticRegression()</pre></div></div></div></div></div></div></div>"
      ],
      "text/plain": [
       "Pipeline(steps=[('scaler', StandardScaler()), ('LogReg', LogisticRegression())])"
      ]
     },
     "execution_count": 8,
     "metadata": {},
     "output_type": "execute_result"
    }
   ],
   "source": [
    "pipe.fit(X_train, y_train)  # applies scaling on training data"
   ]
  },
  {
   "cell_type": "markdown",
   "id": "095dc359",
   "metadata": {},
   "source": [
    "### Metrics"
   ]
  },
  {
   "cell_type": "markdown",
   "id": "a4875bb4",
   "metadata": {},
   "source": [
    "#### Average Rate of Churn on Test Data\n",
    "- See if you have class imbalance\n",
    "- Since I don't have 50% average churn - there's a class imbalance"
   ]
  },
  {
   "cell_type": "code",
   "execution_count": 9,
   "id": "1fa61168",
   "metadata": {},
   "outputs": [
    {
     "data": {
      "text/plain": [
       "0.26753886992794845"
      ]
     },
     "execution_count": 9,
     "metadata": {},
     "output_type": "execute_result"
    }
   ],
   "source": [
    "np.mean(y_train)"
   ]
  },
  {
   "cell_type": "code",
   "execution_count": 10,
   "id": "9039abd0",
   "metadata": {},
   "outputs": [
    {
     "data": {
      "text/plain": [
       "0.2605233219567691"
      ]
     },
     "execution_count": 10,
     "metadata": {},
     "output_type": "execute_result"
    }
   ],
   "source": [
    "np.mean(y_test)"
   ]
  },
  {
   "cell_type": "markdown",
   "id": "b7b40893",
   "metadata": {},
   "source": [
    "### Oversampling to Address Class Imbalance"
   ]
  },
  {
   "cell_type": "code",
   "execution_count": 11,
   "id": "bbb35278",
   "metadata": {},
   "outputs": [
    {
     "ename": "NameError",
     "evalue": "name 'y_tr' is not defined",
     "output_type": "error",
     "traceback": [
      "\u001b[0;31m---------------------------------------------------------------------------\u001b[0m",
      "\u001b[0;31mNameError\u001b[0m                                 Traceback (most recent call last)",
      "Input \u001b[0;32mIn [11]\u001b[0m, in \u001b[0;36m<cell line: 2>\u001b[0;34m()\u001b[0m\n\u001b[1;32m      1\u001b[0m \u001b[38;5;66;03m# setup for the ratio argument of RandomOverSampler initialization\u001b[39;00m\n\u001b[0;32m----> 2\u001b[0m n_pos \u001b[38;5;241m=\u001b[39m np\u001b[38;5;241m.\u001b[39msum(\u001b[43my_tr\u001b[49m \u001b[38;5;241m==\u001b[39m \u001b[38;5;241m1\u001b[39m)\n\u001b[1;32m      3\u001b[0m n_neg \u001b[38;5;241m=\u001b[39m np\u001b[38;5;241m.\u001b[39msum(y_tr \u001b[38;5;241m==\u001b[39m \u001b[38;5;241m0\u001b[39m)\n\u001b[1;32m      4\u001b[0m ratio \u001b[38;5;241m=\u001b[39m {\u001b[38;5;241m1\u001b[39m : n_pos \u001b[38;5;241m*\u001b[39m \u001b[38;5;241m4\u001b[39m, \u001b[38;5;241m0\u001b[39m : n_neg} \n",
      "\u001b[0;31mNameError\u001b[0m: name 'y_tr' is not defined"
     ]
    }
   ],
   "source": [
    "# setup for the ratio argument of RandomOverSampler initialization\n",
    "n_pos = np.sum(y_tr == 1)\n",
    "n_neg = np.sum(y_tr == 0)\n",
    "ratio = {1 : n_pos * 4, 0 : n_neg} \n",
    "\n",
    "# randomly oversample positive samples: create 4x as many \n",
    "ROS = imblearn.over_sampling.RandomOverSampler(sampling_strategy = ratio, random_state=42) \n",
    "\n",
    "#To create actual sample, use the fit_sample method to create the dataset with a desired proportion \n",
    "X_tr_rs, y_tr_rs = ROS.fit_resample(X_tr, y_tr)\n"
   ]
  },
  {
   "cell_type": "markdown",
   "id": "c7f34c10",
   "metadata": {},
   "source": [
    "#### Hard Class Predictions\n",
    "Predict Churn / Not Churn"
   ]
  },
  {
   "cell_type": "code",
   "execution_count": null,
   "id": "6c06140b",
   "metadata": {},
   "outputs": [],
   "source": [
    "y_pred = pipe.predict(X_test)"
   ]
  },
  {
   "cell_type": "code",
   "execution_count": null,
   "id": "cd283a0d",
   "metadata": {},
   "outputs": [],
   "source": [
    "y_pred"
   ]
  },
  {
   "cell_type": "markdown",
   "id": "1fb5b953",
   "metadata": {},
   "source": [
    "#### Soft Class Predictions\n",
    "- Giving probabilities of being one class or another\n",
    "- If class labels strings Sklearn displays in alphabetical order. If numerical class labels they'll be in ascending order"
   ]
  },
  {
   "cell_type": "code",
   "execution_count": null,
   "id": "f3baabb6",
   "metadata": {},
   "outputs": [],
   "source": [
    "pipe.predict_proba(X_test)[:5]"
   ]
  },
  {
   "cell_type": "markdown",
   "id": "4a76f654",
   "metadata": {},
   "source": [
    "#### Accuracy\n",
    "Percentage of observations that were correctly classified.\n",
    "When one class is significantly less common that the other accuracy is often not the most helpful metric to optimize."
   ]
  },
  {
   "cell_type": "code",
   "execution_count": null,
   "id": "ee07ae95",
   "metadata": {},
   "outputs": [],
   "source": [
    "#accuracy score on train data\n",
    "pipe.score(X_train, y_train)"
   ]
  },
  {
   "cell_type": "code",
   "execution_count": null,
   "id": "16f432ec",
   "metadata": {},
   "outputs": [],
   "source": [
    "#accuracy score on test data\n",
    "pipe.score(X_test, y_test)"
   ]
  },
  {
   "cell_type": "markdown",
   "id": "4df42d3e",
   "metadata": {},
   "source": [
    "#### Confusion Matrix"
   ]
  },
  {
   "cell_type": "code",
   "execution_count": null,
   "id": "787b646e",
   "metadata": {},
   "outputs": [],
   "source": [
    "#sklearn.metrics.confusion_matrix(y_true, y_pred, *, labels=None, sample_weight=None, normalize=None)"
   ]
  },
  {
   "cell_type": "markdown",
   "id": "96e9721e",
   "metadata": {},
   "source": [
    "Get this to print out percentage option too"
   ]
  },
  {
   "cell_type": "code",
   "execution_count": null,
   "id": "9a40bdab",
   "metadata": {},
   "outputs": [],
   "source": [
    "logreg_confusion = confusion_matrix(y_test, y_pred)"
   ]
  },
  {
   "cell_type": "code",
   "execution_count": null,
   "id": "0f5c6069",
   "metadata": {},
   "outputs": [],
   "source": [
    "logreg_confusion"
   ]
  },
  {
   "cell_type": "code",
   "execution_count": null,
   "id": "51ee3e11",
   "metadata": {},
   "outputs": [],
   "source": [
    "def make_confusion_matrix(model, threshold = 0.5):\n",
    "    # Predict class 1 if probability of being in class 1 is greater than threshold\n",
    "    # (model.predict(X_test) does this automatically with a threshold of 0.5)\n",
    "    y_predict = (model.predict_proba(X_test)[:, 1] >= threshold)\n",
    "    churn_conf = confusion_matrix(y_test, y_pred)\n",
    "    plt.figure(dpi=80)\n",
    "    sns.heatmap(churn_conf, cmap=plt.cm.Blues, annot=True, square=True, fmt='d',);\n",
    "\n",
    "    #plt.savefig('confusion_matrix.png', dpi=300) "
   ]
  },
  {
   "cell_type": "markdown",
   "id": "918b9ea7",
   "metadata": {},
   "source": [
    "#### Lowering threshold from the 0.5 default increases recall. Precision gets worse."
   ]
  },
  {
   "cell_type": "code",
   "execution_count": null,
   "id": "cb22dd02",
   "metadata": {},
   "outputs": [],
   "source": [
    "# confusion matrix with threshold slider\n",
    "interactive(lambda threshold: make_confusion_matrix(pipe, threshold), threshold=(0.0,1.0,0.02))"
   ]
  },
  {
   "cell_type": "code",
   "execution_count": null,
   "id": "61289e6e",
   "metadata": {},
   "outputs": [],
   "source": [
    "def make_confusion_matrix(model, threshold = 0.5):\n",
    "    # Predict class 1 if probability of being in class 1 is greater than threshold\n",
    "    # (model.predict(X_test) does this automatically with a threshold of 0.5)\n",
    "    y_predict = (model.predict_proba(X_test)[:, 1] >= threshold)\n",
    "    churn_conf = confusion_matrix(y_test, y_pred, normalize = 'all')\n",
    "    plt.figure(dpi=80)\n",
    "    sns.heatmap(churn_conf, cmap=plt.cm.Blues, annot=True, square=True, fmt='.2%');\n",
    "    #plt.savefig('confusion_matrix_percent.png', dpi=300) "
   ]
  },
  {
   "cell_type": "markdown",
   "id": "4176b89a",
   "metadata": {},
   "source": [
    "trouble shooting why the slider isn't working\n",
    "As for why the slider does not change your confusion_matrix, I would start debugging that by investigating what pipe outputs. For example does pipe give hard classes or soft probabilities and if they are probabilities are they mostly extreme (close to 0 or 1) or spread out"
   ]
  },
  {
   "cell_type": "code",
   "execution_count": null,
   "id": "51cf4055",
   "metadata": {},
   "outputs": [],
   "source": [
    "# confusion matrix with threshold slider\n",
    "# how the widget works https://ipywidgets.readthedocs.io/en/stable/examples/Using%20Interact.html?highlight=interact\n",
    "interactive(lambda threshold: make_confusion_matrix(pipe, threshold), threshold=(0.0,1.0,0.02))"
   ]
  },
  {
   "cell_type": "markdown",
   "id": "398e1218",
   "metadata": {},
   "source": [
    "Confusion matrix findings\n",
    "The model:\n",
    "- correctly classified 1151 people who didn't cancel their subscription. \n",
    "- correctly classified 237 customers as people who were going to cancel their subscription and did.\n",
    "- incorrectly classified  149 customers as people who were going to cancel their subscription when they actually kept their subscription. \n",
    "- It incorrectly classified 221 customers as people who were going to keep their subscription but actually canceled it. "
   ]
  },
  {
   "cell_type": "markdown",
   "id": "7c6a7e3c",
   "metadata": {},
   "source": [
    "### Precision, Recall, F1 Scores\n",
    "- Precision goes down as you decrease the threshold, while recall goes up. This is called the _precision-recall tradeoff_.\n",
    "- Precision = true positives (correctly classified as people who were going to churn) divided by all of our model's predicted positives.(100% precision indicates that all of the positives identified by our model were actual positives.) \n",
    "- Recall = the number of true positives correctly classified, divided by the actual positives in the dataset. \n",
    "- F1 = the harmonic mean of precision and recall. It's designed to penalize situations where precision or recall is significantly better than the other metric. "
   ]
  },
  {
   "cell_type": "code",
   "execution_count": null,
   "id": "b4f91027",
   "metadata": {},
   "outputs": [],
   "source": [
    "print(\"Default treshold:\")\n",
    "print(f\"Precision: {precision_score(y_test, y_pred)}\")\n",
    "print(f\"Recall: {recall_score(y_test, y_pred)}\")\n",
    "print(f\"F1: {f1_score(y_test, y_pred)}\")"
   ]
  },
  {
   "cell_type": "markdown",
   "id": "7610cf45",
   "metadata": {},
   "source": [
    "### ROC Curve\n",
    "- ROC AUC (area under curve) metric is 1 for a perfect classifier, and it's equal to 0.5 for a model that performs as well as random guess. "
   ]
  },
  {
   "cell_type": "markdown",
   "id": "5ad03296",
   "metadata": {},
   "source": [
    "How the variables below are working\n",
    "- the variables (fpr, tpr, thresholds) are returned by the roc_curve function are stored in these three variables - fpr (false positive rate), tpr (true positive rate) and thresholds. Fpr and tpr are used later to plot the chart."
   ]
  },
  {
   "cell_type": "code",
   "execution_count": null,
   "id": "e71d2ef5",
   "metadata": {},
   "outputs": [],
   "source": [
    "fpr, tpr, thresholds = roc_curve(y_test, pipe.predict_proba(X_test)[:,1])"
   ]
  },
  {
   "cell_type": "code",
   "execution_count": null,
   "id": "d07d456e",
   "metadata": {},
   "outputs": [],
   "source": [
    "plt.plot(fpr, tpr,lw=2)\n",
    "plt.plot([0,1],[0,1],c='orange',ls='--')\n",
    "plt.xlim([-0.05,1.05])\n",
    "plt.ylim([-0.05,1.05])\n",
    "\n",
    "\n",
    "plt.xlabel('False positive rate')\n",
    "plt.ylabel('True positive rate')\n",
    "plt.title('ROC Curve');\n",
    "print(\"ROC AUC score = \", roc_auc_score(y_test, pipe.predict_proba(X_test)[:,1]))\n",
    "#plt.savefig('ROC Curve.png', dpi=300) "
   ]
  },
  {
   "cell_type": "markdown",
   "id": "85ecf33a",
   "metadata": {},
   "source": [
    "### Interpreting Coefficients: Would like to indicate which features are more strongly associated with churn - we do this with coefficients, correct?\n",
    "- One unit of increase in x actually increases the log odds by beta units. \n",
    "- In other words: One unit of increase in x, increases the odds by an exponential factor of beta.\n",
    "- If the features coefficient beta is positive, increasing that feature makes the positive class more likely\n",
    "- If beta is negative, increasing the feature does the opposite and the positive class becomes less likely"
   ]
  },
  {
   "cell_type": "markdown",
   "id": "14bf40f6",
   "metadata": {},
   "source": [
    "### Coefficient For Each Feature"
   ]
  },
  {
   "cell_type": "markdown",
   "id": "d8ac9068",
   "metadata": {},
   "source": [
    "#### Coeffcients in Log Odds Units"
   ]
  },
  {
   "cell_type": "code",
   "execution_count": null,
   "id": "9f2b8004",
   "metadata": {},
   "outputs": [],
   "source": [
    "#.T to transform cuz there was a shape error\n",
    "coefs_tst_data = pd.DataFrame(pipe['LogReg'].coef_.T, X.columns, columns = ['Coeff_Log_Odds'])"
   ]
  },
  {
   "cell_type": "code",
   "execution_count": null,
   "id": "c63f38a3",
   "metadata": {},
   "outputs": [],
   "source": [
    "#coefs_tst_data.sort_values(by='Coeff_Log_Odds', ascending = False)"
   ]
  },
  {
   "cell_type": "markdown",
   "id": "1a9bf338",
   "metadata": {},
   "source": [
    "#### Coeffecients: Exponentiate to get rid of log odds\n",
    "These are now odds NOT log odds"
   ]
  },
  {
   "cell_type": "code",
   "execution_count": null,
   "id": "70a37527",
   "metadata": {},
   "outputs": [],
   "source": [
    "coefs_tst_data['Coeff_Odds'] = coefs_tst_data['Coeff_Log_Odds']"
   ]
  },
  {
   "cell_type": "code",
   "execution_count": null,
   "id": "b475011b",
   "metadata": {},
   "outputs": [],
   "source": [
    "#coefs_tst_data"
   ]
  },
  {
   "cell_type": "code",
   "execution_count": null,
   "id": "ab4a05bc",
   "metadata": {},
   "outputs": [],
   "source": [
    "coefs_tst_data['Coeff_Odds'] = coefs_tst_data['Coeff_Odds'].apply(lambda x: np.exp(x))"
   ]
  },
  {
   "cell_type": "code",
   "execution_count": null,
   "id": "a70296ee",
   "metadata": {},
   "outputs": [],
   "source": [
    "coefs_tst_data.sort_values(by='Coeff_Odds', ascending = False)"
   ]
  },
  {
   "cell_type": "code",
   "execution_count": null,
   "id": "557e5993",
   "metadata": {},
   "outputs": [],
   "source": [
    "#pipe['LogReg'].coef_"
   ]
  },
  {
   "cell_type": "code",
   "execution_count": null,
   "id": "fed0ce09",
   "metadata": {},
   "outputs": [],
   "source": [
    "#np.exp(pipe['LogReg'].coef_)"
   ]
  },
  {
   "cell_type": "code",
   "execution_count": null,
   "id": "e6e5fe28",
   "metadata": {},
   "outputs": [],
   "source": [
    "#type(pipe['LogReg'])"
   ]
  }
 ],
 "metadata": {
  "kernelspec": {
   "display_name": "Python 3 (ipykernel)",
   "language": "python",
   "name": "python3"
  },
  "language_info": {
   "codemirror_mode": {
    "name": "ipython",
    "version": 3
   },
   "file_extension": ".py",
   "mimetype": "text/x-python",
   "name": "python",
   "nbconvert_exporter": "python",
   "pygments_lexer": "ipython3",
   "version": "3.9.7"
  }
 },
 "nbformat": 4,
 "nbformat_minor": 5
}
