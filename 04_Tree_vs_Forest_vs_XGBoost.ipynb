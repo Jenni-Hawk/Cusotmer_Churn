{
 "cells": [
  {
   "cell_type": "markdown",
   "id": "17fd0d60",
   "metadata": {},
   "source": [
    "### Decision Tree,  Random Forest, XGBoost\n",
    "- Explore how Decision Tree, Random Forest and XGBoost perform without hyperparamter tuning\n",
    "- Cross validation to determine optimal oversample value based on recall metric\n",
    "- Create model with and without oversample\n",
    "- While scaling not required for tree based models it was implemented in the workflow"
   ]
  },
  {
   "cell_type": "code",
   "execution_count": 1,
   "id": "7da2a79a",
   "metadata": {},
   "outputs": [],
   "source": [
    "import pandas as pd\n",
    "import numpy as np\n",
    "import matplotlib.pyplot as plt\n",
    "import seaborn as sns\n",
    "\n",
    "from sklearn.tree import DecisionTreeClassifier\n",
    "from sklearn.ensemble import RandomForestClassifier\n",
    "from sklearn.linear_model import LogisticRegression\n",
    "from xgboost import XGBClassifier\n",
    "\n",
    "\n",
    "from sklearn.model_selection import train_test_split\n",
    "from sklearn.pipeline import make_pipeline\n",
    "from sklearn.pipeline import Pipeline\n",
    "from sklearn.preprocessing import StandardScaler\n",
    "from ipywidgets import interactive, FloatSlider\n",
    "import imblearn.over_sampling\n",
    "\n",
    "from sklearn.model_selection import cross_val_score\n",
    "from sklearn.model_selection import GridSearchCV\n",
    "\n",
    "from sklearn.metrics import accuracy_score, confusion_matrix, precision_score, recall_score, f1_score, roc_auc_score, roc_curve \n",
    "\n",
    "import time\n",
    "\n",
    "%matplotlib inline"
   ]
  },
  {
   "cell_type": "code",
   "execution_count": 2,
   "id": "16a79118",
   "metadata": {},
   "outputs": [],
   "source": [
    "data = pd.read_csv('/Users/jennihawk/Documents/Data Science Projects/Churn Project/Models/chatr_clean.csv')"
   ]
  },
  {
   "cell_type": "code",
   "execution_count": 3,
   "id": "bcd7dd5b",
   "metadata": {},
   "outputs": [
    {
     "data": {
      "text/html": [
       "<div>\n",
       "<style scoped>\n",
       "    .dataframe tbody tr th:only-of-type {\n",
       "        vertical-align: middle;\n",
       "    }\n",
       "\n",
       "    .dataframe tbody tr th {\n",
       "        vertical-align: top;\n",
       "    }\n",
       "\n",
       "    .dataframe thead th {\n",
       "        text-align: right;\n",
       "    }\n",
       "</style>\n",
       "<table border=\"1\" class=\"dataframe\">\n",
       "  <thead>\n",
       "    <tr style=\"text-align: right;\">\n",
       "      <th></th>\n",
       "      <th>customerID</th>\n",
       "      <th>SeniorCitizen</th>\n",
       "      <th>tenure</th>\n",
       "      <th>MonthlyCharges</th>\n",
       "      <th>TotalCharges</th>\n",
       "      <th>InternetService_Fiber</th>\n",
       "      <th>InternetService_No</th>\n",
       "      <th>Contract_One_Year</th>\n",
       "      <th>Contract_Two_year</th>\n",
       "      <th>PaymentMethod_Crcard</th>\n",
       "      <th>...</th>\n",
       "      <th>DeviceProtection_No_internet_serv</th>\n",
       "      <th>DeviceProtection_Yes</th>\n",
       "      <th>TechSupport_No_internet_serv</th>\n",
       "      <th>TechSupport_Yes</th>\n",
       "      <th>StreamingTV_No_internet_serv</th>\n",
       "      <th>StreamingTV_Yes</th>\n",
       "      <th>StreamingMovies_No_internet_serv</th>\n",
       "      <th>StreamingMovies_Yes</th>\n",
       "      <th>PaperlessBilling_Yes</th>\n",
       "      <th>Churn_Yes</th>\n",
       "    </tr>\n",
       "  </thead>\n",
       "  <tbody>\n",
       "    <tr>\n",
       "      <th>0</th>\n",
       "      <td>7590-VHVEG</td>\n",
       "      <td>0</td>\n",
       "      <td>1.0</td>\n",
       "      <td>29.85</td>\n",
       "      <td>29.85</td>\n",
       "      <td>0</td>\n",
       "      <td>0</td>\n",
       "      <td>0</td>\n",
       "      <td>0</td>\n",
       "      <td>0</td>\n",
       "      <td>...</td>\n",
       "      <td>0</td>\n",
       "      <td>0</td>\n",
       "      <td>0</td>\n",
       "      <td>0</td>\n",
       "      <td>0</td>\n",
       "      <td>0</td>\n",
       "      <td>0</td>\n",
       "      <td>0</td>\n",
       "      <td>1</td>\n",
       "      <td>0</td>\n",
       "    </tr>\n",
       "    <tr>\n",
       "      <th>1</th>\n",
       "      <td>5575-GNVDE</td>\n",
       "      <td>0</td>\n",
       "      <td>34.0</td>\n",
       "      <td>56.95</td>\n",
       "      <td>1889.50</td>\n",
       "      <td>0</td>\n",
       "      <td>0</td>\n",
       "      <td>1</td>\n",
       "      <td>0</td>\n",
       "      <td>0</td>\n",
       "      <td>...</td>\n",
       "      <td>0</td>\n",
       "      <td>1</td>\n",
       "      <td>0</td>\n",
       "      <td>0</td>\n",
       "      <td>0</td>\n",
       "      <td>0</td>\n",
       "      <td>0</td>\n",
       "      <td>0</td>\n",
       "      <td>0</td>\n",
       "      <td>0</td>\n",
       "    </tr>\n",
       "    <tr>\n",
       "      <th>2</th>\n",
       "      <td>3668-QPYBK</td>\n",
       "      <td>0</td>\n",
       "      <td>2.0</td>\n",
       "      <td>53.85</td>\n",
       "      <td>108.15</td>\n",
       "      <td>0</td>\n",
       "      <td>0</td>\n",
       "      <td>0</td>\n",
       "      <td>0</td>\n",
       "      <td>0</td>\n",
       "      <td>...</td>\n",
       "      <td>0</td>\n",
       "      <td>0</td>\n",
       "      <td>0</td>\n",
       "      <td>0</td>\n",
       "      <td>0</td>\n",
       "      <td>0</td>\n",
       "      <td>0</td>\n",
       "      <td>0</td>\n",
       "      <td>1</td>\n",
       "      <td>1</td>\n",
       "    </tr>\n",
       "    <tr>\n",
       "      <th>3</th>\n",
       "      <td>7795-CFOCW</td>\n",
       "      <td>0</td>\n",
       "      <td>45.0</td>\n",
       "      <td>42.30</td>\n",
       "      <td>1840.75</td>\n",
       "      <td>0</td>\n",
       "      <td>0</td>\n",
       "      <td>1</td>\n",
       "      <td>0</td>\n",
       "      <td>0</td>\n",
       "      <td>...</td>\n",
       "      <td>0</td>\n",
       "      <td>1</td>\n",
       "      <td>0</td>\n",
       "      <td>1</td>\n",
       "      <td>0</td>\n",
       "      <td>0</td>\n",
       "      <td>0</td>\n",
       "      <td>0</td>\n",
       "      <td>0</td>\n",
       "      <td>0</td>\n",
       "    </tr>\n",
       "    <tr>\n",
       "      <th>4</th>\n",
       "      <td>9237-HQITU</td>\n",
       "      <td>0</td>\n",
       "      <td>2.0</td>\n",
       "      <td>70.70</td>\n",
       "      <td>151.65</td>\n",
       "      <td>1</td>\n",
       "      <td>0</td>\n",
       "      <td>0</td>\n",
       "      <td>0</td>\n",
       "      <td>0</td>\n",
       "      <td>...</td>\n",
       "      <td>0</td>\n",
       "      <td>0</td>\n",
       "      <td>0</td>\n",
       "      <td>0</td>\n",
       "      <td>0</td>\n",
       "      <td>0</td>\n",
       "      <td>0</td>\n",
       "      <td>0</td>\n",
       "      <td>1</td>\n",
       "      <td>1</td>\n",
       "    </tr>\n",
       "  </tbody>\n",
       "</table>\n",
       "<p>5 rows × 32 columns</p>\n",
       "</div>"
      ],
      "text/plain": [
       "   customerID  SeniorCitizen  tenure  MonthlyCharges  TotalCharges  \\\n",
       "0  7590-VHVEG              0     1.0           29.85         29.85   \n",
       "1  5575-GNVDE              0    34.0           56.95       1889.50   \n",
       "2  3668-QPYBK              0     2.0           53.85        108.15   \n",
       "3  7795-CFOCW              0    45.0           42.30       1840.75   \n",
       "4  9237-HQITU              0     2.0           70.70        151.65   \n",
       "\n",
       "   InternetService_Fiber  InternetService_No  Contract_One_Year  \\\n",
       "0                      0                   0                  0   \n",
       "1                      0                   0                  1   \n",
       "2                      0                   0                  0   \n",
       "3                      0                   0                  1   \n",
       "4                      1                   0                  0   \n",
       "\n",
       "   Contract_Two_year  PaymentMethod_Crcard  ...  \\\n",
       "0                  0                     0  ...   \n",
       "1                  0                     0  ...   \n",
       "2                  0                     0  ...   \n",
       "3                  0                     0  ...   \n",
       "4                  0                     0  ...   \n",
       "\n",
       "   DeviceProtection_No_internet_serv  DeviceProtection_Yes  \\\n",
       "0                                  0                     0   \n",
       "1                                  0                     1   \n",
       "2                                  0                     0   \n",
       "3                                  0                     1   \n",
       "4                                  0                     0   \n",
       "\n",
       "   TechSupport_No_internet_serv  TechSupport_Yes  \\\n",
       "0                             0                0   \n",
       "1                             0                0   \n",
       "2                             0                0   \n",
       "3                             0                1   \n",
       "4                             0                0   \n",
       "\n",
       "   StreamingTV_No_internet_serv  StreamingTV_Yes  \\\n",
       "0                             0                0   \n",
       "1                             0                0   \n",
       "2                             0                0   \n",
       "3                             0                0   \n",
       "4                             0                0   \n",
       "\n",
       "   StreamingMovies_No_internet_serv  StreamingMovies_Yes  \\\n",
       "0                                 0                    0   \n",
       "1                                 0                    0   \n",
       "2                                 0                    0   \n",
       "3                                 0                    0   \n",
       "4                                 0                    0   \n",
       "\n",
       "   PaperlessBilling_Yes  Churn_Yes  \n",
       "0                     1          0  \n",
       "1                     0          0  \n",
       "2                     1          1  \n",
       "3                     0          0  \n",
       "4                     1          1  \n",
       "\n",
       "[5 rows x 32 columns]"
      ]
     },
     "execution_count": 3,
     "metadata": {},
     "output_type": "execute_result"
    }
   ],
   "source": [
    "data.head()"
   ]
  },
  {
   "cell_type": "code",
   "execution_count": 4,
   "id": "4ef3cae0",
   "metadata": {},
   "outputs": [
    {
     "data": {
      "text/plain": [
       "(7032, 32)"
      ]
     },
     "execution_count": 4,
     "metadata": {},
     "output_type": "execute_result"
    }
   ],
   "source": [
    "data.shape"
   ]
  },
  {
   "cell_type": "markdown",
   "id": "ecb0f223",
   "metadata": {},
   "source": [
    "### Train - Test Setup\n",
    "- Utilize 'stratify = y' so class proportions are preserved"
   ]
  },
  {
   "cell_type": "code",
   "execution_count": 5,
   "id": "b1631639",
   "metadata": {},
   "outputs": [
    {
     "name": "stdout",
     "output_type": "stream",
     "text": [
      "(5625, 30)\n",
      "(1407, 30)\n",
      "(5625,)\n",
      "(1407,)\n"
     ]
    }
   ],
   "source": [
    "y = data['Churn_Yes']\n",
    "X = data.drop(['Churn_Yes', 'customerID'], axis =1)\n",
    "\n",
    "X_train, X_test, y_train, y_test = train_test_split(X, y, test_size=0.20, random_state=42,stratify=y)\n",
    "print(X_train.shape)\n",
    "print(X_test.shape)\n",
    "print(y_train.shape)\n",
    "print(y_test.shape)"
   ]
  },
  {
   "cell_type": "markdown",
   "id": "30e98623",
   "metadata": {},
   "source": [
    "### Class Imbalance\n",
    "Average rate of churn on target columm"
   ]
  },
  {
   "cell_type": "code",
   "execution_count": 6,
   "id": "de8b8f09",
   "metadata": {},
   "outputs": [
    {
     "data": {
      "text/plain": [
       "0.2657777777777778"
      ]
     },
     "execution_count": 6,
     "metadata": {},
     "output_type": "execute_result"
    }
   ],
   "source": [
    "np.mean(y_train)"
   ]
  },
  {
   "cell_type": "markdown",
   "id": "59228f55",
   "metadata": {},
   "source": [
    "### Oversampling Cross Validation -  How much to increase sample size? \n",
    "- cross validation strategy for any parameter to tune\n",
    "- optimal oversample value = 3\n",
    "- Fit cross validation on DecisionTreeClassifier\n",
    "- cv=10 knows to stratify when binary numbers"
   ]
  },
  {
   "cell_type": "code",
   "execution_count": 7,
   "id": "b72a38cd",
   "metadata": {},
   "outputs": [
    {
     "name": "stderr",
     "output_type": "stream",
     "text": [
      "/opt/anaconda3/lib/python3.9/site-packages/imblearn/utils/_validation.py:313: UserWarning: After over-sampling, the number of samples (4485) in class 1 will be larger than the number of samples in the majority class (class #0 -> 4130)\n",
      "  warnings.warn(\n",
      "/opt/anaconda3/lib/python3.9/site-packages/imblearn/utils/_validation.py:313: UserWarning: After over-sampling, the number of samples (5980) in class 1 will be larger than the number of samples in the majority class (class #0 -> 4130)\n",
      "  warnings.warn(\n",
      "/opt/anaconda3/lib/python3.9/site-packages/imblearn/utils/_validation.py:313: UserWarning: After over-sampling, the number of samples (7475) in class 1 will be larger than the number of samples in the majority class (class #0 -> 4130)\n",
      "  warnings.warn(\n",
      "/opt/anaconda3/lib/python3.9/site-packages/imblearn/utils/_validation.py:313: UserWarning: After over-sampling, the number of samples (8970) in class 1 will be larger than the number of samples in the majority class (class #0 -> 4130)\n",
      "  warnings.warn(\n"
     ]
    },
    {
     "name": "stdout",
     "output_type": "stream",
     "text": [
      "Oversample Recall Scores\n",
      "[(1, 0.49896196868008946), (2, 0.8993311036789298), (3, 0.973271953547566), (4, 0.9914715719063546), (5, 0.9969244178138579), (6, 0.9983277591973243)]\n",
      "Oversample Accuracy Scores\n",
      "[(1, 0.7281682395403375), (2, 0.8414325842696628), (3, 0.8972782956202117), (4, 0.9175074183976261), (5, 0.9339934360984883), (6, 0.9403053435114505)]\n"
     ]
    }
   ],
   "source": [
    "n_pos = np.sum(y_train == 1)\n",
    "n_neg = np.sum(y_train == 0)\n",
    "\n",
    "\n",
    "# search for an optimal oversample value\n",
    "oversample_range = [1,2,3,4,5,6]\n",
    "oversample_acc_scores = []\n",
    "oversample_rec_scores = []\n",
    "for oversample_weight in oversample_range:\n",
    "    # oversample your data\n",
    "    ratio = {1 : n_pos * oversample_weight, 0 : n_neg} \n",
    "    # randomly oversample positive samples\n",
    "    ROS = imblearn.over_sampling.RandomOverSampler(sampling_strategy = ratio, random_state=42)\n",
    "\n",
    "    #use the fit_resample method to create the dataset with a desired proportion\n",
    "    #the variables X_tr_rs, y_tr_rs hold the training data with the extra samples we just created\n",
    "    X_tr_oversample, y_tr_oversample = ROS.fit_resample(X_train, y_train)\n",
    "    \n",
    "    # cross validate it\n",
    "    d_tree = DecisionTreeClassifier()\n",
    "    acc_scores = cross_val_score(d_tree, X_tr_oversample, y_tr_oversample, cv=10, scoring='accuracy')\n",
    "    rec_scores = cross_val_score(d_tree, X_tr_oversample, y_tr_oversample, cv=10, scoring='recall')\n",
    "    oversample_acc_scores.append(acc_scores.mean())\n",
    "    oversample_rec_scores.append(rec_scores.mean())\n",
    "\n",
    "\n",
    "print(\"Oversample Recall Scores\")\n",
    "print(list(zip(oversample_range, oversample_rec_scores)))\n",
    "print(\"Oversample Accuracy Scores\")\n",
    "print(list(zip(oversample_range, oversample_acc_scores)))"
   ]
  },
  {
   "cell_type": "markdown",
   "id": "882a7aab",
   "metadata": {},
   "source": [
    "### Setup Oversampling\n",
    "- Used 3x positive samples\n",
    "- Rationale: There's 3 to 1 ratio of neg to pos observations. Cross validation supported this for decision tree model"
   ]
  },
  {
   "cell_type": "code",
   "execution_count": 8,
   "id": "82bb5924",
   "metadata": {},
   "outputs": [
    {
     "name": "stderr",
     "output_type": "stream",
     "text": [
      "/opt/anaconda3/lib/python3.9/site-packages/imblearn/utils/_validation.py:313: UserWarning: After over-sampling, the number of samples (4485) in class 1 will be larger than the number of samples in the majority class (class #0 -> 4130)\n",
      "  warnings.warn(\n"
     ]
    }
   ],
   "source": [
    "# setup for the ratio argument of RandomOverSampler initialization\n",
    "n_pos = np.sum(y_train == 1)\n",
    "n_neg = np.sum(y_train == 0)\n",
    "ratio = {1 : n_pos * 3, 0 : n_neg} \n",
    "\n",
    "# randomly oversample positive samples\n",
    "ROS = imblearn.over_sampling.RandomOverSampler(sampling_strategy = ratio, random_state=42) \n",
    "\n",
    "#use the fit_resample method to create the dataset with a desired proportion\n",
    "#the variables X_tr__oversample, y_tr_oversample hold the training data with the extra samples we just created\n",
    "X_tr_oversample, y_tr_oversample = ROS.fit_resample(X_train, y_train)"
   ]
  },
  {
   "cell_type": "markdown",
   "id": "304a0a16",
   "metadata": {},
   "source": [
    "### Decision Tree"
   ]
  },
  {
   "cell_type": "markdown",
   "id": "f4971c16",
   "metadata": {},
   "source": [
    "##### Model Setup"
   ]
  },
  {
   "cell_type": "code",
   "execution_count": 9,
   "id": "4406df5d",
   "metadata": {},
   "outputs": [],
   "source": [
    "tree_pipe = Pipeline([('scaler', StandardScaler()), ('DecTree', DecisionTreeClassifier())])"
   ]
  },
  {
   "cell_type": "code",
   "execution_count": 10,
   "id": "37e1274e",
   "metadata": {},
   "outputs": [
    {
     "data": {
      "text/plain": [
       "Pipeline(steps=[('scaler', StandardScaler()),\n",
       "                ('DecTree', DecisionTreeClassifier())])"
      ]
     },
     "execution_count": 10,
     "metadata": {},
     "output_type": "execute_result"
    }
   ],
   "source": [
    "#Fit model to the training data\n",
    "tree_pipe.fit(X_train, y_train)"
   ]
  },
  {
   "cell_type": "markdown",
   "id": "b5b7c901",
   "metadata": {},
   "source": [
    "#### Hard Class Predictions with no oversample - results on test data"
   ]
  },
  {
   "cell_type": "code",
   "execution_count": 11,
   "id": "966be108",
   "metadata": {},
   "outputs": [],
   "source": [
    "y_pred = tree_pipe.predict(X_test)"
   ]
  },
  {
   "cell_type": "markdown",
   "id": "a514c169",
   "metadata": {},
   "source": [
    "#### Setup up Oversample on Decision Tree Model"
   ]
  },
  {
   "cell_type": "code",
   "execution_count": 12,
   "id": "12edfff9",
   "metadata": {},
   "outputs": [],
   "source": [
    "oversamp_tree_pipe = Pipeline([('scaler', StandardScaler()), ('DecTree', DecisionTreeClassifier())])"
   ]
  },
  {
   "cell_type": "code",
   "execution_count": 13,
   "id": "3a19d562",
   "metadata": {},
   "outputs": [
    {
     "data": {
      "text/plain": [
       "Pipeline(steps=[('scaler', StandardScaler()),\n",
       "                ('DecTree', DecisionTreeClassifier())])"
      ]
     },
     "execution_count": 13,
     "metadata": {},
     "output_type": "execute_result"
    }
   ],
   "source": [
    "# Fit the decision tree oversample model\n",
    "#'X_tr_oversample', 'y_tr_oversample' hold the training data that contains the extra samples\n",
    "oversamp_tree_pipe.fit(X_tr_oversample, y_tr_oversample)"
   ]
  },
  {
   "cell_type": "markdown",
   "id": "4c1122e8",
   "metadata": {},
   "source": [
    "#### Hard Class Predictions on oversampled training data"
   ]
  },
  {
   "cell_type": "code",
   "execution_count": 14,
   "id": "4be6b426",
   "metadata": {},
   "outputs": [],
   "source": [
    "#we keep same X_test\n",
    "y_pred_oversamp_tree = oversamp_tree_pipe.predict(X_test)"
   ]
  },
  {
   "cell_type": "markdown",
   "id": "851388d5",
   "metadata": {},
   "source": [
    "#### TEST SCORES: Decision Tree Oversampled Model"
   ]
  },
  {
   "cell_type": "code",
   "execution_count": 15,
   "id": "bf50a4f4",
   "metadata": {},
   "outputs": [
    {
     "name": "stdout",
     "output_type": "stream",
     "text": [
      "Decision Tree Model Oversample\n",
      "Precision: 0.47619047619047616\n",
      "Recall: 0.48128342245989303\n",
      "F1: 0.4787234042553191\n"
     ]
    }
   ],
   "source": [
    "print(\"Decision Tree Model Oversample\")\n",
    "print(f\"Precision: {precision_score(y_test, y_pred_oversamp_tree)}\")\n",
    "print(f\"Recall: {recall_score(y_test, y_pred_oversamp_tree)}\")\n",
    "print(f\"F1: {f1_score(y_test, y_pred_oversamp_tree)}\")"
   ]
  },
  {
   "cell_type": "markdown",
   "id": "e6b89205",
   "metadata": {},
   "source": [
    "#### TEST SCORES: Decision Tree No Oversample\n",
    "- The likely reason that these aren't drastically better than oversampled scores is because it can handle feature imbalance better"
   ]
  },
  {
   "cell_type": "code",
   "execution_count": 16,
   "id": "76bc21b2",
   "metadata": {},
   "outputs": [
    {
     "name": "stdout",
     "output_type": "stream",
     "text": [
      "Decision Tree No Oversample \n",
      "Precision: 0.44935064935064933\n",
      "Recall: 0.4625668449197861\n",
      "F1: 0.45586297760210803\n"
     ]
    }
   ],
   "source": [
    "print(\"Decision Tree No Oversample \")\n",
    "print(f\"Precision: {precision_score(y_test, y_pred)}\")\n",
    "print(f\"Recall: {recall_score(y_test, y_pred)}\")\n",
    "print(f\"F1: {f1_score(y_test, y_pred)}\")"
   ]
  },
  {
   "cell_type": "markdown",
   "id": "89dd5dbd",
   "metadata": {},
   "source": [
    "### Random Forest - Setup Oversample"
   ]
  },
  {
   "cell_type": "code",
   "execution_count": 17,
   "id": "55250a50",
   "metadata": {},
   "outputs": [],
   "source": [
    "#n_estimators = number of trees in the forest - use default 100\n",
    "randforest_oversamp = Pipeline([('scaler', StandardScaler()), ('RandForest', RandomForestClassifier(n_estimators=100))])"
   ]
  },
  {
   "cell_type": "code",
   "execution_count": 18,
   "id": "f39358cd",
   "metadata": {},
   "outputs": [
    {
     "data": {
      "text/plain": [
       "Pipeline(steps=[('scaler', StandardScaler()),\n",
       "                ('RandForest', RandomForestClassifier())])"
      ]
     },
     "execution_count": 18,
     "metadata": {},
     "output_type": "execute_result"
    }
   ],
   "source": [
    "#fit model on oversample train data\n",
    "randforest_oversamp.fit(X_tr_oversample, y_tr_oversample)"
   ]
  },
  {
   "cell_type": "markdown",
   "id": "1e6cdc8d",
   "metadata": {},
   "source": [
    "#### Random Forest - Hard Class Predictions for Oversample "
   ]
  },
  {
   "cell_type": "code",
   "execution_count": 19,
   "id": "4fe11728",
   "metadata": {},
   "outputs": [],
   "source": [
    "y_pred_randfor_oversamp = randforest_oversamp.predict(X_test)"
   ]
  },
  {
   "cell_type": "markdown",
   "id": "bfdcedec",
   "metadata": {},
   "source": [
    "#### TEST SCORES:  Random Forest Oversampled Model "
   ]
  },
  {
   "cell_type": "code",
   "execution_count": 22,
   "id": "ef982558",
   "metadata": {},
   "outputs": [
    {
     "name": "stdout",
     "output_type": "stream",
     "text": [
      "Random Forest Oversample\n",
      "Precision: 0.5871313672922251\n",
      "Recall: 0.5855614973262032\n",
      "F1: 0.5863453815261044\n"
     ]
    }
   ],
   "source": [
    "print(\"Random Forest Oversample\")\n",
    "print(f\"Precision: {precision_score(y_test, y_pred_randfor_oversamp)}\")\n",
    "print(f\"Recall: {recall_score(y_test, y_pred_randfor_oversamp)}\")\n",
    "print(f\"F1: {f1_score(y_test, y_pred_randfor_oversamp)}\")"
   ]
  },
  {
   "cell_type": "markdown",
   "id": "44c15611",
   "metadata": {},
   "source": [
    "### XGBoost Model Setup"
   ]
  },
  {
   "cell_type": "code",
   "execution_count": 20,
   "id": "05d15d74",
   "metadata": {},
   "outputs": [],
   "source": [
    "xgboost = XGBClassifier()\n",
    "xgboost.fit(X_tr_oversample, y_tr_oversample)\n",
    "\n",
    "y_pred_xgboost = xgboost.predict(X_test)"
   ]
  },
  {
   "cell_type": "markdown",
   "id": "1d1a3047",
   "metadata": {},
   "source": [
    "#### TEST SCORES: XGBoost"
   ]
  },
  {
   "cell_type": "code",
   "execution_count": 21,
   "id": "8fda351c",
   "metadata": {},
   "outputs": [
    {
     "name": "stdout",
     "output_type": "stream",
     "text": [
      "XG Boost Oversample\n",
      "Recall: 0.6818181818181818\n",
      "Precision: 0.5323590814196242\n",
      "F1: 0.5978898007033997\n",
      "Accuracy: 0.7562189054726368\n"
     ]
    }
   ],
   "source": [
    "print(\"XG Boost Oversample\")\n",
    "print(f\"Recall: {recall_score(y_test, y_pred_xgboost)}\")\n",
    "print(f\"Precision: {precision_score(y_test, y_pred_xgboost)}\")\n",
    "print(f\"F1: {f1_score(y_test, y_pred_xgboost)}\")\n",
    "print(f\"Accuracy: {accuracy_score(y_test, y_pred_xgboost)}\")"
   ]
  },
  {
   "cell_type": "code",
   "execution_count": null,
   "id": "15d547ba",
   "metadata": {},
   "outputs": [],
   "source": []
  }
 ],
 "metadata": {
  "kernelspec": {
   "display_name": "Python 3 (ipykernel)",
   "language": "python",
   "name": "python3"
  },
  "language_info": {
   "codemirror_mode": {
    "name": "ipython",
    "version": 3
   },
   "file_extension": ".py",
   "mimetype": "text/x-python",
   "name": "python",
   "nbconvert_exporter": "python",
   "pygments_lexer": "ipython3",
   "version": "3.9.13"
  }
 },
 "nbformat": 4,
 "nbformat_minor": 5
}
