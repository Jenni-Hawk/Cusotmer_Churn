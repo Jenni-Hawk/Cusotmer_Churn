{
 "cells": [
  {
   "cell_type": "markdown",
   "id": "76819d85",
   "metadata": {},
   "source": [
    "### Logistic Regression Work\n",
    "Used logistic Regression to explore data and create a benchmark model\n",
    "1. Created model without oversampling\n",
    "2. Created model with oversampling\n",
    "    - Class imbalance just on edge of potentially being problematic. Negative class represents 73% of the data. Typically problematic at 80%\n",
    "    - Addressed Class Imbalance with Oversampling to gain experience with the process.\n",
    "3. Compared the Key Metrics for each model: ROC AUC, Recall\n",
    "4. Reviwed Confusion matrix (default threshold) for each model. \n",
    "    - With oversampling recall score greatly improved \n",
    "    - With oversampling more customers were being correctly identified as churning"
   ]
  },
  {
   "cell_type": "code",
   "execution_count": 1,
   "id": "f76c3887",
   "metadata": {},
   "outputs": [],
   "source": [
    "import pandas as pd\n",
    "import numpy as np\n",
    "import matplotlib.pyplot as plt\n",
    "import seaborn as sns\n",
    "\n",
    "from sklearn.linear_model import LogisticRegression\n",
    "from sklearn.model_selection import train_test_split\n",
    "from sklearn.pipeline import make_pipeline\n",
    "from sklearn.pipeline import Pipeline\n",
    "from sklearn.preprocessing import StandardScaler\n",
    "from ipywidgets import interactive, FloatSlider\n",
    "\n",
    "from sklearn.model_selection import cross_val_score\n",
    "from sklearn.model_selection import GridSearchCV\n",
    "from sklearn.metrics import PrecisionRecallDisplay\n",
    "\n",
    "from sklearn.metrics import accuracy_score, f1_score, recall_score, precision_score, confusion_matrix, plot_confusion_matrix\n",
    "from sklearn import metrics\n",
    "from sklearn.metrics import precision_recall_curve, average_precision_score, roc_auc_score, auc, roc_curve\n",
    "\n",
    "import imblearn.over_sampling\n",
    "\n",
    "%matplotlib inline"
   ]
  },
  {
   "cell_type": "code",
   "execution_count": 2,
   "id": "35e9f137",
   "metadata": {},
   "outputs": [],
   "source": [
    "data = pd.read_csv('/Users/jennihawk/Documents/Data Science Projects/Churn Project/Models/chatr_clean.csv')"
   ]
  },
  {
   "cell_type": "code",
   "execution_count": 3,
   "id": "1baa799d",
   "metadata": {},
   "outputs": [
    {
     "data": {
      "text/html": [
       "<div>\n",
       "<style scoped>\n",
       "    .dataframe tbody tr th:only-of-type {\n",
       "        vertical-align: middle;\n",
       "    }\n",
       "\n",
       "    .dataframe tbody tr th {\n",
       "        vertical-align: top;\n",
       "    }\n",
       "\n",
       "    .dataframe thead th {\n",
       "        text-align: right;\n",
       "    }\n",
       "</style>\n",
       "<table border=\"1\" class=\"dataframe\">\n",
       "  <thead>\n",
       "    <tr style=\"text-align: right;\">\n",
       "      <th></th>\n",
       "      <th>customerID</th>\n",
       "      <th>SeniorCitizen</th>\n",
       "      <th>tenure</th>\n",
       "      <th>MonthlyCharges</th>\n",
       "      <th>TotalCharges</th>\n",
       "      <th>InternetService_Fiber</th>\n",
       "      <th>InternetService_No</th>\n",
       "      <th>Contract_One_Year</th>\n",
       "      <th>Contract_Two_year</th>\n",
       "      <th>PaymentMethod_Crcard</th>\n",
       "      <th>...</th>\n",
       "      <th>DeviceProtection_No_internet_serv</th>\n",
       "      <th>DeviceProtection_Yes</th>\n",
       "      <th>TechSupport_No_internet_serv</th>\n",
       "      <th>TechSupport_Yes</th>\n",
       "      <th>StreamingTV_No_internet_serv</th>\n",
       "      <th>StreamingTV_Yes</th>\n",
       "      <th>StreamingMovies_No_internet_serv</th>\n",
       "      <th>StreamingMovies_Yes</th>\n",
       "      <th>PaperlessBilling_Yes</th>\n",
       "      <th>Churn_Yes</th>\n",
       "    </tr>\n",
       "  </thead>\n",
       "  <tbody>\n",
       "    <tr>\n",
       "      <th>0</th>\n",
       "      <td>7590-VHVEG</td>\n",
       "      <td>0</td>\n",
       "      <td>1.0</td>\n",
       "      <td>29.85</td>\n",
       "      <td>29.85</td>\n",
       "      <td>0</td>\n",
       "      <td>0</td>\n",
       "      <td>0</td>\n",
       "      <td>0</td>\n",
       "      <td>0</td>\n",
       "      <td>...</td>\n",
       "      <td>0</td>\n",
       "      <td>0</td>\n",
       "      <td>0</td>\n",
       "      <td>0</td>\n",
       "      <td>0</td>\n",
       "      <td>0</td>\n",
       "      <td>0</td>\n",
       "      <td>0</td>\n",
       "      <td>1</td>\n",
       "      <td>0</td>\n",
       "    </tr>\n",
       "    <tr>\n",
       "      <th>1</th>\n",
       "      <td>5575-GNVDE</td>\n",
       "      <td>0</td>\n",
       "      <td>34.0</td>\n",
       "      <td>56.95</td>\n",
       "      <td>1889.50</td>\n",
       "      <td>0</td>\n",
       "      <td>0</td>\n",
       "      <td>1</td>\n",
       "      <td>0</td>\n",
       "      <td>0</td>\n",
       "      <td>...</td>\n",
       "      <td>0</td>\n",
       "      <td>1</td>\n",
       "      <td>0</td>\n",
       "      <td>0</td>\n",
       "      <td>0</td>\n",
       "      <td>0</td>\n",
       "      <td>0</td>\n",
       "      <td>0</td>\n",
       "      <td>0</td>\n",
       "      <td>0</td>\n",
       "    </tr>\n",
       "    <tr>\n",
       "      <th>2</th>\n",
       "      <td>3668-QPYBK</td>\n",
       "      <td>0</td>\n",
       "      <td>2.0</td>\n",
       "      <td>53.85</td>\n",
       "      <td>108.15</td>\n",
       "      <td>0</td>\n",
       "      <td>0</td>\n",
       "      <td>0</td>\n",
       "      <td>0</td>\n",
       "      <td>0</td>\n",
       "      <td>...</td>\n",
       "      <td>0</td>\n",
       "      <td>0</td>\n",
       "      <td>0</td>\n",
       "      <td>0</td>\n",
       "      <td>0</td>\n",
       "      <td>0</td>\n",
       "      <td>0</td>\n",
       "      <td>0</td>\n",
       "      <td>1</td>\n",
       "      <td>1</td>\n",
       "    </tr>\n",
       "    <tr>\n",
       "      <th>3</th>\n",
       "      <td>7795-CFOCW</td>\n",
       "      <td>0</td>\n",
       "      <td>45.0</td>\n",
       "      <td>42.30</td>\n",
       "      <td>1840.75</td>\n",
       "      <td>0</td>\n",
       "      <td>0</td>\n",
       "      <td>1</td>\n",
       "      <td>0</td>\n",
       "      <td>0</td>\n",
       "      <td>...</td>\n",
       "      <td>0</td>\n",
       "      <td>1</td>\n",
       "      <td>0</td>\n",
       "      <td>1</td>\n",
       "      <td>0</td>\n",
       "      <td>0</td>\n",
       "      <td>0</td>\n",
       "      <td>0</td>\n",
       "      <td>0</td>\n",
       "      <td>0</td>\n",
       "    </tr>\n",
       "    <tr>\n",
       "      <th>4</th>\n",
       "      <td>9237-HQITU</td>\n",
       "      <td>0</td>\n",
       "      <td>2.0</td>\n",
       "      <td>70.70</td>\n",
       "      <td>151.65</td>\n",
       "      <td>1</td>\n",
       "      <td>0</td>\n",
       "      <td>0</td>\n",
       "      <td>0</td>\n",
       "      <td>0</td>\n",
       "      <td>...</td>\n",
       "      <td>0</td>\n",
       "      <td>0</td>\n",
       "      <td>0</td>\n",
       "      <td>0</td>\n",
       "      <td>0</td>\n",
       "      <td>0</td>\n",
       "      <td>0</td>\n",
       "      <td>0</td>\n",
       "      <td>1</td>\n",
       "      <td>1</td>\n",
       "    </tr>\n",
       "  </tbody>\n",
       "</table>\n",
       "<p>5 rows × 32 columns</p>\n",
       "</div>"
      ],
      "text/plain": [
       "   customerID  SeniorCitizen  tenure  MonthlyCharges  TotalCharges  \\\n",
       "0  7590-VHVEG              0     1.0           29.85         29.85   \n",
       "1  5575-GNVDE              0    34.0           56.95       1889.50   \n",
       "2  3668-QPYBK              0     2.0           53.85        108.15   \n",
       "3  7795-CFOCW              0    45.0           42.30       1840.75   \n",
       "4  9237-HQITU              0     2.0           70.70        151.65   \n",
       "\n",
       "   InternetService_Fiber  InternetService_No  Contract_One_Year  \\\n",
       "0                      0                   0                  0   \n",
       "1                      0                   0                  1   \n",
       "2                      0                   0                  0   \n",
       "3                      0                   0                  1   \n",
       "4                      1                   0                  0   \n",
       "\n",
       "   Contract_Two_year  PaymentMethod_Crcard  ...  \\\n",
       "0                  0                     0  ...   \n",
       "1                  0                     0  ...   \n",
       "2                  0                     0  ...   \n",
       "3                  0                     0  ...   \n",
       "4                  0                     0  ...   \n",
       "\n",
       "   DeviceProtection_No_internet_serv  DeviceProtection_Yes  \\\n",
       "0                                  0                     0   \n",
       "1                                  0                     1   \n",
       "2                                  0                     0   \n",
       "3                                  0                     1   \n",
       "4                                  0                     0   \n",
       "\n",
       "   TechSupport_No_internet_serv  TechSupport_Yes  \\\n",
       "0                             0                0   \n",
       "1                             0                0   \n",
       "2                             0                0   \n",
       "3                             0                1   \n",
       "4                             0                0   \n",
       "\n",
       "   StreamingTV_No_internet_serv  StreamingTV_Yes  \\\n",
       "0                             0                0   \n",
       "1                             0                0   \n",
       "2                             0                0   \n",
       "3                             0                0   \n",
       "4                             0                0   \n",
       "\n",
       "   StreamingMovies_No_internet_serv  StreamingMovies_Yes  \\\n",
       "0                                 0                    0   \n",
       "1                                 0                    0   \n",
       "2                                 0                    0   \n",
       "3                                 0                    0   \n",
       "4                                 0                    0   \n",
       "\n",
       "   PaperlessBilling_Yes  Churn_Yes  \n",
       "0                     1          0  \n",
       "1                     0          0  \n",
       "2                     1          1  \n",
       "3                     0          0  \n",
       "4                     1          1  \n",
       "\n",
       "[5 rows x 32 columns]"
      ]
     },
     "execution_count": 3,
     "metadata": {},
     "output_type": "execute_result"
    }
   ],
   "source": [
    "data.head()"
   ]
  },
  {
   "cell_type": "code",
   "execution_count": 4,
   "id": "06c19a68",
   "metadata": {},
   "outputs": [],
   "source": [
    "#data.info()"
   ]
  },
  {
   "cell_type": "code",
   "execution_count": 5,
   "id": "773cbd3b",
   "metadata": {},
   "outputs": [
    {
     "data": {
      "text/plain": [
       "Index(['customerID', 'SeniorCitizen', 'tenure', 'MonthlyCharges',\n",
       "       'TotalCharges', 'InternetService_Fiber', 'InternetService_No',\n",
       "       'Contract_One_Year', 'Contract_Two_year', 'PaymentMethod_Crcard',\n",
       "       'PaymentMethod_Electr_Check', 'PaymentMethod_Mailed_check',\n",
       "       'MultipleLines_No_phone_serv', 'MultipleLines_Yes', 'Dependents_Yes',\n",
       "       'gender_Male', 'Partner_Yes', 'PhoneService_Yes',\n",
       "       'OnlineSecurity_No_internet_serv', 'OnlineSecurity_Yes',\n",
       "       'OnlineBackup_No_Internet_Serv', 'OnlineBackup_Yes',\n",
       "       'DeviceProtection_No_internet_serv', 'DeviceProtection_Yes',\n",
       "       'TechSupport_No_internet_serv', 'TechSupport_Yes',\n",
       "       'StreamingTV_No_internet_serv', 'StreamingTV_Yes',\n",
       "       'StreamingMovies_No_internet_serv', 'StreamingMovies_Yes',\n",
       "       'PaperlessBilling_Yes', 'Churn_Yes'],\n",
       "      dtype='object')"
      ]
     },
     "execution_count": 5,
     "metadata": {},
     "output_type": "execute_result"
    }
   ],
   "source": [
    "data.columns"
   ]
  },
  {
   "cell_type": "markdown",
   "id": "1503498d",
   "metadata": {},
   "source": [
    "### Model Setup"
   ]
  },
  {
   "cell_type": "code",
   "execution_count": 6,
   "id": "7055d877",
   "metadata": {},
   "outputs": [
    {
     "data": {
      "text/plain": [
       "Pipeline(steps=[('scaler', StandardScaler()), ('LogReg', LogisticRegression())])"
      ]
     },
     "execution_count": 6,
     "metadata": {},
     "output_type": "execute_result"
    }
   ],
   "source": [
    "y = data['Churn_Yes']\n",
    "X = data.drop(['Churn_Yes', 'customerID'], axis =1)\n",
    "\n",
    "X_train, X_test, y_train, y_test = train_test_split(X, y, random_state=42)\n",
    "\n",
    "pipe = Pipeline([('scaler', StandardScaler()), ('LogReg', LogisticRegression())])\n",
    "\n",
    "# fit logistic regression to training data\n",
    "pipe.fit(X_train, y_train)  "
   ]
  },
  {
   "cell_type": "code",
   "execution_count": 7,
   "id": "9cf1d46f",
   "metadata": {},
   "outputs": [
    {
     "name": "stdout",
     "output_type": "stream",
     "text": [
      "(5274, 30)\n",
      "(1758, 30)\n",
      "(5274,)\n",
      "(1758,)\n"
     ]
    }
   ],
   "source": [
    "print(X_train.shape)\n",
    "print(X_test.shape)\n",
    "print(y_train.shape)\n",
    "print(y_test.shape)"
   ]
  },
  {
   "cell_type": "markdown",
   "id": "fa4a4169",
   "metadata": {},
   "source": [
    "### Churn Target Column\n",
    "27% churn"
   ]
  },
  {
   "cell_type": "code",
   "execution_count": 8,
   "id": "721315db",
   "metadata": {},
   "outputs": [
    {
     "data": {
      "image/png": "[encoded data removed]",
      "text/plain": [
       "<Figure size 640x480 with 1 Axes>"
      ]
     },
     "metadata": {},
     "output_type": "display_data"
    }
   ],
   "source": [
    "unique, counts = np.unique(y, return_counts=True)\n",
    "plt.pie(counts, labels=unique, autopct='%.0f%%');"
   ]
  },
  {
   "cell_type": "markdown",
   "id": "7fde8861",
   "metadata": {},
   "source": [
    "### Churn on Test + Train Data\n",
    "- parity in test and train\n",
    "- 1 to 3 ratio (26% have a one / 74% zero)"
   ]
  },
  {
   "cell_type": "code",
   "execution_count": 9,
   "id": "cc60552b",
   "metadata": {},
   "outputs": [
    {
     "data": {
      "text/plain": [
       "0.26753886992794845"
      ]
     },
     "execution_count": 9,
     "metadata": {},
     "output_type": "execute_result"
    }
   ],
   "source": [
    "np.mean(y_train)"
   ]
  },
  {
   "cell_type": "code",
   "execution_count": 10,
   "id": "a4038d29",
   "metadata": {},
   "outputs": [
    {
     "data": {
      "text/plain": [
       "0.2605233219567691"
      ]
     },
     "execution_count": 10,
     "metadata": {},
     "output_type": "execute_result"
    }
   ],
   "source": [
    "np.mean(y_test)"
   ]
  },
  {
   "cell_type": "markdown",
   "id": "878b6267",
   "metadata": {},
   "source": [
    "### ROC AUC\n",
    "How well does the model classify observations"
   ]
  },
  {
   "cell_type": "code",
   "execution_count": 11,
   "id": "9f7f5f89",
   "metadata": {},
   "outputs": [],
   "source": [
    "y_pred = pipe.predict_proba(X_test)[:,1] #soft class predictions\n",
    "fpr, tpr, thresholds = roc_curve(y_test, y_pred)"
   ]
  },
  {
   "cell_type": "code",
   "execution_count": 12,
   "id": "791f902e",
   "metadata": {},
   "outputs": [
    {
     "name": "stdout",
     "output_type": "stream",
     "text": [
      "ROC AUC score =  0.8344776620759153\n"
     ]
    },
    {
     "data": {
      "image/png": "[encoded data removed]",
      "text/plain": [
       "<Figure size 640x480 with 1 Axes>"
      ]
     },
     "metadata": {},
     "output_type": "display_data"
    }
   ],
   "source": [
    "plt.plot(fpr, tpr,lw=2)\n",
    "plt.plot([0,1],[0,1],c='orange',ls='--')\n",
    "plt.xlim([-0.05,1.05])\n",
    "plt.ylim([-0.05,1.05])\n",
    "\n",
    "\n",
    "plt.xlabel('False positive rate')\n",
    "plt.ylabel('True positive rate')\n",
    "plt.title('ROC Curve');\n",
    "print(\"ROC AUC score = \", roc_auc_score(y_test, y_pred))\n",
    "#plt.savefig('ROC Curve.png', dpi=300) "
   ]
  },
  {
   "cell_type": "markdown",
   "id": "c7f34c10",
   "metadata": {},
   "source": [
    "#### Hard Class Predictions (No Oversample Train Data)\n",
    "Predict Churn / Not Churn"
   ]
  },
  {
   "cell_type": "code",
   "execution_count": 13,
   "id": "6c06140b",
   "metadata": {},
   "outputs": [],
   "source": [
    "y_pred = pipe.predict(X_test)"
   ]
  },
  {
   "cell_type": "markdown",
   "id": "31189640",
   "metadata": {},
   "source": [
    "#### Results for No Oversample Train Data\n"
   ]
  },
  {
   "cell_type": "code",
   "execution_count": 14,
   "id": "b4f91027",
   "metadata": {},
   "outputs": [
    {
     "name": "stdout",
     "output_type": "stream",
     "text": [
      "Default treshold:\n",
      "Precision: 0.6139896373056994\n",
      "Recall: 0.517467248908297\n",
      "F1: 0.5616113744075829\n"
     ]
    }
   ],
   "source": [
    "print(\"Default treshold:\")\n",
    "print(f\"Precision: {precision_score(y_test, y_pred)}\")\n",
    "print(f\"Recall: {recall_score(y_test, y_pred)}\")\n",
    "print(f\"F1: {f1_score(y_test, y_pred)}\")"
   ]
  },
  {
   "cell_type": "markdown",
   "id": "14bf40f6",
   "metadata": {},
   "source": [
    "### Coefficient For Each Feature \n",
    "- Which features are strongly associated with churn and not churning?"
   ]
  },
  {
   "cell_type": "markdown",
   "id": "d8ac9068",
   "metadata": {},
   "source": [
    "#### Coeffcients in Log Odds Units"
   ]
  },
  {
   "cell_type": "code",
   "execution_count": 15,
   "id": "9f2b8004",
   "metadata": {},
   "outputs": [],
   "source": [
    "#.T to transform cuz there was a shape error\n",
    "coefs_tst_data = pd.DataFrame(pipe['LogReg'].coef_.T, X.columns, columns = ['Coeff_Log_Odds'])"
   ]
  },
  {
   "cell_type": "code",
   "execution_count": 16,
   "id": "c63f38a3",
   "metadata": {},
   "outputs": [
    {
     "data": {
      "text/html": [
       "<div>\n",
       "<style scoped>\n",
       "    .dataframe tbody tr th:only-of-type {\n",
       "        vertical-align: middle;\n",
       "    }\n",
       "\n",
       "    .dataframe tbody tr th {\n",
       "        vertical-align: top;\n",
       "    }\n",
       "\n",
       "    .dataframe thead th {\n",
       "        text-align: right;\n",
       "    }\n",
       "</style>\n",
       "<table border=\"1\" class=\"dataframe\">\n",
       "  <thead>\n",
       "    <tr style=\"text-align: right;\">\n",
       "      <th></th>\n",
       "      <th>Coeff_Log_Odds</th>\n",
       "    </tr>\n",
       "  </thead>\n",
       "  <tbody>\n",
       "    <tr>\n",
       "      <th>TotalCharges</th>\n",
       "      <td>0.746655</td>\n",
       "    </tr>\n",
       "    <tr>\n",
       "      <th>InternetService_Fiber</th>\n",
       "      <td>0.600124</td>\n",
       "    </tr>\n",
       "    <tr>\n",
       "      <th>StreamingMovies_Yes</th>\n",
       "      <td>0.195780</td>\n",
       "    </tr>\n",
       "    <tr>\n",
       "      <th>StreamingTV_Yes</th>\n",
       "      <td>0.173457</td>\n",
       "    </tr>\n",
       "    <tr>\n",
       "      <th>MultipleLines_Yes</th>\n",
       "      <td>0.131167</td>\n",
       "    </tr>\n",
       "    <tr>\n",
       "      <th>PaymentMethod_Electr_Check</th>\n",
       "      <td>0.123118</td>\n",
       "    </tr>\n",
       "    <tr>\n",
       "      <th>PaperlessBilling_Yes</th>\n",
       "      <td>0.114826</td>\n",
       "    </tr>\n",
       "    <tr>\n",
       "      <th>SeniorCitizen</th>\n",
       "      <td>0.090125</td>\n",
       "    </tr>\n",
       "    <tr>\n",
       "      <th>Partner_Yes</th>\n",
       "      <td>0.047038</td>\n",
       "    </tr>\n",
       "    <tr>\n",
       "      <th>MultipleLines_No_phone_serv</th>\n",
       "      <td>0.042894</td>\n",
       "    </tr>\n",
       "    <tr>\n",
       "      <th>DeviceProtection_Yes</th>\n",
       "      <td>0.038966</td>\n",
       "    </tr>\n",
       "    <tr>\n",
       "      <th>gender_Male</th>\n",
       "      <td>-0.015224</td>\n",
       "    </tr>\n",
       "    <tr>\n",
       "      <th>OnlineBackup_Yes</th>\n",
       "      <td>-0.025702</td>\n",
       "    </tr>\n",
       "    <tr>\n",
       "      <th>PaymentMethod_Mailed_check</th>\n",
       "      <td>-0.033418</td>\n",
       "    </tr>\n",
       "    <tr>\n",
       "      <th>PhoneService_Yes</th>\n",
       "      <td>-0.042894</td>\n",
       "    </tr>\n",
       "    <tr>\n",
       "      <th>PaymentMethod_Crcard</th>\n",
       "      <td>-0.052276</td>\n",
       "    </tr>\n",
       "    <tr>\n",
       "      <th>OnlineSecurity_No_internet_serv</th>\n",
       "      <td>-0.066252</td>\n",
       "    </tr>\n",
       "    <tr>\n",
       "      <th>DeviceProtection_No_internet_serv</th>\n",
       "      <td>-0.066252</td>\n",
       "    </tr>\n",
       "    <tr>\n",
       "      <th>TechSupport_No_internet_serv</th>\n",
       "      <td>-0.066252</td>\n",
       "    </tr>\n",
       "    <tr>\n",
       "      <th>StreamingTV_No_internet_serv</th>\n",
       "      <td>-0.066252</td>\n",
       "    </tr>\n",
       "    <tr>\n",
       "      <th>InternetService_No</th>\n",
       "      <td>-0.066252</td>\n",
       "    </tr>\n",
       "    <tr>\n",
       "      <th>StreamingMovies_No_internet_serv</th>\n",
       "      <td>-0.066252</td>\n",
       "    </tr>\n",
       "    <tr>\n",
       "      <th>OnlineBackup_No_Internet_Serv</th>\n",
       "      <td>-0.066252</td>\n",
       "    </tr>\n",
       "    <tr>\n",
       "      <th>Dependents_Yes</th>\n",
       "      <td>-0.110642</td>\n",
       "    </tr>\n",
       "    <tr>\n",
       "      <th>TechSupport_Yes</th>\n",
       "      <td>-0.138082</td>\n",
       "    </tr>\n",
       "    <tr>\n",
       "      <th>OnlineSecurity_Yes</th>\n",
       "      <td>-0.160019</td>\n",
       "    </tr>\n",
       "    <tr>\n",
       "      <th>Contract_One_Year</th>\n",
       "      <td>-0.318596</td>\n",
       "    </tr>\n",
       "    <tr>\n",
       "      <th>MonthlyCharges</th>\n",
       "      <td>-0.477732</td>\n",
       "    </tr>\n",
       "    <tr>\n",
       "      <th>Contract_Two_year</th>\n",
       "      <td>-0.582751</td>\n",
       "    </tr>\n",
       "    <tr>\n",
       "      <th>tenure</th>\n",
       "      <td>-1.502647</td>\n",
       "    </tr>\n",
       "  </tbody>\n",
       "</table>\n",
       "</div>"
      ],
      "text/plain": [
       "                                   Coeff_Log_Odds\n",
       "TotalCharges                             0.746655\n",
       "InternetService_Fiber                    0.600124\n",
       "StreamingMovies_Yes                      0.195780\n",
       "StreamingTV_Yes                          0.173457\n",
       "MultipleLines_Yes                        0.131167\n",
       "PaymentMethod_Electr_Check               0.123118\n",
       "PaperlessBilling_Yes                     0.114826\n",
       "SeniorCitizen                            0.090125\n",
       "Partner_Yes                              0.047038\n",
       "MultipleLines_No_phone_serv              0.042894\n",
       "DeviceProtection_Yes                     0.038966\n",
       "gender_Male                             -0.015224\n",
       "OnlineBackup_Yes                        -0.025702\n",
       "PaymentMethod_Mailed_check              -0.033418\n",
       "PhoneService_Yes                        -0.042894\n",
       "PaymentMethod_Crcard                    -0.052276\n",
       "OnlineSecurity_No_internet_serv         -0.066252\n",
       "DeviceProtection_No_internet_serv       -0.066252\n",
       "TechSupport_No_internet_serv            -0.066252\n",
       "StreamingTV_No_internet_serv            -0.066252\n",
       "InternetService_No                      -0.066252\n",
       "StreamingMovies_No_internet_serv        -0.066252\n",
       "OnlineBackup_No_Internet_Serv           -0.066252\n",
       "Dependents_Yes                          -0.110642\n",
       "TechSupport_Yes                         -0.138082\n",
       "OnlineSecurity_Yes                      -0.160019\n",
       "Contract_One_Year                       -0.318596\n",
       "MonthlyCharges                          -0.477732\n",
       "Contract_Two_year                       -0.582751\n",
       "tenure                                  -1.502647"
      ]
     },
     "execution_count": 16,
     "metadata": {},
     "output_type": "execute_result"
    }
   ],
   "source": [
    "coefs_tst_data.sort_values(by='Coeff_Log_Odds', ascending = False)"
   ]
  },
  {
   "cell_type": "markdown",
   "id": "90c25788",
   "metadata": {},
   "source": [
    "#### Get Aboslute Values of Coeff_Log_Odds\n",
    "- Feature Importance contains signal. It's just as important to say a feature indicates positive class as it is to say it indicates negative class. "
   ]
  },
  {
   "cell_type": "code",
   "execution_count": 17,
   "id": "5e364efc",
   "metadata": {},
   "outputs": [],
   "source": [
    "#new column with values of Coeff_Log_Odds\n",
    "coefs_tst_data['abs_Coeff'] = coefs_tst_data.loc[:, 'Coeff_Log_Odds']\n",
    "#make column absolute values\n",
    "coefs_tst_data['abs_Coeff'] = coefs_tst_data['abs_Coeff'].abs()"
   ]
  },
  {
   "cell_type": "code",
   "execution_count": 18,
   "id": "a0385620",
   "metadata": {},
   "outputs": [
    {
     "data": {
      "text/html": [
       "<div>\n",
       "<style scoped>\n",
       "    .dataframe tbody tr th:only-of-type {\n",
       "        vertical-align: middle;\n",
       "    }\n",
       "\n",
       "    .dataframe tbody tr th {\n",
       "        vertical-align: top;\n",
       "    }\n",
       "\n",
       "    .dataframe thead th {\n",
       "        text-align: right;\n",
       "    }\n",
       "</style>\n",
       "<table border=\"1\" class=\"dataframe\">\n",
       "  <thead>\n",
       "    <tr style=\"text-align: right;\">\n",
       "      <th></th>\n",
       "      <th>Coeff_Log_Odds</th>\n",
       "      <th>abs_Coeff</th>\n",
       "    </tr>\n",
       "  </thead>\n",
       "  <tbody>\n",
       "    <tr>\n",
       "      <th>tenure</th>\n",
       "      <td>-1.502647</td>\n",
       "      <td>1.502647</td>\n",
       "    </tr>\n",
       "    <tr>\n",
       "      <th>TotalCharges</th>\n",
       "      <td>0.746655</td>\n",
       "      <td>0.746655</td>\n",
       "    </tr>\n",
       "    <tr>\n",
       "      <th>InternetService_Fiber</th>\n",
       "      <td>0.600124</td>\n",
       "      <td>0.600124</td>\n",
       "    </tr>\n",
       "    <tr>\n",
       "      <th>Contract_Two_year</th>\n",
       "      <td>-0.582751</td>\n",
       "      <td>0.582751</td>\n",
       "    </tr>\n",
       "    <tr>\n",
       "      <th>MonthlyCharges</th>\n",
       "      <td>-0.477732</td>\n",
       "      <td>0.477732</td>\n",
       "    </tr>\n",
       "    <tr>\n",
       "      <th>Contract_One_Year</th>\n",
       "      <td>-0.318596</td>\n",
       "      <td>0.318596</td>\n",
       "    </tr>\n",
       "    <tr>\n",
       "      <th>StreamingMovies_Yes</th>\n",
       "      <td>0.195780</td>\n",
       "      <td>0.195780</td>\n",
       "    </tr>\n",
       "    <tr>\n",
       "      <th>StreamingTV_Yes</th>\n",
       "      <td>0.173457</td>\n",
       "      <td>0.173457</td>\n",
       "    </tr>\n",
       "    <tr>\n",
       "      <th>OnlineSecurity_Yes</th>\n",
       "      <td>-0.160019</td>\n",
       "      <td>0.160019</td>\n",
       "    </tr>\n",
       "    <tr>\n",
       "      <th>TechSupport_Yes</th>\n",
       "      <td>-0.138082</td>\n",
       "      <td>0.138082</td>\n",
       "    </tr>\n",
       "    <tr>\n",
       "      <th>MultipleLines_Yes</th>\n",
       "      <td>0.131167</td>\n",
       "      <td>0.131167</td>\n",
       "    </tr>\n",
       "    <tr>\n",
       "      <th>PaymentMethod_Electr_Check</th>\n",
       "      <td>0.123118</td>\n",
       "      <td>0.123118</td>\n",
       "    </tr>\n",
       "    <tr>\n",
       "      <th>PaperlessBilling_Yes</th>\n",
       "      <td>0.114826</td>\n",
       "      <td>0.114826</td>\n",
       "    </tr>\n",
       "    <tr>\n",
       "      <th>Dependents_Yes</th>\n",
       "      <td>-0.110642</td>\n",
       "      <td>0.110642</td>\n",
       "    </tr>\n",
       "    <tr>\n",
       "      <th>SeniorCitizen</th>\n",
       "      <td>0.090125</td>\n",
       "      <td>0.090125</td>\n",
       "    </tr>\n",
       "    <tr>\n",
       "      <th>OnlineSecurity_No_internet_serv</th>\n",
       "      <td>-0.066252</td>\n",
       "      <td>0.066252</td>\n",
       "    </tr>\n",
       "    <tr>\n",
       "      <th>OnlineBackup_No_Internet_Serv</th>\n",
       "      <td>-0.066252</td>\n",
       "      <td>0.066252</td>\n",
       "    </tr>\n",
       "    <tr>\n",
       "      <th>DeviceProtection_No_internet_serv</th>\n",
       "      <td>-0.066252</td>\n",
       "      <td>0.066252</td>\n",
       "    </tr>\n",
       "    <tr>\n",
       "      <th>TechSupport_No_internet_serv</th>\n",
       "      <td>-0.066252</td>\n",
       "      <td>0.066252</td>\n",
       "    </tr>\n",
       "    <tr>\n",
       "      <th>StreamingTV_No_internet_serv</th>\n",
       "      <td>-0.066252</td>\n",
       "      <td>0.066252</td>\n",
       "    </tr>\n",
       "    <tr>\n",
       "      <th>StreamingMovies_No_internet_serv</th>\n",
       "      <td>-0.066252</td>\n",
       "      <td>0.066252</td>\n",
       "    </tr>\n",
       "    <tr>\n",
       "      <th>InternetService_No</th>\n",
       "      <td>-0.066252</td>\n",
       "      <td>0.066252</td>\n",
       "    </tr>\n",
       "    <tr>\n",
       "      <th>PaymentMethod_Crcard</th>\n",
       "      <td>-0.052276</td>\n",
       "      <td>0.052276</td>\n",
       "    </tr>\n",
       "    <tr>\n",
       "      <th>Partner_Yes</th>\n",
       "      <td>0.047038</td>\n",
       "      <td>0.047038</td>\n",
       "    </tr>\n",
       "    <tr>\n",
       "      <th>PhoneService_Yes</th>\n",
       "      <td>-0.042894</td>\n",
       "      <td>0.042894</td>\n",
       "    </tr>\n",
       "    <tr>\n",
       "      <th>MultipleLines_No_phone_serv</th>\n",
       "      <td>0.042894</td>\n",
       "      <td>0.042894</td>\n",
       "    </tr>\n",
       "    <tr>\n",
       "      <th>DeviceProtection_Yes</th>\n",
       "      <td>0.038966</td>\n",
       "      <td>0.038966</td>\n",
       "    </tr>\n",
       "    <tr>\n",
       "      <th>PaymentMethod_Mailed_check</th>\n",
       "      <td>-0.033418</td>\n",
       "      <td>0.033418</td>\n",
       "    </tr>\n",
       "    <tr>\n",
       "      <th>OnlineBackup_Yes</th>\n",
       "      <td>-0.025702</td>\n",
       "      <td>0.025702</td>\n",
       "    </tr>\n",
       "    <tr>\n",
       "      <th>gender_Male</th>\n",
       "      <td>-0.015224</td>\n",
       "      <td>0.015224</td>\n",
       "    </tr>\n",
       "  </tbody>\n",
       "</table>\n",
       "</div>"
      ],
      "text/plain": [
       "                                   Coeff_Log_Odds  abs_Coeff\n",
       "tenure                                  -1.502647   1.502647\n",
       "TotalCharges                             0.746655   0.746655\n",
       "InternetService_Fiber                    0.600124   0.600124\n",
       "Contract_Two_year                       -0.582751   0.582751\n",
       "MonthlyCharges                          -0.477732   0.477732\n",
       "Contract_One_Year                       -0.318596   0.318596\n",
       "StreamingMovies_Yes                      0.195780   0.195780\n",
       "StreamingTV_Yes                          0.173457   0.173457\n",
       "OnlineSecurity_Yes                      -0.160019   0.160019\n",
       "TechSupport_Yes                         -0.138082   0.138082\n",
       "MultipleLines_Yes                        0.131167   0.131167\n",
       "PaymentMethod_Electr_Check               0.123118   0.123118\n",
       "PaperlessBilling_Yes                     0.114826   0.114826\n",
       "Dependents_Yes                          -0.110642   0.110642\n",
       "SeniorCitizen                            0.090125   0.090125\n",
       "OnlineSecurity_No_internet_serv         -0.066252   0.066252\n",
       "OnlineBackup_No_Internet_Serv           -0.066252   0.066252\n",
       "DeviceProtection_No_internet_serv       -0.066252   0.066252\n",
       "TechSupport_No_internet_serv            -0.066252   0.066252\n",
       "StreamingTV_No_internet_serv            -0.066252   0.066252\n",
       "StreamingMovies_No_internet_serv        -0.066252   0.066252\n",
       "InternetService_No                      -0.066252   0.066252\n",
       "PaymentMethod_Crcard                    -0.052276   0.052276\n",
       "Partner_Yes                              0.047038   0.047038\n",
       "PhoneService_Yes                        -0.042894   0.042894\n",
       "MultipleLines_No_phone_serv              0.042894   0.042894\n",
       "DeviceProtection_Yes                     0.038966   0.038966\n",
       "PaymentMethod_Mailed_check              -0.033418   0.033418\n",
       "OnlineBackup_Yes                        -0.025702   0.025702\n",
       "gender_Male                             -0.015224   0.015224"
      ]
     },
     "execution_count": 18,
     "metadata": {},
     "output_type": "execute_result"
    }
   ],
   "source": [
    "coefs_tst_data.sort_values(by='abs_Coeff', ascending = False)"
   ]
  },
  {
   "cell_type": "markdown",
   "id": "f59e5e71",
   "metadata": {},
   "source": [
    "#### Chart top 15 important based on absolute values\n",
    "- Reflect features with strong signal for both churn and not churn "
   ]
  },
  {
   "cell_type": "code",
   "execution_count": 19,
   "id": "6a239468",
   "metadata": {},
   "outputs": [
    {
     "data": {
      "image/png": "[encoded data removed]",
      "text/plain": [
       "<Figure size 640x480 with 1 Axes>"
      ]
     },
     "metadata": {},
     "output_type": "display_data"
    }
   ],
   "source": [
    "# gets column names\n",
    "imp_features = pd.Series(coefs_tst_data.abs_Coeff, index=X.columns)\n",
    "imp_features.nlargest(15).plot(kind='barh')\n",
    "plt.title(\"Top 15 important features\")\n",
    "#plt.savefig(\"LogReg_FeaturesImg.png\", format=\"png\", dpi=300)\n",
    "plt.show()"
   ]
  },
  {
   "cell_type": "markdown",
   "id": "cc3bfde2",
   "metadata": {},
   "source": [
    "### Oversampled Model"
   ]
  },
  {
   "cell_type": "markdown",
   "id": "6b63f754",
   "metadata": {},
   "source": [
    "#### Setup Oversampling on the Training Data\n",
    "- Only oversample training dataset. \n",
    "- Validation and test sets still represent the same type of data we'd see in real world. \n",
    "    - Validation and test data should still have the same majority/minority ratio that you would expect to actually find in practice.\n",
    "\n",
    "- Used 3x positive samples. Rationale: We have 3 to 1 ratio of negative to positive observations."
   ]
  },
  {
   "cell_type": "code",
   "execution_count": 20,
   "id": "d1e3d58d",
   "metadata": {},
   "outputs": [
    {
     "name": "stderr",
     "output_type": "stream",
     "text": [
      "/opt/anaconda3/lib/python3.9/site-packages/imblearn/utils/_validation.py:313: UserWarning: After over-sampling, the number of samples (4233) in class 1 will be larger than the number of samples in the majority class (class #0 -> 3863)\n",
      "  warnings.warn(\n"
     ]
    }
   ],
   "source": [
    "# setup for the ratio argument of RandomOverSampler initialization\n",
    "n_pos = np.sum(y_train == 1)\n",
    "n_neg = np.sum(y_train == 0)\n",
    "ratio = {1 : n_pos * 3, 0 : n_neg} \n",
    "\n",
    "# randomly oversample positive samples\n",
    "ROS = imblearn.over_sampling.RandomOverSampler(sampling_strategy = ratio, random_state=42) \n",
    "\n",
    "#use the fit_sample method to create the dataset with a desired proportion\n",
    "#the variables X_tr_oversample, y_tr_oversample hold training data with extra samples just created\n",
    "X_tr_oversample, y_tr_oversample = ROS.fit_resample(X_train, y_train)"
   ]
  },
  {
   "cell_type": "markdown",
   "id": "6de147d2",
   "metadata": {},
   "source": [
    "#### Setup Oversample model "
   ]
  },
  {
   "cell_type": "code",
   "execution_count": 21,
   "id": "1dda4874",
   "metadata": {},
   "outputs": [],
   "source": [
    "#instantiate logistic regression model with Pipeline\n",
    "pipe_oversample = Pipeline([('scaler', StandardScaler()), ('LogReg', LogisticRegression())])"
   ]
  },
  {
   "cell_type": "code",
   "execution_count": 22,
   "id": "c2b3c795",
   "metadata": {},
   "outputs": [
    {
     "name": "stdout",
     "output_type": "stream",
     "text": [
      "<class 'sklearn.pipeline.Pipeline'>\n"
     ]
    }
   ],
   "source": [
    "print(type(pipe_oversample))"
   ]
  },
  {
   "cell_type": "markdown",
   "id": "8f6f4522",
   "metadata": {},
   "source": [
    "#### Fit model on the oversampled training data"
   ]
  },
  {
   "cell_type": "code",
   "execution_count": 23,
   "id": "875ec477",
   "metadata": {},
   "outputs": [
    {
     "data": {
      "text/plain": [
       "Pipeline(steps=[('scaler', StandardScaler()), ('LogReg', LogisticRegression())])"
      ]
     },
     "execution_count": 23,
     "metadata": {},
     "output_type": "execute_result"
    }
   ],
   "source": [
    "pipe_oversample.fit(X_tr_oversample, y_tr_oversample)"
   ]
  },
  {
   "cell_type": "markdown",
   "id": "d041fd24",
   "metadata": {},
   "source": [
    "#### Hard Class Predictions on Oversampling -  results are on the test data"
   ]
  },
  {
   "cell_type": "code",
   "execution_count": 24,
   "id": "78b122de",
   "metadata": {},
   "outputs": [
    {
     "data": {
      "text/plain": [
       "array([0, 0, 1, ..., 1, 1, 0])"
      ]
     },
     "execution_count": 24,
     "metadata": {},
     "output_type": "execute_result"
    }
   ],
   "source": [
    "y_pred_oversample = pipe_oversample.predict(X_test)\n",
    "y_pred_oversample"
   ]
  },
  {
   "cell_type": "markdown",
   "id": "f7cb7b8d",
   "metadata": {},
   "source": [
    "#### Soft Class Predictions on Oversample"
   ]
  },
  {
   "cell_type": "code",
   "execution_count": 25,
   "id": "8a052522",
   "metadata": {},
   "outputs": [],
   "source": [
    "y_prob_train = pipe_oversample.predict_proba(X_test)\n",
    "y_prob_test = pipe_oversample.predict_proba(X_train)"
   ]
  },
  {
   "cell_type": "markdown",
   "id": "25612e61",
   "metadata": {},
   "source": [
    "#### AUC On Oversampled Train data - results are on the test set"
   ]
  },
  {
   "cell_type": "code",
   "execution_count": 26,
   "id": "11b3e9c8",
   "metadata": {},
   "outputs": [],
   "source": [
    "fpr, tpr, thresholds = metrics.roc_curve(y_test, y_pred_oversample)\n",
    "auc_oversamp = round(metrics.roc_auc_score(y_test, y_pred_oversample), 4)"
   ]
  },
  {
   "cell_type": "code",
   "execution_count": 27,
   "id": "5460733a",
   "metadata": {},
   "outputs": [
    {
     "data": {
      "text/plain": [
       "0.7494"
      ]
     },
     "execution_count": 27,
     "metadata": {},
     "output_type": "execute_result"
    }
   ],
   "source": [
    "auc_oversamp"
   ]
  },
  {
   "cell_type": "markdown",
   "id": "801573bb",
   "metadata": {},
   "source": [
    "#### Metrics Oversampled Train Data - results are on the test set"
   ]
  },
  {
   "cell_type": "code",
   "execution_count": 28,
   "id": "9a408bc3",
   "metadata": {},
   "outputs": [
    {
     "name": "stdout",
     "output_type": "stream",
     "text": [
      "Default threshold:\n",
      "Precision: 0.48046875\n",
      "Recall: 0.8056768558951966\n",
      "F1: 0.601957585644372\n"
     ]
    }
   ],
   "source": [
    "print(\"Default threshold:\")\n",
    "print(f\"Precision: {precision_score(y_test, y_pred_oversample)}\")\n",
    "print(f\"Recall: {recall_score(y_test, y_pred_oversample)}\")\n",
    "print(f\"F1: {f1_score(y_test, y_pred_oversample)}\")"
   ]
  },
  {
   "cell_type": "markdown",
   "id": "2f8e6c32",
   "metadata": {},
   "source": [
    "#### Coeffcients in Log Odds Units on Oversampled Training Data"
   ]
  },
  {
   "cell_type": "code",
   "execution_count": 29,
   "id": "e3ffba56",
   "metadata": {},
   "outputs": [],
   "source": [
    "coefs_tst_data2 = pd.DataFrame(pipe_oversample['LogReg'].coef_.T, X.columns, columns = ['Coeff_Log_Odds_Oversamp'])"
   ]
  },
  {
   "cell_type": "code",
   "execution_count": 30,
   "id": "5ee18448",
   "metadata": {},
   "outputs": [
    {
     "data": {
      "text/html": [
       "<div>\n",
       "<style scoped>\n",
       "    .dataframe tbody tr th:only-of-type {\n",
       "        vertical-align: middle;\n",
       "    }\n",
       "\n",
       "    .dataframe tbody tr th {\n",
       "        vertical-align: top;\n",
       "    }\n",
       "\n",
       "    .dataframe thead th {\n",
       "        text-align: right;\n",
       "    }\n",
       "</style>\n",
       "<table border=\"1\" class=\"dataframe\">\n",
       "  <thead>\n",
       "    <tr style=\"text-align: right;\">\n",
       "      <th></th>\n",
       "      <th>Coeff_Log_Odds_Oversamp</th>\n",
       "    </tr>\n",
       "  </thead>\n",
       "  <tbody>\n",
       "    <tr>\n",
       "      <th>InternetService_Fiber</th>\n",
       "      <td>0.845664</td>\n",
       "    </tr>\n",
       "    <tr>\n",
       "      <th>TotalCharges</th>\n",
       "      <td>0.677032</td>\n",
       "    </tr>\n",
       "    <tr>\n",
       "      <th>StreamingMovies_Yes</th>\n",
       "      <td>0.311271</td>\n",
       "    </tr>\n",
       "    <tr>\n",
       "      <th>StreamingTV_Yes</th>\n",
       "      <td>0.289141</td>\n",
       "    </tr>\n",
       "    <tr>\n",
       "      <th>PaymentMethod_Electr_Check</th>\n",
       "      <td>0.185143</td>\n",
       "    </tr>\n",
       "    <tr>\n",
       "      <th>MultipleLines_Yes</th>\n",
       "      <td>0.165019</td>\n",
       "    </tr>\n",
       "    <tr>\n",
       "      <th>SeniorCitizen</th>\n",
       "      <td>0.086180</td>\n",
       "    </tr>\n",
       "    <tr>\n",
       "      <th>PaperlessBilling_Yes</th>\n",
       "      <td>0.079371</td>\n",
       "    </tr>\n",
       "    <tr>\n",
       "      <th>Partner_Yes</th>\n",
       "      <td>0.058196</td>\n",
       "    </tr>\n",
       "    <tr>\n",
       "      <th>PhoneService_Yes</th>\n",
       "      <td>0.046049</td>\n",
       "    </tr>\n",
       "    <tr>\n",
       "      <th>DeviceProtection_Yes</th>\n",
       "      <td>0.045956</td>\n",
       "    </tr>\n",
       "    <tr>\n",
       "      <th>OnlineBackup_Yes</th>\n",
       "      <td>0.017631</td>\n",
       "    </tr>\n",
       "    <tr>\n",
       "      <th>gender_Male</th>\n",
       "      <td>0.005676</td>\n",
       "    </tr>\n",
       "    <tr>\n",
       "      <th>PaymentMethod_Crcard</th>\n",
       "      <td>-0.004089</td>\n",
       "    </tr>\n",
       "    <tr>\n",
       "      <th>MultipleLines_No_phone_serv</th>\n",
       "      <td>-0.046049</td>\n",
       "    </tr>\n",
       "    <tr>\n",
       "      <th>PaymentMethod_Mailed_check</th>\n",
       "      <td>-0.063619</td>\n",
       "    </tr>\n",
       "    <tr>\n",
       "      <th>OnlineSecurity_Yes</th>\n",
       "      <td>-0.081801</td>\n",
       "    </tr>\n",
       "    <tr>\n",
       "      <th>TechSupport_Yes</th>\n",
       "      <td>-0.084823</td>\n",
       "    </tr>\n",
       "    <tr>\n",
       "      <th>OnlineSecurity_No_internet_serv</th>\n",
       "      <td>-0.097118</td>\n",
       "    </tr>\n",
       "    <tr>\n",
       "      <th>DeviceProtection_No_internet_serv</th>\n",
       "      <td>-0.097118</td>\n",
       "    </tr>\n",
       "    <tr>\n",
       "      <th>TechSupport_No_internet_serv</th>\n",
       "      <td>-0.097118</td>\n",
       "    </tr>\n",
       "    <tr>\n",
       "      <th>StreamingTV_No_internet_serv</th>\n",
       "      <td>-0.097118</td>\n",
       "    </tr>\n",
       "    <tr>\n",
       "      <th>InternetService_No</th>\n",
       "      <td>-0.097118</td>\n",
       "    </tr>\n",
       "    <tr>\n",
       "      <th>StreamingMovies_No_internet_serv</th>\n",
       "      <td>-0.097118</td>\n",
       "    </tr>\n",
       "    <tr>\n",
       "      <th>OnlineBackup_No_Internet_Serv</th>\n",
       "      <td>-0.097118</td>\n",
       "    </tr>\n",
       "    <tr>\n",
       "      <th>Dependents_Yes</th>\n",
       "      <td>-0.101993</td>\n",
       "    </tr>\n",
       "    <tr>\n",
       "      <th>Contract_One_Year</th>\n",
       "      <td>-0.286372</td>\n",
       "    </tr>\n",
       "    <tr>\n",
       "      <th>Contract_Two_year</th>\n",
       "      <td>-0.540970</td>\n",
       "    </tr>\n",
       "    <tr>\n",
       "      <th>MonthlyCharges</th>\n",
       "      <td>-1.156890</td>\n",
       "    </tr>\n",
       "    <tr>\n",
       "      <th>tenure</th>\n",
       "      <td>-1.347771</td>\n",
       "    </tr>\n",
       "  </tbody>\n",
       "</table>\n",
       "</div>"
      ],
      "text/plain": [
       "                                   Coeff_Log_Odds_Oversamp\n",
       "InternetService_Fiber                             0.845664\n",
       "TotalCharges                                      0.677032\n",
       "StreamingMovies_Yes                               0.311271\n",
       "StreamingTV_Yes                                   0.289141\n",
       "PaymentMethod_Electr_Check                        0.185143\n",
       "MultipleLines_Yes                                 0.165019\n",
       "SeniorCitizen                                     0.086180\n",
       "PaperlessBilling_Yes                              0.079371\n",
       "Partner_Yes                                       0.058196\n",
       "PhoneService_Yes                                  0.046049\n",
       "DeviceProtection_Yes                              0.045956\n",
       "OnlineBackup_Yes                                  0.017631\n",
       "gender_Male                                       0.005676\n",
       "PaymentMethod_Crcard                             -0.004089\n",
       "MultipleLines_No_phone_serv                      -0.046049\n",
       "PaymentMethod_Mailed_check                       -0.063619\n",
       "OnlineSecurity_Yes                               -0.081801\n",
       "TechSupport_Yes                                  -0.084823\n",
       "OnlineSecurity_No_internet_serv                  -0.097118\n",
       "DeviceProtection_No_internet_serv                -0.097118\n",
       "TechSupport_No_internet_serv                     -0.097118\n",
       "StreamingTV_No_internet_serv                     -0.097118\n",
       "InternetService_No                               -0.097118\n",
       "StreamingMovies_No_internet_serv                 -0.097118\n",
       "OnlineBackup_No_Internet_Serv                    -0.097118\n",
       "Dependents_Yes                                   -0.101993\n",
       "Contract_One_Year                                -0.286372\n",
       "Contract_Two_year                                -0.540970\n",
       "MonthlyCharges                                   -1.156890\n",
       "tenure                                           -1.347771"
      ]
     },
     "execution_count": 30,
     "metadata": {},
     "output_type": "execute_result"
    }
   ],
   "source": [
    "coefs_tst_data2.sort_values(by='Coeff_Log_Odds_Oversamp', ascending = False)"
   ]
  },
  {
   "cell_type": "code",
   "execution_count": 31,
   "id": "71883ff8",
   "metadata": {},
   "outputs": [],
   "source": [
    "#new column with values of Coeff_Log_Odds\n",
    "coefs_tst_data2['abs_Coeff'] = coefs_tst_data2.loc[:, 'Coeff_Log_Odds_Oversamp']\n",
    "#make column absolute values\n",
    "coefs_tst_data2['abs_Coeff'] = coefs_tst_data2['abs_Coeff'].abs()"
   ]
  },
  {
   "cell_type": "code",
   "execution_count": 32,
   "id": "d4f925ad",
   "metadata": {},
   "outputs": [
    {
     "data": {
      "text/html": [
       "<div>\n",
       "<style scoped>\n",
       "    .dataframe tbody tr th:only-of-type {\n",
       "        vertical-align: middle;\n",
       "    }\n",
       "\n",
       "    .dataframe tbody tr th {\n",
       "        vertical-align: top;\n",
       "    }\n",
       "\n",
       "    .dataframe thead th {\n",
       "        text-align: right;\n",
       "    }\n",
       "</style>\n",
       "<table border=\"1\" class=\"dataframe\">\n",
       "  <thead>\n",
       "    <tr style=\"text-align: right;\">\n",
       "      <th></th>\n",
       "      <th>Coeff_Log_Odds_Oversamp</th>\n",
       "      <th>abs_Coeff</th>\n",
       "    </tr>\n",
       "  </thead>\n",
       "  <tbody>\n",
       "    <tr>\n",
       "      <th>tenure</th>\n",
       "      <td>-1.347771</td>\n",
       "      <td>1.347771</td>\n",
       "    </tr>\n",
       "    <tr>\n",
       "      <th>MonthlyCharges</th>\n",
       "      <td>-1.156890</td>\n",
       "      <td>1.156890</td>\n",
       "    </tr>\n",
       "    <tr>\n",
       "      <th>InternetService_Fiber</th>\n",
       "      <td>0.845664</td>\n",
       "      <td>0.845664</td>\n",
       "    </tr>\n",
       "    <tr>\n",
       "      <th>TotalCharges</th>\n",
       "      <td>0.677032</td>\n",
       "      <td>0.677032</td>\n",
       "    </tr>\n",
       "    <tr>\n",
       "      <th>Contract_Two_year</th>\n",
       "      <td>-0.540970</td>\n",
       "      <td>0.540970</td>\n",
       "    </tr>\n",
       "    <tr>\n",
       "      <th>StreamingMovies_Yes</th>\n",
       "      <td>0.311271</td>\n",
       "      <td>0.311271</td>\n",
       "    </tr>\n",
       "    <tr>\n",
       "      <th>StreamingTV_Yes</th>\n",
       "      <td>0.289141</td>\n",
       "      <td>0.289141</td>\n",
       "    </tr>\n",
       "    <tr>\n",
       "      <th>Contract_One_Year</th>\n",
       "      <td>-0.286372</td>\n",
       "      <td>0.286372</td>\n",
       "    </tr>\n",
       "    <tr>\n",
       "      <th>PaymentMethod_Electr_Check</th>\n",
       "      <td>0.185143</td>\n",
       "      <td>0.185143</td>\n",
       "    </tr>\n",
       "    <tr>\n",
       "      <th>MultipleLines_Yes</th>\n",
       "      <td>0.165019</td>\n",
       "      <td>0.165019</td>\n",
       "    </tr>\n",
       "    <tr>\n",
       "      <th>Dependents_Yes</th>\n",
       "      <td>-0.101993</td>\n",
       "      <td>0.101993</td>\n",
       "    </tr>\n",
       "    <tr>\n",
       "      <th>StreamingMovies_No_internet_serv</th>\n",
       "      <td>-0.097118</td>\n",
       "      <td>0.097118</td>\n",
       "    </tr>\n",
       "    <tr>\n",
       "      <th>OnlineBackup_No_Internet_Serv</th>\n",
       "      <td>-0.097118</td>\n",
       "      <td>0.097118</td>\n",
       "    </tr>\n",
       "    <tr>\n",
       "      <th>OnlineSecurity_No_internet_serv</th>\n",
       "      <td>-0.097118</td>\n",
       "      <td>0.097118</td>\n",
       "    </tr>\n",
       "    <tr>\n",
       "      <th>TechSupport_No_internet_serv</th>\n",
       "      <td>-0.097118</td>\n",
       "      <td>0.097118</td>\n",
       "    </tr>\n",
       "    <tr>\n",
       "      <th>StreamingTV_No_internet_serv</th>\n",
       "      <td>-0.097118</td>\n",
       "      <td>0.097118</td>\n",
       "    </tr>\n",
       "    <tr>\n",
       "      <th>DeviceProtection_No_internet_serv</th>\n",
       "      <td>-0.097118</td>\n",
       "      <td>0.097118</td>\n",
       "    </tr>\n",
       "    <tr>\n",
       "      <th>InternetService_No</th>\n",
       "      <td>-0.097118</td>\n",
       "      <td>0.097118</td>\n",
       "    </tr>\n",
       "    <tr>\n",
       "      <th>SeniorCitizen</th>\n",
       "      <td>0.086180</td>\n",
       "      <td>0.086180</td>\n",
       "    </tr>\n",
       "    <tr>\n",
       "      <th>TechSupport_Yes</th>\n",
       "      <td>-0.084823</td>\n",
       "      <td>0.084823</td>\n",
       "    </tr>\n",
       "    <tr>\n",
       "      <th>OnlineSecurity_Yes</th>\n",
       "      <td>-0.081801</td>\n",
       "      <td>0.081801</td>\n",
       "    </tr>\n",
       "    <tr>\n",
       "      <th>PaperlessBilling_Yes</th>\n",
       "      <td>0.079371</td>\n",
       "      <td>0.079371</td>\n",
       "    </tr>\n",
       "    <tr>\n",
       "      <th>PaymentMethod_Mailed_check</th>\n",
       "      <td>-0.063619</td>\n",
       "      <td>0.063619</td>\n",
       "    </tr>\n",
       "    <tr>\n",
       "      <th>Partner_Yes</th>\n",
       "      <td>0.058196</td>\n",
       "      <td>0.058196</td>\n",
       "    </tr>\n",
       "    <tr>\n",
       "      <th>PhoneService_Yes</th>\n",
       "      <td>0.046049</td>\n",
       "      <td>0.046049</td>\n",
       "    </tr>\n",
       "    <tr>\n",
       "      <th>MultipleLines_No_phone_serv</th>\n",
       "      <td>-0.046049</td>\n",
       "      <td>0.046049</td>\n",
       "    </tr>\n",
       "    <tr>\n",
       "      <th>DeviceProtection_Yes</th>\n",
       "      <td>0.045956</td>\n",
       "      <td>0.045956</td>\n",
       "    </tr>\n",
       "    <tr>\n",
       "      <th>OnlineBackup_Yes</th>\n",
       "      <td>0.017631</td>\n",
       "      <td>0.017631</td>\n",
       "    </tr>\n",
       "    <tr>\n",
       "      <th>gender_Male</th>\n",
       "      <td>0.005676</td>\n",
       "      <td>0.005676</td>\n",
       "    </tr>\n",
       "    <tr>\n",
       "      <th>PaymentMethod_Crcard</th>\n",
       "      <td>-0.004089</td>\n",
       "      <td>0.004089</td>\n",
       "    </tr>\n",
       "  </tbody>\n",
       "</table>\n",
       "</div>"
      ],
      "text/plain": [
       "                                   Coeff_Log_Odds_Oversamp  abs_Coeff\n",
       "tenure                                           -1.347771   1.347771\n",
       "MonthlyCharges                                   -1.156890   1.156890\n",
       "InternetService_Fiber                             0.845664   0.845664\n",
       "TotalCharges                                      0.677032   0.677032\n",
       "Contract_Two_year                                -0.540970   0.540970\n",
       "StreamingMovies_Yes                               0.311271   0.311271\n",
       "StreamingTV_Yes                                   0.289141   0.289141\n",
       "Contract_One_Year                                -0.286372   0.286372\n",
       "PaymentMethod_Electr_Check                        0.185143   0.185143\n",
       "MultipleLines_Yes                                 0.165019   0.165019\n",
       "Dependents_Yes                                   -0.101993   0.101993\n",
       "StreamingMovies_No_internet_serv                 -0.097118   0.097118\n",
       "OnlineBackup_No_Internet_Serv                    -0.097118   0.097118\n",
       "OnlineSecurity_No_internet_serv                  -0.097118   0.097118\n",
       "TechSupport_No_internet_serv                     -0.097118   0.097118\n",
       "StreamingTV_No_internet_serv                     -0.097118   0.097118\n",
       "DeviceProtection_No_internet_serv                -0.097118   0.097118\n",
       "InternetService_No                               -0.097118   0.097118\n",
       "SeniorCitizen                                     0.086180   0.086180\n",
       "TechSupport_Yes                                  -0.084823   0.084823\n",
       "OnlineSecurity_Yes                               -0.081801   0.081801\n",
       "PaperlessBilling_Yes                              0.079371   0.079371\n",
       "PaymentMethod_Mailed_check                       -0.063619   0.063619\n",
       "Partner_Yes                                       0.058196   0.058196\n",
       "PhoneService_Yes                                  0.046049   0.046049\n",
       "MultipleLines_No_phone_serv                      -0.046049   0.046049\n",
       "DeviceProtection_Yes                              0.045956   0.045956\n",
       "OnlineBackup_Yes                                  0.017631   0.017631\n",
       "gender_Male                                       0.005676   0.005676\n",
       "PaymentMethod_Crcard                             -0.004089   0.004089"
      ]
     },
     "execution_count": 32,
     "metadata": {},
     "output_type": "execute_result"
    }
   ],
   "source": [
    "coefs_tst_data2.sort_values(by='abs_Coeff', ascending = False)"
   ]
  },
  {
   "cell_type": "code",
   "execution_count": null,
   "id": "f368870c",
   "metadata": {},
   "outputs": [],
   "source": []
  }
 ],
 "metadata": {
  "kernelspec": {
   "display_name": "Python 3 (ipykernel)",
   "language": "python",
   "name": "python3"
  },
  "language_info": {
   "codemirror_mode": {
    "name": "ipython",
    "version": 3
   },
   "file_extension": ".py",
   "mimetype": "text/x-python",
   "name": "python",
   "nbconvert_exporter": "python",
   "pygments_lexer": "ipython3",
   "version": "3.9.13"
  }
 },
 "nbformat": 4,
 "nbformat_minor": 5
}
