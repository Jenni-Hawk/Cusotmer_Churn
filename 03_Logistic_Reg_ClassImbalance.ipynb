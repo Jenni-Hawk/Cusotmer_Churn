{
 "cells": [
  {
   "cell_type": "markdown",
   "id": "76819d85",
   "metadata": {},
   "source": [
    "### Logistic Regression Work\n",
    "- Address Class Imbalance with Oversampling\n",
    "- Cross Validation of of oversampling approach\n",
    "- Chart Top Features for logistic regression "
   ]
  },
  {
   "cell_type": "code",
   "execution_count": 1,
   "id": "f76c3887",
   "metadata": {},
   "outputs": [],
   "source": [
    "import pandas as pd\n",
    "import numpy as np\n",
    "import matplotlib.pyplot as plt\n",
    "import seaborn as sns\n",
    "\n",
    "from sklearn.linear_model import LogisticRegression\n",
    "from sklearn.model_selection import train_test_split\n",
    "from sklearn.pipeline import make_pipeline\n",
    "from sklearn.pipeline import Pipeline\n",
    "from sklearn.preprocessing import StandardScaler\n",
    "from ipywidgets import interactive, FloatSlider\n",
    "\n",
    "import imblearn.over_sampling\n",
    "\n",
    "from sklearn.metrics import accuracy_score, confusion_matrix, precision_score, recall_score, f1_score, roc_auc_score, roc_curve \n",
    "\n",
    "%matplotlib inline"
   ]
  },
  {
   "cell_type": "code",
   "execution_count": 2,
   "id": "35e9f137",
   "metadata": {},
   "outputs": [],
   "source": [
    "data = pd.read_csv('/Users/jennihawk/Documents/Data Science/Classification/Churn Project/Models/chatr_clean.csv')"
   ]
  },
  {
   "cell_type": "code",
   "execution_count": 3,
   "id": "1baa799d",
   "metadata": {},
   "outputs": [
    {
     "data": {
      "text/html": [
       "<div>\n",
       "<style scoped>\n",
       "    .dataframe tbody tr th:only-of-type {\n",
       "        vertical-align: middle;\n",
       "    }\n",
       "\n",
       "    .dataframe tbody tr th {\n",
       "        vertical-align: top;\n",
       "    }\n",
       "\n",
       "    .dataframe thead th {\n",
       "        text-align: right;\n",
       "    }\n",
       "</style>\n",
       "<table border=\"1\" class=\"dataframe\">\n",
       "  <thead>\n",
       "    <tr style=\"text-align: right;\">\n",
       "      <th></th>\n",
       "      <th>customerID</th>\n",
       "      <th>SeniorCitizen</th>\n",
       "      <th>tenure</th>\n",
       "      <th>MonthlyCharges</th>\n",
       "      <th>TotalCharges</th>\n",
       "      <th>InternetService_Fiber</th>\n",
       "      <th>InternetService_No</th>\n",
       "      <th>Contract_One_Year</th>\n",
       "      <th>Contract_Two_year</th>\n",
       "      <th>PaymentMethod_Crcard</th>\n",
       "      <th>...</th>\n",
       "      <th>DeviceProtection_No_internet_serv</th>\n",
       "      <th>DeviceProtection_Yes</th>\n",
       "      <th>TechSupport_No_internet_serv</th>\n",
       "      <th>TechSupport_Yes</th>\n",
       "      <th>StreamingTV_No_internet_serv</th>\n",
       "      <th>StreamingTV_Yes</th>\n",
       "      <th>StreamingMovies_No_internet_serv</th>\n",
       "      <th>StreamingMovies_Yes</th>\n",
       "      <th>PaperlessBilling_Yes</th>\n",
       "      <th>Churn_Yes</th>\n",
       "    </tr>\n",
       "  </thead>\n",
       "  <tbody>\n",
       "    <tr>\n",
       "      <th>0</th>\n",
       "      <td>7590-VHVEG</td>\n",
       "      <td>0</td>\n",
       "      <td>1.0</td>\n",
       "      <td>29.85</td>\n",
       "      <td>29.85</td>\n",
       "      <td>0</td>\n",
       "      <td>0</td>\n",
       "      <td>0</td>\n",
       "      <td>0</td>\n",
       "      <td>0</td>\n",
       "      <td>...</td>\n",
       "      <td>0</td>\n",
       "      <td>0</td>\n",
       "      <td>0</td>\n",
       "      <td>0</td>\n",
       "      <td>0</td>\n",
       "      <td>0</td>\n",
       "      <td>0</td>\n",
       "      <td>0</td>\n",
       "      <td>1</td>\n",
       "      <td>0</td>\n",
       "    </tr>\n",
       "    <tr>\n",
       "      <th>1</th>\n",
       "      <td>5575-GNVDE</td>\n",
       "      <td>0</td>\n",
       "      <td>34.0</td>\n",
       "      <td>56.95</td>\n",
       "      <td>1889.50</td>\n",
       "      <td>0</td>\n",
       "      <td>0</td>\n",
       "      <td>1</td>\n",
       "      <td>0</td>\n",
       "      <td>0</td>\n",
       "      <td>...</td>\n",
       "      <td>0</td>\n",
       "      <td>1</td>\n",
       "      <td>0</td>\n",
       "      <td>0</td>\n",
       "      <td>0</td>\n",
       "      <td>0</td>\n",
       "      <td>0</td>\n",
       "      <td>0</td>\n",
       "      <td>0</td>\n",
       "      <td>0</td>\n",
       "    </tr>\n",
       "    <tr>\n",
       "      <th>2</th>\n",
       "      <td>3668-QPYBK</td>\n",
       "      <td>0</td>\n",
       "      <td>2.0</td>\n",
       "      <td>53.85</td>\n",
       "      <td>108.15</td>\n",
       "      <td>0</td>\n",
       "      <td>0</td>\n",
       "      <td>0</td>\n",
       "      <td>0</td>\n",
       "      <td>0</td>\n",
       "      <td>...</td>\n",
       "      <td>0</td>\n",
       "      <td>0</td>\n",
       "      <td>0</td>\n",
       "      <td>0</td>\n",
       "      <td>0</td>\n",
       "      <td>0</td>\n",
       "      <td>0</td>\n",
       "      <td>0</td>\n",
       "      <td>1</td>\n",
       "      <td>1</td>\n",
       "    </tr>\n",
       "    <tr>\n",
       "      <th>3</th>\n",
       "      <td>7795-CFOCW</td>\n",
       "      <td>0</td>\n",
       "      <td>45.0</td>\n",
       "      <td>42.30</td>\n",
       "      <td>1840.75</td>\n",
       "      <td>0</td>\n",
       "      <td>0</td>\n",
       "      <td>1</td>\n",
       "      <td>0</td>\n",
       "      <td>0</td>\n",
       "      <td>...</td>\n",
       "      <td>0</td>\n",
       "      <td>1</td>\n",
       "      <td>0</td>\n",
       "      <td>1</td>\n",
       "      <td>0</td>\n",
       "      <td>0</td>\n",
       "      <td>0</td>\n",
       "      <td>0</td>\n",
       "      <td>0</td>\n",
       "      <td>0</td>\n",
       "    </tr>\n",
       "    <tr>\n",
       "      <th>4</th>\n",
       "      <td>9237-HQITU</td>\n",
       "      <td>0</td>\n",
       "      <td>2.0</td>\n",
       "      <td>70.70</td>\n",
       "      <td>151.65</td>\n",
       "      <td>1</td>\n",
       "      <td>0</td>\n",
       "      <td>0</td>\n",
       "      <td>0</td>\n",
       "      <td>0</td>\n",
       "      <td>...</td>\n",
       "      <td>0</td>\n",
       "      <td>0</td>\n",
       "      <td>0</td>\n",
       "      <td>0</td>\n",
       "      <td>0</td>\n",
       "      <td>0</td>\n",
       "      <td>0</td>\n",
       "      <td>0</td>\n",
       "      <td>1</td>\n",
       "      <td>1</td>\n",
       "    </tr>\n",
       "  </tbody>\n",
       "</table>\n",
       "<p>5 rows × 32 columns</p>\n",
       "</div>"
      ],
      "text/plain": [
       "   customerID  SeniorCitizen  tenure  MonthlyCharges  TotalCharges  \\\n",
       "0  7590-VHVEG              0     1.0           29.85         29.85   \n",
       "1  5575-GNVDE              0    34.0           56.95       1889.50   \n",
       "2  3668-QPYBK              0     2.0           53.85        108.15   \n",
       "3  7795-CFOCW              0    45.0           42.30       1840.75   \n",
       "4  9237-HQITU              0     2.0           70.70        151.65   \n",
       "\n",
       "   InternetService_Fiber  InternetService_No  Contract_One_Year  \\\n",
       "0                      0                   0                  0   \n",
       "1                      0                   0                  1   \n",
       "2                      0                   0                  0   \n",
       "3                      0                   0                  1   \n",
       "4                      1                   0                  0   \n",
       "\n",
       "   Contract_Two_year  PaymentMethod_Crcard  ...  \\\n",
       "0                  0                     0  ...   \n",
       "1                  0                     0  ...   \n",
       "2                  0                     0  ...   \n",
       "3                  0                     0  ...   \n",
       "4                  0                     0  ...   \n",
       "\n",
       "   DeviceProtection_No_internet_serv  DeviceProtection_Yes  \\\n",
       "0                                  0                     0   \n",
       "1                                  0                     1   \n",
       "2                                  0                     0   \n",
       "3                                  0                     1   \n",
       "4                                  0                     0   \n",
       "\n",
       "   TechSupport_No_internet_serv  TechSupport_Yes  \\\n",
       "0                             0                0   \n",
       "1                             0                0   \n",
       "2                             0                0   \n",
       "3                             0                1   \n",
       "4                             0                0   \n",
       "\n",
       "   StreamingTV_No_internet_serv  StreamingTV_Yes  \\\n",
       "0                             0                0   \n",
       "1                             0                0   \n",
       "2                             0                0   \n",
       "3                             0                0   \n",
       "4                             0                0   \n",
       "\n",
       "   StreamingMovies_No_internet_serv  StreamingMovies_Yes  \\\n",
       "0                                 0                    0   \n",
       "1                                 0                    0   \n",
       "2                                 0                    0   \n",
       "3                                 0                    0   \n",
       "4                                 0                    0   \n",
       "\n",
       "   PaperlessBilling_Yes  Churn_Yes  \n",
       "0                     1          0  \n",
       "1                     0          0  \n",
       "2                     1          1  \n",
       "3                     0          0  \n",
       "4                     1          1  \n",
       "\n",
       "[5 rows x 32 columns]"
      ]
     },
     "execution_count": 3,
     "metadata": {},
     "output_type": "execute_result"
    }
   ],
   "source": [
    "data.head()"
   ]
  },
  {
   "cell_type": "code",
   "execution_count": 4,
   "id": "06c19a68",
   "metadata": {},
   "outputs": [],
   "source": [
    "#data.info()"
   ]
  },
  {
   "cell_type": "code",
   "execution_count": 5,
   "id": "773cbd3b",
   "metadata": {},
   "outputs": [
    {
     "data": {
      "text/plain": [
       "Index(['customerID', 'SeniorCitizen', 'tenure', 'MonthlyCharges',\n",
       "       'TotalCharges', 'InternetService_Fiber', 'InternetService_No',\n",
       "       'Contract_One_Year', 'Contract_Two_year', 'PaymentMethod_Crcard',\n",
       "       'PaymentMethod_Electr_Check', 'PaymentMethod_Mailed_check',\n",
       "       'MultipleLines_No_phone_serv', 'MultipleLines_Yes', 'Dependents_Yes',\n",
       "       'gender_Male', 'Partner_Yes', 'PhoneService_Yes',\n",
       "       'OnlineSecurity_No_internet_serv', 'OnlineSecurity_Yes',\n",
       "       'OnlineBackup_No_Internet_Serv', 'OnlineBackup_Yes',\n",
       "       'DeviceProtection_No_internet_serv', 'DeviceProtection_Yes',\n",
       "       'TechSupport_No_internet_serv', 'TechSupport_Yes',\n",
       "       'StreamingTV_No_internet_serv', 'StreamingTV_Yes',\n",
       "       'StreamingMovies_No_internet_serv', 'StreamingMovies_Yes',\n",
       "       'PaperlessBilling_Yes', 'Churn_Yes'],\n",
       "      dtype='object')"
      ]
     },
     "execution_count": 5,
     "metadata": {},
     "output_type": "execute_result"
    }
   ],
   "source": [
    "data.columns"
   ]
  },
  {
   "cell_type": "markdown",
   "id": "1503498d",
   "metadata": {},
   "source": [
    "### Model Setup"
   ]
  },
  {
   "cell_type": "code",
   "execution_count": 6,
   "id": "7055d877",
   "metadata": {},
   "outputs": [],
   "source": [
    "features_in = ['SeniorCitizen', 'tenure', 'MonthlyCharges',\n",
    "       'TotalCharges', 'InternetService_Fiber', 'InternetService_No',\n",
    "       'Contract_One_Year', 'Contract_Two_year', 'PaymentMethod_Crcard',\n",
    "       'PaymentMethod_Electr_Check', 'PaymentMethod_Mailed_check',\n",
    "       'MultipleLines_No_phone_serv', 'MultipleLines_Yes', 'Dependents_Yes',\n",
    "       'gender_Male', 'Partner_Yes', 'PhoneService_Yes',\n",
    "       'OnlineSecurity_No_internet_serv', 'OnlineSecurity_Yes',\n",
    "       'OnlineBackup_No_Internet_Serv', 'OnlineBackup_Yes',\n",
    "       'DeviceProtection_No_internet_serv', 'DeviceProtection_Yes',\n",
    "       'TechSupport_No_internet_serv', 'TechSupport_Yes',\n",
    "       'StreamingTV_No_internet_serv', 'StreamingTV_Yes',\n",
    "       'StreamingMovies_No_internet_serv', 'StreamingMovies_Yes',\n",
    "       'PaperlessBilling_Yes']\n",
    "\n",
    "y = data['Churn_Yes']\n",
    "X = data[features_in]\n",
    "\n",
    "X_train, X_test, y_train, y_test = train_test_split(X, y, random_state=42)\n",
    "\n",
    "pipe = Pipeline([('scaler', StandardScaler()), ('LogReg', LogisticRegression())])"
   ]
  },
  {
   "cell_type": "code",
   "execution_count": 7,
   "id": "9cf1d46f",
   "metadata": {},
   "outputs": [
    {
     "name": "stdout",
     "output_type": "stream",
     "text": [
      "(5274, 30)\n",
      "(1758, 30)\n",
      "(5274,)\n",
      "(1758,)\n"
     ]
    }
   ],
   "source": [
    "print(X_train.shape)\n",
    "print(X_test.shape)\n",
    "print(y_train.shape)\n",
    "print(y_test.shape)"
   ]
  },
  {
   "cell_type": "markdown",
   "id": "45231ed1",
   "metadata": {},
   "source": [
    "### Fit Logistic Regression to Training Data"
   ]
  },
  {
   "cell_type": "code",
   "execution_count": 8,
   "id": "98f3ae5d",
   "metadata": {},
   "outputs": [
    {
     "data": {
      "text/html": [
       "<style>#sk-container-id-1 {color: black;background-color: white;}#sk-container-id-1 pre{padding: 0;}#sk-container-id-1 div.sk-toggleable {background-color: white;}#sk-container-id-1 label.sk-toggleable__label {cursor: pointer;display: block;width: 100%;margin-bottom: 0;padding: 0.3em;box-sizing: border-box;text-align: center;}#sk-container-id-1 label.sk-toggleable__label-arrow:before {content: \"▸\";float: left;margin-right: 0.25em;color: #696969;}#sk-container-id-1 label.sk-toggleable__label-arrow:hover:before {color: black;}#sk-container-id-1 div.sk-estimator:hover label.sk-toggleable__label-arrow:before {color: black;}#sk-container-id-1 div.sk-toggleable__content {max-height: 0;max-width: 0;overflow: hidden;text-align: left;background-color: #f0f8ff;}#sk-container-id-1 div.sk-toggleable__content pre {margin: 0.2em;color: black;border-radius: 0.25em;background-color: #f0f8ff;}#sk-container-id-1 input.sk-toggleable__control:checked~div.sk-toggleable__content {max-height: 200px;max-width: 100%;overflow: auto;}#sk-container-id-1 input.sk-toggleable__control:checked~label.sk-toggleable__label-arrow:before {content: \"▾\";}#sk-container-id-1 div.sk-estimator input.sk-toggleable__control:checked~label.sk-toggleable__label {background-color: #d4ebff;}#sk-container-id-1 div.sk-label input.sk-toggleable__control:checked~label.sk-toggleable__label {background-color: #d4ebff;}#sk-container-id-1 input.sk-hidden--visually {border: 0;clip: rect(1px 1px 1px 1px);clip: rect(1px, 1px, 1px, 1px);height: 1px;margin: -1px;overflow: hidden;padding: 0;position: absolute;width: 1px;}#sk-container-id-1 div.sk-estimator {font-family: monospace;background-color: #f0f8ff;border: 1px dotted black;border-radius: 0.25em;box-sizing: border-box;margin-bottom: 0.5em;}#sk-container-id-1 div.sk-estimator:hover {background-color: #d4ebff;}#sk-container-id-1 div.sk-parallel-item::after {content: \"\";width: 100%;border-bottom: 1px solid gray;flex-grow: 1;}#sk-container-id-1 div.sk-label:hover label.sk-toggleable__label {background-color: #d4ebff;}#sk-container-id-1 div.sk-serial::before {content: \"\";position: absolute;border-left: 1px solid gray;box-sizing: border-box;top: 0;bottom: 0;left: 50%;z-index: 0;}#sk-container-id-1 div.sk-serial {display: flex;flex-direction: column;align-items: center;background-color: white;padding-right: 0.2em;padding-left: 0.2em;position: relative;}#sk-container-id-1 div.sk-item {position: relative;z-index: 1;}#sk-container-id-1 div.sk-parallel {display: flex;align-items: stretch;justify-content: center;background-color: white;position: relative;}#sk-container-id-1 div.sk-item::before, #sk-container-id-1 div.sk-parallel-item::before {content: \"\";position: absolute;border-left: 1px solid gray;box-sizing: border-box;top: 0;bottom: 0;left: 50%;z-index: -1;}#sk-container-id-1 div.sk-parallel-item {display: flex;flex-direction: column;z-index: 1;position: relative;background-color: white;}#sk-container-id-1 div.sk-parallel-item:first-child::after {align-self: flex-end;width: 50%;}#sk-container-id-1 div.sk-parallel-item:last-child::after {align-self: flex-start;width: 50%;}#sk-container-id-1 div.sk-parallel-item:only-child::after {width: 0;}#sk-container-id-1 div.sk-dashed-wrapped {border: 1px dashed gray;margin: 0 0.4em 0.5em 0.4em;box-sizing: border-box;padding-bottom: 0.4em;background-color: white;}#sk-container-id-1 div.sk-label label {font-family: monospace;font-weight: bold;display: inline-block;line-height: 1.2em;}#sk-container-id-1 div.sk-label-container {text-align: center;}#sk-container-id-1 div.sk-container {/* jupyter's `normalize.less` sets `[hidden] { display: none; }` but bootstrap.min.css set `[hidden] { display: none !important; }` so we also need the `!important` here to be able to override the default hidden behavior on the sphinx rendered scikit-learn.org. See: https://github.com/scikit-learn/scikit-learn/issues/21755 */display: inline-block !important;position: relative;}#sk-container-id-1 div.sk-text-repr-fallback {display: none;}</style><div id=\"sk-container-id-1\" class=\"sk-top-container\"><div class=\"sk-text-repr-fallback\"><pre>Pipeline(steps=[(&#x27;scaler&#x27;, StandardScaler()), (&#x27;LogReg&#x27;, LogisticRegression())])</pre><b>In a Jupyter environment, please rerun this cell to show the HTML representation or trust the notebook. <br />On GitHub, the HTML representation is unable to render, please try loading this page with nbviewer.org.</b></div><div class=\"sk-container\" hidden><div class=\"sk-item sk-dashed-wrapped\"><div class=\"sk-label-container\"><div class=\"sk-label sk-toggleable\"><input class=\"sk-toggleable__control sk-hidden--visually\" id=\"sk-estimator-id-1\" type=\"checkbox\" ><label for=\"sk-estimator-id-1\" class=\"sk-toggleable__label sk-toggleable__label-arrow\">Pipeline</label><div class=\"sk-toggleable__content\"><pre>Pipeline(steps=[(&#x27;scaler&#x27;, StandardScaler()), (&#x27;LogReg&#x27;, LogisticRegression())])</pre></div></div></div><div class=\"sk-serial\"><div class=\"sk-item\"><div class=\"sk-estimator sk-toggleable\"><input class=\"sk-toggleable__control sk-hidden--visually\" id=\"sk-estimator-id-2\" type=\"checkbox\" ><label for=\"sk-estimator-id-2\" class=\"sk-toggleable__label sk-toggleable__label-arrow\">StandardScaler</label><div class=\"sk-toggleable__content\"><pre>StandardScaler()</pre></div></div></div><div class=\"sk-item\"><div class=\"sk-estimator sk-toggleable\"><input class=\"sk-toggleable__control sk-hidden--visually\" id=\"sk-estimator-id-3\" type=\"checkbox\" ><label for=\"sk-estimator-id-3\" class=\"sk-toggleable__label sk-toggleable__label-arrow\">LogisticRegression</label><div class=\"sk-toggleable__content\"><pre>LogisticRegression()</pre></div></div></div></div></div></div></div>"
      ],
      "text/plain": [
       "Pipeline(steps=[('scaler', StandardScaler()), ('LogReg', LogisticRegression())])"
      ]
     },
     "execution_count": 8,
     "metadata": {},
     "output_type": "execute_result"
    }
   ],
   "source": [
    "pipe.fit(X_train, y_train)  # applies scaling on training data"
   ]
  },
  {
   "cell_type": "markdown",
   "id": "a4875bb4",
   "metadata": {},
   "source": [
    "### Class Imbalance\n",
    "- Average Rate of Churn on Data\n",
    "- Class Imbalance Since I don't have 50% average churn - there's a class imbalance"
   ]
  },
  {
   "cell_type": "code",
   "execution_count": 9,
   "id": "1fa61168",
   "metadata": {},
   "outputs": [
    {
     "data": {
      "text/plain": [
       "0.26753886992794845"
      ]
     },
     "execution_count": 9,
     "metadata": {},
     "output_type": "execute_result"
    }
   ],
   "source": [
    "np.mean(y_train)"
   ]
  },
  {
   "cell_type": "code",
   "execution_count": 10,
   "id": "9039abd0",
   "metadata": {},
   "outputs": [
    {
     "data": {
      "text/plain": [
       "0.2605233219567691"
      ]
     },
     "execution_count": 10,
     "metadata": {},
     "output_type": "execute_result"
    }
   ],
   "source": [
    "np.mean(y_test)"
   ]
  },
  {
   "cell_type": "markdown",
   "id": "c7f34c10",
   "metadata": {},
   "source": [
    "#### Hard Class Predictions (No Oversample Train Data)\n",
    "Predict Churn / Not Churn"
   ]
  },
  {
   "cell_type": "code",
   "execution_count": 11,
   "id": "6c06140b",
   "metadata": {},
   "outputs": [],
   "source": [
    "y_pred = pipe.predict(X_test)"
   ]
  },
  {
   "cell_type": "markdown",
   "id": "31189640",
   "metadata": {},
   "source": [
    "#### Results for No Oversample Train Data\n"
   ]
  },
  {
   "cell_type": "code",
   "execution_count": 12,
   "id": "b4f91027",
   "metadata": {},
   "outputs": [
    {
     "name": "stdout",
     "output_type": "stream",
     "text": [
      "Default treshold:\n",
      "Precision: 0.6139896373056994\n",
      "Recall: 0.517467248908297\n",
      "F1: 0.5616113744075829\n"
     ]
    }
   ],
   "source": [
    "print(\"Default treshold:\")\n",
    "print(f\"Precision: {precision_score(y_test, y_pred)}\")\n",
    "print(f\"Recall: {recall_score(y_test, y_pred)}\")\n",
    "print(f\"F1: {f1_score(y_test, y_pred)}\")"
   ]
  },
  {
   "cell_type": "markdown",
   "id": "6b63f754",
   "metadata": {},
   "source": [
    "#### Setup Oversampling"
   ]
  },
  {
   "cell_type": "code",
   "execution_count": 13,
   "id": "d1e3d58d",
   "metadata": {},
   "outputs": [
    {
     "name": "stderr",
     "output_type": "stream",
     "text": [
      "/opt/anaconda3/lib/python3.9/site-packages/imblearn/utils/_validation.py:299: UserWarning: After over-sampling, the number of samples (5644) in class 1 will be larger than the number of samples in the majority class (class #0 -> 3863)\n",
      "  warnings.warn(\n"
     ]
    }
   ],
   "source": [
    "# setup for the ratio argument of RandomOverSampler initialization\n",
    "n_pos = np.sum(y_train == 1)\n",
    "n_neg = np.sum(y_train == 0)\n",
    "ratio = {1 : n_pos * 4, 0 : n_neg} \n",
    "\n",
    "# randomly oversample positive samples: create 4x as many \n",
    "ROS = imblearn.over_sampling.RandomOverSampler(sampling_strategy = ratio, random_state=42) \n",
    "\n",
    "#use the fit_sample method to create the dataset with a desired proportion\n",
    "#the variables X_tr_rs, y_tr_rs hold the training data with the extra samples we just created\n",
    "X_tr_oversample, y_tr_oversample = ROS.fit_resample(X_train, y_train)\n"
   ]
  },
  {
   "cell_type": "markdown",
   "id": "6de147d2",
   "metadata": {},
   "source": [
    "#### Setup up Oversample model "
   ]
  },
  {
   "cell_type": "code",
   "execution_count": 14,
   "id": "1dda4874",
   "metadata": {},
   "outputs": [],
   "source": [
    "pipe_oversample = Pipeline([('scaler', StandardScaler()), ('LogReg', LogisticRegression())])"
   ]
  },
  {
   "cell_type": "code",
   "execution_count": 15,
   "id": "875ec477",
   "metadata": {},
   "outputs": [
    {
     "data": {
      "text/html": [
       "<style>#sk-container-id-2 {color: black;background-color: white;}#sk-container-id-2 pre{padding: 0;}#sk-container-id-2 div.sk-toggleable {background-color: white;}#sk-container-id-2 label.sk-toggleable__label {cursor: pointer;display: block;width: 100%;margin-bottom: 0;padding: 0.3em;box-sizing: border-box;text-align: center;}#sk-container-id-2 label.sk-toggleable__label-arrow:before {content: \"▸\";float: left;margin-right: 0.25em;color: #696969;}#sk-container-id-2 label.sk-toggleable__label-arrow:hover:before {color: black;}#sk-container-id-2 div.sk-estimator:hover label.sk-toggleable__label-arrow:before {color: black;}#sk-container-id-2 div.sk-toggleable__content {max-height: 0;max-width: 0;overflow: hidden;text-align: left;background-color: #f0f8ff;}#sk-container-id-2 div.sk-toggleable__content pre {margin: 0.2em;color: black;border-radius: 0.25em;background-color: #f0f8ff;}#sk-container-id-2 input.sk-toggleable__control:checked~div.sk-toggleable__content {max-height: 200px;max-width: 100%;overflow: auto;}#sk-container-id-2 input.sk-toggleable__control:checked~label.sk-toggleable__label-arrow:before {content: \"▾\";}#sk-container-id-2 div.sk-estimator input.sk-toggleable__control:checked~label.sk-toggleable__label {background-color: #d4ebff;}#sk-container-id-2 div.sk-label input.sk-toggleable__control:checked~label.sk-toggleable__label {background-color: #d4ebff;}#sk-container-id-2 input.sk-hidden--visually {border: 0;clip: rect(1px 1px 1px 1px);clip: rect(1px, 1px, 1px, 1px);height: 1px;margin: -1px;overflow: hidden;padding: 0;position: absolute;width: 1px;}#sk-container-id-2 div.sk-estimator {font-family: monospace;background-color: #f0f8ff;border: 1px dotted black;border-radius: 0.25em;box-sizing: border-box;margin-bottom: 0.5em;}#sk-container-id-2 div.sk-estimator:hover {background-color: #d4ebff;}#sk-container-id-2 div.sk-parallel-item::after {content: \"\";width: 100%;border-bottom: 1px solid gray;flex-grow: 1;}#sk-container-id-2 div.sk-label:hover label.sk-toggleable__label {background-color: #d4ebff;}#sk-container-id-2 div.sk-serial::before {content: \"\";position: absolute;border-left: 1px solid gray;box-sizing: border-box;top: 0;bottom: 0;left: 50%;z-index: 0;}#sk-container-id-2 div.sk-serial {display: flex;flex-direction: column;align-items: center;background-color: white;padding-right: 0.2em;padding-left: 0.2em;position: relative;}#sk-container-id-2 div.sk-item {position: relative;z-index: 1;}#sk-container-id-2 div.sk-parallel {display: flex;align-items: stretch;justify-content: center;background-color: white;position: relative;}#sk-container-id-2 div.sk-item::before, #sk-container-id-2 div.sk-parallel-item::before {content: \"\";position: absolute;border-left: 1px solid gray;box-sizing: border-box;top: 0;bottom: 0;left: 50%;z-index: -1;}#sk-container-id-2 div.sk-parallel-item {display: flex;flex-direction: column;z-index: 1;position: relative;background-color: white;}#sk-container-id-2 div.sk-parallel-item:first-child::after {align-self: flex-end;width: 50%;}#sk-container-id-2 div.sk-parallel-item:last-child::after {align-self: flex-start;width: 50%;}#sk-container-id-2 div.sk-parallel-item:only-child::after {width: 0;}#sk-container-id-2 div.sk-dashed-wrapped {border: 1px dashed gray;margin: 0 0.4em 0.5em 0.4em;box-sizing: border-box;padding-bottom: 0.4em;background-color: white;}#sk-container-id-2 div.sk-label label {font-family: monospace;font-weight: bold;display: inline-block;line-height: 1.2em;}#sk-container-id-2 div.sk-label-container {text-align: center;}#sk-container-id-2 div.sk-container {/* jupyter's `normalize.less` sets `[hidden] { display: none; }` but bootstrap.min.css set `[hidden] { display: none !important; }` so we also need the `!important` here to be able to override the default hidden behavior on the sphinx rendered scikit-learn.org. See: https://github.com/scikit-learn/scikit-learn/issues/21755 */display: inline-block !important;position: relative;}#sk-container-id-2 div.sk-text-repr-fallback {display: none;}</style><div id=\"sk-container-id-2\" class=\"sk-top-container\"><div class=\"sk-text-repr-fallback\"><pre>Pipeline(steps=[(&#x27;scaler&#x27;, StandardScaler()), (&#x27;LogReg&#x27;, LogisticRegression())])</pre><b>In a Jupyter environment, please rerun this cell to show the HTML representation or trust the notebook. <br />On GitHub, the HTML representation is unable to render, please try loading this page with nbviewer.org.</b></div><div class=\"sk-container\" hidden><div class=\"sk-item sk-dashed-wrapped\"><div class=\"sk-label-container\"><div class=\"sk-label sk-toggleable\"><input class=\"sk-toggleable__control sk-hidden--visually\" id=\"sk-estimator-id-4\" type=\"checkbox\" ><label for=\"sk-estimator-id-4\" class=\"sk-toggleable__label sk-toggleable__label-arrow\">Pipeline</label><div class=\"sk-toggleable__content\"><pre>Pipeline(steps=[(&#x27;scaler&#x27;, StandardScaler()), (&#x27;LogReg&#x27;, LogisticRegression())])</pre></div></div></div><div class=\"sk-serial\"><div class=\"sk-item\"><div class=\"sk-estimator sk-toggleable\"><input class=\"sk-toggleable__control sk-hidden--visually\" id=\"sk-estimator-id-5\" type=\"checkbox\" ><label for=\"sk-estimator-id-5\" class=\"sk-toggleable__label sk-toggleable__label-arrow\">StandardScaler</label><div class=\"sk-toggleable__content\"><pre>StandardScaler()</pre></div></div></div><div class=\"sk-item\"><div class=\"sk-estimator sk-toggleable\"><input class=\"sk-toggleable__control sk-hidden--visually\" id=\"sk-estimator-id-6\" type=\"checkbox\" ><label for=\"sk-estimator-id-6\" class=\"sk-toggleable__label sk-toggleable__label-arrow\">LogisticRegression</label><div class=\"sk-toggleable__content\"><pre>LogisticRegression()</pre></div></div></div></div></div></div></div>"
      ],
      "text/plain": [
       "Pipeline(steps=[('scaler', StandardScaler()), ('LogReg', LogisticRegression())])"
      ]
     },
     "execution_count": 15,
     "metadata": {},
     "output_type": "execute_result"
    }
   ],
   "source": [
    "pipe_oversample.fit(X_tr_oversample, y_tr_oversample)"
   ]
  },
  {
   "cell_type": "markdown",
   "id": "d041fd24",
   "metadata": {},
   "source": [
    "#### Hard Class Predictions for Oversample Train Data"
   ]
  },
  {
   "cell_type": "code",
   "execution_count": 16,
   "id": "78b122de",
   "metadata": {},
   "outputs": [],
   "source": [
    "#we keep same X_test\n",
    "y_pred_oversample = pipe_oversample.predict(X_test)"
   ]
  },
  {
   "cell_type": "markdown",
   "id": "801573bb",
   "metadata": {},
   "source": [
    "#### Results on Oversampled Train Data"
   ]
  },
  {
   "cell_type": "code",
   "execution_count": 17,
   "id": "9a408bc3",
   "metadata": {},
   "outputs": [
    {
     "name": "stdout",
     "output_type": "stream",
     "text": [
      "Default treshold:\n",
      "Precision: 0.46162927981109797\n",
      "Recall: 0.8537117903930131\n",
      "F1: 0.5992337164750958\n"
     ]
    }
   ],
   "source": [
    "print(\"Default treshold:\")\n",
    "print(f\"Precision: {precision_score(y_test, y_pred_oversample)}\")\n",
    "print(f\"Recall: {recall_score(y_test, y_pred_oversample)}\")\n",
    "print(f\"F1: {f1_score(y_test, y_pred_oversample)}\")"
   ]
  },
  {
   "cell_type": "markdown",
   "id": "4af67d70",
   "metadata": {},
   "source": [
    "### Below is work on no oversample data"
   ]
  },
  {
   "cell_type": "markdown",
   "id": "1fb5b953",
   "metadata": {},
   "source": [
    "#### Soft Class Predictions\n",
    "- Giving probabilities of being one class or another\n",
    "- If class labels strings Sklearn displays in alphabetical order. If numerical class labels they'll be in ascending order"
   ]
  },
  {
   "cell_type": "code",
   "execution_count": 18,
   "id": "f3baabb6",
   "metadata": {},
   "outputs": [
    {
     "data": {
      "text/plain": [
       "array([[0.99479267, 0.00520733],\n",
       "       [0.8773139 , 0.1226861 ],\n",
       "       [0.30829241, 0.69170759],\n",
       "       [0.88565903, 0.11434097],\n",
       "       [0.63613899, 0.36386101]])"
      ]
     },
     "execution_count": 18,
     "metadata": {},
     "output_type": "execute_result"
    }
   ],
   "source": [
    "pipe.predict_proba(X_test)[:5]"
   ]
  },
  {
   "cell_type": "markdown",
   "id": "4a76f654",
   "metadata": {},
   "source": [
    "#### Accuracy\n",
    "Percentage of observations that were correctly classified.\n",
    "When one class is significantly less common that the other accuracy is often not the most helpful metric to optimize."
   ]
  },
  {
   "cell_type": "code",
   "execution_count": 19,
   "id": "ee07ae95",
   "metadata": {},
   "outputs": [
    {
     "data": {
      "text/plain": [
       "0.8065984072810012"
      ]
     },
     "execution_count": 19,
     "metadata": {},
     "output_type": "execute_result"
    }
   ],
   "source": [
    "#accuracy score on train data\n",
    "pipe.score(X_train, y_train)"
   ]
  },
  {
   "cell_type": "code",
   "execution_count": 20,
   "id": "16f432ec",
   "metadata": {},
   "outputs": [
    {
     "data": {
      "text/plain": [
       "0.7895335608646189"
      ]
     },
     "execution_count": 20,
     "metadata": {},
     "output_type": "execute_result"
    }
   ],
   "source": [
    "#accuracy score on test data\n",
    "pipe.score(X_test, y_test)"
   ]
  },
  {
   "cell_type": "markdown",
   "id": "4df42d3e",
   "metadata": {},
   "source": [
    "#### Confusion Matrix"
   ]
  },
  {
   "cell_type": "code",
   "execution_count": 21,
   "id": "787b646e",
   "metadata": {},
   "outputs": [],
   "source": [
    "#sklearn.metrics.confusion_matrix(y_true, y_pred, *, labels=None, sample_weight=None, normalize=None)"
   ]
  },
  {
   "cell_type": "markdown",
   "id": "96e9721e",
   "metadata": {},
   "source": [
    "Get this to print out percentage option too"
   ]
  },
  {
   "cell_type": "code",
   "execution_count": 22,
   "id": "9a40bdab",
   "metadata": {},
   "outputs": [],
   "source": [
    "logreg_confusion = confusion_matrix(y_test, y_pred)"
   ]
  },
  {
   "cell_type": "code",
   "execution_count": 23,
   "id": "0f5c6069",
   "metadata": {},
   "outputs": [
    {
     "data": {
      "text/plain": [
       "array([[1151,  149],\n",
       "       [ 221,  237]])"
      ]
     },
     "execution_count": 23,
     "metadata": {},
     "output_type": "execute_result"
    }
   ],
   "source": [
    "logreg_confusion"
   ]
  },
  {
   "cell_type": "code",
   "execution_count": 24,
   "id": "51ee3e11",
   "metadata": {},
   "outputs": [],
   "source": [
    "def make_confusion_matrix(model, threshold = 0.5):\n",
    "    # Predict class 1 if probability of being in class 1 is greater than threshold\n",
    "    # (model.predict(X_test) does this automatically with a threshold of 0.5)\n",
    "    y_predict = (model.predict_proba(X_test)[:, 1] >= threshold)\n",
    "    churn_conf = confusion_matrix(y_test, y_pred)\n",
    "    plt.figure(dpi=80)\n",
    "    sns.heatmap(churn_conf, cmap=plt.cm.Blues, annot=True, square=True, fmt='d',);\n",
    "\n",
    "    #plt.savefig('confusion_matrix.png', dpi=300) "
   ]
  },
  {
   "cell_type": "code",
   "execution_count": 25,
   "id": "cb22dd02",
   "metadata": {},
   "outputs": [
    {
     "data": {
      "application/vnd.jupyter.widget-view+json": {
       "model_id": "28e1154e370d4a2b8facbab9c599d825",
       "version_major": 2,
       "version_minor": 0
      },
      "text/plain": [
       "interactive(children=(FloatSlider(value=0.5, description='threshold', max=1.0, step=0.02), Output()), _dom_cla…"
      ]
     },
     "metadata": {},
     "output_type": "display_data"
    }
   ],
   "source": [
    "# confusion matrix with threshold slider\n",
    "interactive(lambda threshold: make_confusion_matrix(pipe, threshold), threshold=(0.0,1.0,0.02))"
   ]
  },
  {
   "cell_type": "code",
   "execution_count": 26,
   "id": "61289e6e",
   "metadata": {},
   "outputs": [],
   "source": [
    "def make_confusion_matrix(model, threshold = 0.5):\n",
    "    # Predict class 1 if probability of being in class 1 is greater than threshold\n",
    "    # (model.predict(X_test) does this automatically with a threshold of 0.5)\n",
    "    y_predict = (model.predict_proba(X_test)[:, 1] >= threshold)\n",
    "    churn_conf = confusion_matrix(y_test, y_pred, normalize = 'all')\n",
    "    plt.figure(dpi=80)\n",
    "    sns.heatmap(churn_conf, cmap=plt.cm.Blues, annot=True, square=True, fmt='.2%');\n",
    "    #plt.savefig('confusion_matrix_percent.png', dpi=300) "
   ]
  },
  {
   "cell_type": "code",
   "execution_count": 27,
   "id": "51cf4055",
   "metadata": {},
   "outputs": [
    {
     "data": {
      "application/vnd.jupyter.widget-view+json": {
       "model_id": "7246208f65ee4cb19a2d9b11e532d541",
       "version_major": 2,
       "version_minor": 0
      },
      "text/plain": [
       "interactive(children=(FloatSlider(value=0.5, description='threshold', max=1.0, step=0.02), Output()), _dom_cla…"
      ]
     },
     "metadata": {},
     "output_type": "display_data"
    }
   ],
   "source": [
    "# confusion matrix with threshold slider\n",
    "# how the widget works https://ipywidgets.readthedocs.io/en/stable/examples/Using%20Interact.html?highlight=interact\n",
    "interactive(lambda threshold: make_confusion_matrix(pipe, threshold), threshold=(0.0,1.0,0.02))"
   ]
  },
  {
   "cell_type": "markdown",
   "id": "398e1218",
   "metadata": {},
   "source": [
    "Confusion matrix findings\n",
    "The model:\n",
    "- correctly classified 1151 people who didn't cancel their subscription. \n",
    "- correctly classified 237 customers as people who were going to cancel their subscription and did.\n",
    "- incorrectly classified  149 customers as people who were going to cancel their subscription when they actually kept their subscription. \n",
    "- It incorrectly classified 221 customers as people who were going to keep their subscription but actually canceled it. "
   ]
  },
  {
   "cell_type": "markdown",
   "id": "7610cf45",
   "metadata": {},
   "source": [
    "### ROC Curve\n",
    "- ROC AUC (area under curve) metric is 1 for a perfect classifier, and it's equal to 0.5 for a model that performs as well as random guess. "
   ]
  },
  {
   "cell_type": "markdown",
   "id": "5ad03296",
   "metadata": {},
   "source": [
    "How the variables below are working\n",
    "- the variables (fpr, tpr, thresholds) are returned by the roc_curve function are stored in these three variables - fpr (false positive rate), tpr (true positive rate) and thresholds. Fpr and tpr are used later to plot the chart."
   ]
  },
  {
   "cell_type": "code",
   "execution_count": 28,
   "id": "e71d2ef5",
   "metadata": {},
   "outputs": [],
   "source": [
    "fpr, tpr, thresholds = roc_curve(y_test, pipe.predict_proba(X_test)[:,1])"
   ]
  },
  {
   "cell_type": "code",
   "execution_count": 29,
   "id": "d07d456e",
   "metadata": {},
   "outputs": [
    {
     "name": "stdout",
     "output_type": "stream",
     "text": [
      "ROC AUC score =  0.8344776620759153\n"
     ]
    },
    {
     "data": {
      "image/png": "[encoded data removed]",
      "text/plain": [
       "<Figure size 640x480 with 1 Axes>"
      ]
     },
     "metadata": {},
     "output_type": "display_data"
    }
   ],
   "source": [
    "plt.plot(fpr, tpr,lw=2)\n",
    "plt.plot([0,1],[0,1],c='orange',ls='--')\n",
    "plt.xlim([-0.05,1.05])\n",
    "plt.ylim([-0.05,1.05])\n",
    "\n",
    "\n",
    "plt.xlabel('False positive rate')\n",
    "plt.ylabel('True positive rate')\n",
    "plt.title('ROC Curve');\n",
    "print(\"ROC AUC score = \", roc_auc_score(y_test, pipe.predict_proba(X_test)[:,1]))\n",
    "#plt.savefig('ROC Curve.png', dpi=300) "
   ]
  },
  {
   "cell_type": "markdown",
   "id": "85ecf33a",
   "metadata": {},
   "source": [
    "### Interpreting Coefficients: Would like to indicate which features are more strongly associated with churn - we do this with coefficients, correct?\n",
    "- One unit of increase in x actually increases the log odds by beta units. \n",
    "- In other words: One unit of increase in x, increases the odds by an exponential factor of beta.\n",
    "- If the features coefficient beta is positive, increasing that feature makes the positive class more likely\n",
    "- If beta is negative, increasing the feature does the opposite and the positive class becomes less likely"
   ]
  },
  {
   "cell_type": "markdown",
   "id": "14bf40f6",
   "metadata": {},
   "source": [
    "### Coefficient For Each Feature"
   ]
  },
  {
   "cell_type": "markdown",
   "id": "d8ac9068",
   "metadata": {},
   "source": [
    "#### Coeffcients in Log Odds Units"
   ]
  },
  {
   "cell_type": "code",
   "execution_count": 30,
   "id": "9f2b8004",
   "metadata": {},
   "outputs": [],
   "source": [
    "#.T to transform cuz there was a shape error\n",
    "coefs_tst_data = pd.DataFrame(pipe['LogReg'].coef_.T, X.columns, columns = ['Coeff_Log_Odds'])"
   ]
  },
  {
   "cell_type": "code",
   "execution_count": 31,
   "id": "c63f38a3",
   "metadata": {},
   "outputs": [],
   "source": [
    "#coefs_tst_data.sort_values(by='Coeff_Log_Odds', ascending = False)"
   ]
  },
  {
   "cell_type": "markdown",
   "id": "1a9bf338",
   "metadata": {},
   "source": [
    "#### Coeffecients: Exponentiate to get rid of log odds\n",
    "These are now odds NOT log odds"
   ]
  },
  {
   "cell_type": "code",
   "execution_count": 32,
   "id": "70a37527",
   "metadata": {},
   "outputs": [],
   "source": [
    "coefs_tst_data['Coeff_Odds'] = coefs_tst_data['Coeff_Log_Odds']"
   ]
  },
  {
   "cell_type": "code",
   "execution_count": 33,
   "id": "b475011b",
   "metadata": {},
   "outputs": [],
   "source": [
    "#coefs_tst_data"
   ]
  },
  {
   "cell_type": "code",
   "execution_count": 34,
   "id": "ab4a05bc",
   "metadata": {},
   "outputs": [],
   "source": [
    "coefs_tst_data['Coeff_Odds'] = coefs_tst_data['Coeff_Odds'].apply(lambda x: np.exp(x))"
   ]
  },
  {
   "cell_type": "code",
   "execution_count": 35,
   "id": "a70296ee",
   "metadata": {},
   "outputs": [
    {
     "data": {
      "text/html": [
       "<div>\n",
       "<style scoped>\n",
       "    .dataframe tbody tr th:only-of-type {\n",
       "        vertical-align: middle;\n",
       "    }\n",
       "\n",
       "    .dataframe tbody tr th {\n",
       "        vertical-align: top;\n",
       "    }\n",
       "\n",
       "    .dataframe thead th {\n",
       "        text-align: right;\n",
       "    }\n",
       "</style>\n",
       "<table border=\"1\" class=\"dataframe\">\n",
       "  <thead>\n",
       "    <tr style=\"text-align: right;\">\n",
       "      <th></th>\n",
       "      <th>Coeff_Log_Odds</th>\n",
       "      <th>Coeff_Odds</th>\n",
       "    </tr>\n",
       "  </thead>\n",
       "  <tbody>\n",
       "    <tr>\n",
       "      <th>TotalCharges</th>\n",
       "      <td>0.746655</td>\n",
       "      <td>2.109930</td>\n",
       "    </tr>\n",
       "    <tr>\n",
       "      <th>InternetService_Fiber</th>\n",
       "      <td>0.600124</td>\n",
       "      <td>1.822345</td>\n",
       "    </tr>\n",
       "    <tr>\n",
       "      <th>StreamingMovies_Yes</th>\n",
       "      <td>0.195780</td>\n",
       "      <td>1.216259</td>\n",
       "    </tr>\n",
       "    <tr>\n",
       "      <th>StreamingTV_Yes</th>\n",
       "      <td>0.173457</td>\n",
       "      <td>1.189409</td>\n",
       "    </tr>\n",
       "    <tr>\n",
       "      <th>MultipleLines_Yes</th>\n",
       "      <td>0.131167</td>\n",
       "      <td>1.140158</td>\n",
       "    </tr>\n",
       "    <tr>\n",
       "      <th>PaymentMethod_Electr_Check</th>\n",
       "      <td>0.123118</td>\n",
       "      <td>1.131018</td>\n",
       "    </tr>\n",
       "    <tr>\n",
       "      <th>PaperlessBilling_Yes</th>\n",
       "      <td>0.114826</td>\n",
       "      <td>1.121679</td>\n",
       "    </tr>\n",
       "    <tr>\n",
       "      <th>SeniorCitizen</th>\n",
       "      <td>0.090125</td>\n",
       "      <td>1.094311</td>\n",
       "    </tr>\n",
       "    <tr>\n",
       "      <th>Partner_Yes</th>\n",
       "      <td>0.047038</td>\n",
       "      <td>1.048162</td>\n",
       "    </tr>\n",
       "    <tr>\n",
       "      <th>MultipleLines_No_phone_serv</th>\n",
       "      <td>0.042894</td>\n",
       "      <td>1.043827</td>\n",
       "    </tr>\n",
       "    <tr>\n",
       "      <th>DeviceProtection_Yes</th>\n",
       "      <td>0.038966</td>\n",
       "      <td>1.039735</td>\n",
       "    </tr>\n",
       "    <tr>\n",
       "      <th>gender_Male</th>\n",
       "      <td>-0.015224</td>\n",
       "      <td>0.984891</td>\n",
       "    </tr>\n",
       "    <tr>\n",
       "      <th>OnlineBackup_Yes</th>\n",
       "      <td>-0.025702</td>\n",
       "      <td>0.974625</td>\n",
       "    </tr>\n",
       "    <tr>\n",
       "      <th>PaymentMethod_Mailed_check</th>\n",
       "      <td>-0.033418</td>\n",
       "      <td>0.967134</td>\n",
       "    </tr>\n",
       "    <tr>\n",
       "      <th>PhoneService_Yes</th>\n",
       "      <td>-0.042894</td>\n",
       "      <td>0.958013</td>\n",
       "    </tr>\n",
       "    <tr>\n",
       "      <th>PaymentMethod_Crcard</th>\n",
       "      <td>-0.052276</td>\n",
       "      <td>0.949067</td>\n",
       "    </tr>\n",
       "    <tr>\n",
       "      <th>OnlineSecurity_No_internet_serv</th>\n",
       "      <td>-0.066252</td>\n",
       "      <td>0.935895</td>\n",
       "    </tr>\n",
       "    <tr>\n",
       "      <th>DeviceProtection_No_internet_serv</th>\n",
       "      <td>-0.066252</td>\n",
       "      <td>0.935895</td>\n",
       "    </tr>\n",
       "    <tr>\n",
       "      <th>TechSupport_No_internet_serv</th>\n",
       "      <td>-0.066252</td>\n",
       "      <td>0.935895</td>\n",
       "    </tr>\n",
       "    <tr>\n",
       "      <th>StreamingTV_No_internet_serv</th>\n",
       "      <td>-0.066252</td>\n",
       "      <td>0.935895</td>\n",
       "    </tr>\n",
       "    <tr>\n",
       "      <th>InternetService_No</th>\n",
       "      <td>-0.066252</td>\n",
       "      <td>0.935895</td>\n",
       "    </tr>\n",
       "    <tr>\n",
       "      <th>StreamingMovies_No_internet_serv</th>\n",
       "      <td>-0.066252</td>\n",
       "      <td>0.935895</td>\n",
       "    </tr>\n",
       "    <tr>\n",
       "      <th>OnlineBackup_No_Internet_Serv</th>\n",
       "      <td>-0.066252</td>\n",
       "      <td>0.935895</td>\n",
       "    </tr>\n",
       "    <tr>\n",
       "      <th>Dependents_Yes</th>\n",
       "      <td>-0.110642</td>\n",
       "      <td>0.895259</td>\n",
       "    </tr>\n",
       "    <tr>\n",
       "      <th>TechSupport_Yes</th>\n",
       "      <td>-0.138082</td>\n",
       "      <td>0.871027</td>\n",
       "    </tr>\n",
       "    <tr>\n",
       "      <th>OnlineSecurity_Yes</th>\n",
       "      <td>-0.160019</td>\n",
       "      <td>0.852127</td>\n",
       "    </tr>\n",
       "    <tr>\n",
       "      <th>Contract_One_Year</th>\n",
       "      <td>-0.318596</td>\n",
       "      <td>0.727170</td>\n",
       "    </tr>\n",
       "    <tr>\n",
       "      <th>MonthlyCharges</th>\n",
       "      <td>-0.477732</td>\n",
       "      <td>0.620189</td>\n",
       "    </tr>\n",
       "    <tr>\n",
       "      <th>Contract_Two_year</th>\n",
       "      <td>-0.582751</td>\n",
       "      <td>0.558360</td>\n",
       "    </tr>\n",
       "    <tr>\n",
       "      <th>tenure</th>\n",
       "      <td>-1.502647</td>\n",
       "      <td>0.222540</td>\n",
       "    </tr>\n",
       "  </tbody>\n",
       "</table>\n",
       "</div>"
      ],
      "text/plain": [
       "                                   Coeff_Log_Odds  Coeff_Odds\n",
       "TotalCharges                             0.746655    2.109930\n",
       "InternetService_Fiber                    0.600124    1.822345\n",
       "StreamingMovies_Yes                      0.195780    1.216259\n",
       "StreamingTV_Yes                          0.173457    1.189409\n",
       "MultipleLines_Yes                        0.131167    1.140158\n",
       "PaymentMethod_Electr_Check               0.123118    1.131018\n",
       "PaperlessBilling_Yes                     0.114826    1.121679\n",
       "SeniorCitizen                            0.090125    1.094311\n",
       "Partner_Yes                              0.047038    1.048162\n",
       "MultipleLines_No_phone_serv              0.042894    1.043827\n",
       "DeviceProtection_Yes                     0.038966    1.039735\n",
       "gender_Male                             -0.015224    0.984891\n",
       "OnlineBackup_Yes                        -0.025702    0.974625\n",
       "PaymentMethod_Mailed_check              -0.033418    0.967134\n",
       "PhoneService_Yes                        -0.042894    0.958013\n",
       "PaymentMethod_Crcard                    -0.052276    0.949067\n",
       "OnlineSecurity_No_internet_serv         -0.066252    0.935895\n",
       "DeviceProtection_No_internet_serv       -0.066252    0.935895\n",
       "TechSupport_No_internet_serv            -0.066252    0.935895\n",
       "StreamingTV_No_internet_serv            -0.066252    0.935895\n",
       "InternetService_No                      -0.066252    0.935895\n",
       "StreamingMovies_No_internet_serv        -0.066252    0.935895\n",
       "OnlineBackup_No_Internet_Serv           -0.066252    0.935895\n",
       "Dependents_Yes                          -0.110642    0.895259\n",
       "TechSupport_Yes                         -0.138082    0.871027\n",
       "OnlineSecurity_Yes                      -0.160019    0.852127\n",
       "Contract_One_Year                       -0.318596    0.727170\n",
       "MonthlyCharges                          -0.477732    0.620189\n",
       "Contract_Two_year                       -0.582751    0.558360\n",
       "tenure                                  -1.502647    0.222540"
      ]
     },
     "execution_count": 35,
     "metadata": {},
     "output_type": "execute_result"
    }
   ],
   "source": [
    "coefs_tst_data.sort_values(by='Coeff_Odds', ascending = False)"
   ]
  },
  {
   "cell_type": "code",
   "execution_count": 36,
   "id": "f49bc880",
   "metadata": {},
   "outputs": [
    {
     "data": {
      "image/png": "[encoded data removed]",
      "text/plain": [
       "<Figure size 640x480 with 1 Axes>"
      ]
     },
     "metadata": {},
     "output_type": "display_data"
    }
   ],
   "source": [
    "feat_importances = pd.Series(coefs_tst_data.Coeff_Odds, index=X.columns)\n",
    "feat_importances.nlargest(15).plot(kind='barh')\n",
    "plt.title(\"Top 15 important features\")\n",
    "#plt.savefig(\"LogReg_FeaturesImg.png\", format=\"png\", dpi=300)\n",
    "plt.show()"
   ]
  },
  {
   "cell_type": "code",
   "execution_count": 37,
   "id": "557e5993",
   "metadata": {},
   "outputs": [],
   "source": [
    "#pipe['LogReg'].coef_"
   ]
  },
  {
   "cell_type": "code",
   "execution_count": 38,
   "id": "fed0ce09",
   "metadata": {},
   "outputs": [],
   "source": [
    "#np.exp(pipe['LogReg'].coef_)"
   ]
  },
  {
   "cell_type": "code",
   "execution_count": 39,
   "id": "e6e5fe28",
   "metadata": {},
   "outputs": [],
   "source": [
    "#type(pipe['LogReg'])"
   ]
  }
 ],
 "metadata": {
  "kernelspec": {
   "display_name": "Python 3 (ipykernel)",
   "language": "python",
   "name": "python3"
  },
  "language_info": {
   "codemirror_mode": {
    "name": "ipython",
    "version": 3
   },
   "file_extension": ".py",
   "mimetype": "text/x-python",
   "name": "python",
   "nbconvert_exporter": "python",
   "pygments_lexer": "ipython3",
   "version": "3.9.7"
  }
 },
 "nbformat": 4,
 "nbformat_minor": 5
}
