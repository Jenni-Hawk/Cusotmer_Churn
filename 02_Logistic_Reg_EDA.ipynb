{
 "cells": [
  {
   "cell_type": "markdown",
   "id": "7c728ec0",
   "metadata": {},
   "source": [
    "### Explore data through lens of logistic regression\n",
    "- Accuracy, Recall, Precision, F1\n",
    "- Determine class imbalance\n",
    "- Confusion Matrix \n",
    "- ROC Curve\n",
    "- Get feature coefficients"
   ]
  },
  {
   "cell_type": "code",
   "execution_count": 1,
   "id": "f76c3887",
   "metadata": {},
   "outputs": [],
   "source": [
    "import pandas as pd\n",
    "import numpy as np\n",
    "import matplotlib.pyplot as plt\n",
    "import seaborn as sns\n",
    "\n",
    "from sklearn.linear_model import LogisticRegression\n",
    "from sklearn.model_selection import train_test_split\n",
    "from sklearn.pipeline import make_pipeline\n",
    "from sklearn.pipeline import Pipeline\n",
    "from sklearn.preprocessing import StandardScaler\n",
    "from ipywidgets import interactive, FloatSlider\n",
    "\n",
    "import imblearn.over_sampling\n",
    "\n",
    "from sklearn.metrics import accuracy_score, confusion_matrix, precision_score, recall_score, f1_score, roc_auc_score, roc_curve \n",
    "\n",
    "%matplotlib inline"
   ]
  },
  {
   "cell_type": "code",
   "execution_count": 2,
   "id": "35e9f137",
   "metadata": {},
   "outputs": [],
   "source": [
    "data = pd.read_csv('/Users/jennihawk/Documents/Data Science Projects/Churn Project/Models/chatr_clean.csv')"
   ]
  },
  {
   "cell_type": "code",
   "execution_count": 3,
   "id": "1baa799d",
   "metadata": {},
   "outputs": [
    {
     "data": {
      "text/html": [
       "<div>\n",
       "<style scoped>\n",
       "    .dataframe tbody tr th:only-of-type {\n",
       "        vertical-align: middle;\n",
       "    }\n",
       "\n",
       "    .dataframe tbody tr th {\n",
       "        vertical-align: top;\n",
       "    }\n",
       "\n",
       "    .dataframe thead th {\n",
       "        text-align: right;\n",
       "    }\n",
       "</style>\n",
       "<table border=\"1\" class=\"dataframe\">\n",
       "  <thead>\n",
       "    <tr style=\"text-align: right;\">\n",
       "      <th></th>\n",
       "      <th>customerID</th>\n",
       "      <th>SeniorCitizen</th>\n",
       "      <th>tenure</th>\n",
       "      <th>MonthlyCharges</th>\n",
       "      <th>TotalCharges</th>\n",
       "      <th>InternetService_Fiber</th>\n",
       "      <th>InternetService_No</th>\n",
       "      <th>Contract_One_Year</th>\n",
       "      <th>Contract_Two_year</th>\n",
       "      <th>PaymentMethod_Crcard</th>\n",
       "      <th>...</th>\n",
       "      <th>DeviceProtection_No_internet_serv</th>\n",
       "      <th>DeviceProtection_Yes</th>\n",
       "      <th>TechSupport_No_internet_serv</th>\n",
       "      <th>TechSupport_Yes</th>\n",
       "      <th>StreamingTV_No_internet_serv</th>\n",
       "      <th>StreamingTV_Yes</th>\n",
       "      <th>StreamingMovies_No_internet_serv</th>\n",
       "      <th>StreamingMovies_Yes</th>\n",
       "      <th>PaperlessBilling_Yes</th>\n",
       "      <th>Churn_Yes</th>\n",
       "    </tr>\n",
       "  </thead>\n",
       "  <tbody>\n",
       "    <tr>\n",
       "      <th>0</th>\n",
       "      <td>7590-VHVEG</td>\n",
       "      <td>0</td>\n",
       "      <td>1.0</td>\n",
       "      <td>29.85</td>\n",
       "      <td>29.85</td>\n",
       "      <td>0</td>\n",
       "      <td>0</td>\n",
       "      <td>0</td>\n",
       "      <td>0</td>\n",
       "      <td>0</td>\n",
       "      <td>...</td>\n",
       "      <td>0</td>\n",
       "      <td>0</td>\n",
       "      <td>0</td>\n",
       "      <td>0</td>\n",
       "      <td>0</td>\n",
       "      <td>0</td>\n",
       "      <td>0</td>\n",
       "      <td>0</td>\n",
       "      <td>1</td>\n",
       "      <td>0</td>\n",
       "    </tr>\n",
       "    <tr>\n",
       "      <th>1</th>\n",
       "      <td>5575-GNVDE</td>\n",
       "      <td>0</td>\n",
       "      <td>34.0</td>\n",
       "      <td>56.95</td>\n",
       "      <td>1889.50</td>\n",
       "      <td>0</td>\n",
       "      <td>0</td>\n",
       "      <td>1</td>\n",
       "      <td>0</td>\n",
       "      <td>0</td>\n",
       "      <td>...</td>\n",
       "      <td>0</td>\n",
       "      <td>1</td>\n",
       "      <td>0</td>\n",
       "      <td>0</td>\n",
       "      <td>0</td>\n",
       "      <td>0</td>\n",
       "      <td>0</td>\n",
       "      <td>0</td>\n",
       "      <td>0</td>\n",
       "      <td>0</td>\n",
       "    </tr>\n",
       "    <tr>\n",
       "      <th>2</th>\n",
       "      <td>3668-QPYBK</td>\n",
       "      <td>0</td>\n",
       "      <td>2.0</td>\n",
       "      <td>53.85</td>\n",
       "      <td>108.15</td>\n",
       "      <td>0</td>\n",
       "      <td>0</td>\n",
       "      <td>0</td>\n",
       "      <td>0</td>\n",
       "      <td>0</td>\n",
       "      <td>...</td>\n",
       "      <td>0</td>\n",
       "      <td>0</td>\n",
       "      <td>0</td>\n",
       "      <td>0</td>\n",
       "      <td>0</td>\n",
       "      <td>0</td>\n",
       "      <td>0</td>\n",
       "      <td>0</td>\n",
       "      <td>1</td>\n",
       "      <td>1</td>\n",
       "    </tr>\n",
       "    <tr>\n",
       "      <th>3</th>\n",
       "      <td>7795-CFOCW</td>\n",
       "      <td>0</td>\n",
       "      <td>45.0</td>\n",
       "      <td>42.30</td>\n",
       "      <td>1840.75</td>\n",
       "      <td>0</td>\n",
       "      <td>0</td>\n",
       "      <td>1</td>\n",
       "      <td>0</td>\n",
       "      <td>0</td>\n",
       "      <td>...</td>\n",
       "      <td>0</td>\n",
       "      <td>1</td>\n",
       "      <td>0</td>\n",
       "      <td>1</td>\n",
       "      <td>0</td>\n",
       "      <td>0</td>\n",
       "      <td>0</td>\n",
       "      <td>0</td>\n",
       "      <td>0</td>\n",
       "      <td>0</td>\n",
       "    </tr>\n",
       "    <tr>\n",
       "      <th>4</th>\n",
       "      <td>9237-HQITU</td>\n",
       "      <td>0</td>\n",
       "      <td>2.0</td>\n",
       "      <td>70.70</td>\n",
       "      <td>151.65</td>\n",
       "      <td>1</td>\n",
       "      <td>0</td>\n",
       "      <td>0</td>\n",
       "      <td>0</td>\n",
       "      <td>0</td>\n",
       "      <td>...</td>\n",
       "      <td>0</td>\n",
       "      <td>0</td>\n",
       "      <td>0</td>\n",
       "      <td>0</td>\n",
       "      <td>0</td>\n",
       "      <td>0</td>\n",
       "      <td>0</td>\n",
       "      <td>0</td>\n",
       "      <td>1</td>\n",
       "      <td>1</td>\n",
       "    </tr>\n",
       "  </tbody>\n",
       "</table>\n",
       "<p>5 rows × 32 columns</p>\n",
       "</div>"
      ],
      "text/plain": [
       "   customerID  SeniorCitizen  tenure  MonthlyCharges  TotalCharges  \\\n",
       "0  7590-VHVEG              0     1.0           29.85         29.85   \n",
       "1  5575-GNVDE              0    34.0           56.95       1889.50   \n",
       "2  3668-QPYBK              0     2.0           53.85        108.15   \n",
       "3  7795-CFOCW              0    45.0           42.30       1840.75   \n",
       "4  9237-HQITU              0     2.0           70.70        151.65   \n",
       "\n",
       "   InternetService_Fiber  InternetService_No  Contract_One_Year  \\\n",
       "0                      0                   0                  0   \n",
       "1                      0                   0                  1   \n",
       "2                      0                   0                  0   \n",
       "3                      0                   0                  1   \n",
       "4                      1                   0                  0   \n",
       "\n",
       "   Contract_Two_year  PaymentMethod_Crcard  ...  \\\n",
       "0                  0                     0  ...   \n",
       "1                  0                     0  ...   \n",
       "2                  0                     0  ...   \n",
       "3                  0                     0  ...   \n",
       "4                  0                     0  ...   \n",
       "\n",
       "   DeviceProtection_No_internet_serv  DeviceProtection_Yes  \\\n",
       "0                                  0                     0   \n",
       "1                                  0                     1   \n",
       "2                                  0                     0   \n",
       "3                                  0                     1   \n",
       "4                                  0                     0   \n",
       "\n",
       "   TechSupport_No_internet_serv  TechSupport_Yes  \\\n",
       "0                             0                0   \n",
       "1                             0                0   \n",
       "2                             0                0   \n",
       "3                             0                1   \n",
       "4                             0                0   \n",
       "\n",
       "   StreamingTV_No_internet_serv  StreamingTV_Yes  \\\n",
       "0                             0                0   \n",
       "1                             0                0   \n",
       "2                             0                0   \n",
       "3                             0                0   \n",
       "4                             0                0   \n",
       "\n",
       "   StreamingMovies_No_internet_serv  StreamingMovies_Yes  \\\n",
       "0                                 0                    0   \n",
       "1                                 0                    0   \n",
       "2                                 0                    0   \n",
       "3                                 0                    0   \n",
       "4                                 0                    0   \n",
       "\n",
       "   PaperlessBilling_Yes  Churn_Yes  \n",
       "0                     1          0  \n",
       "1                     0          0  \n",
       "2                     1          1  \n",
       "3                     0          0  \n",
       "4                     1          1  \n",
       "\n",
       "[5 rows x 32 columns]"
      ]
     },
     "execution_count": 3,
     "metadata": {},
     "output_type": "execute_result"
    }
   ],
   "source": [
    "data.head()"
   ]
  },
  {
   "cell_type": "code",
   "execution_count": 4,
   "id": "06c19a68",
   "metadata": {},
   "outputs": [],
   "source": [
    "#data.info()"
   ]
  },
  {
   "cell_type": "code",
   "execution_count": 5,
   "id": "773cbd3b",
   "metadata": {},
   "outputs": [
    {
     "data": {
      "text/plain": [
       "Index(['customerID', 'SeniorCitizen', 'tenure', 'MonthlyCharges',\n",
       "       'TotalCharges', 'InternetService_Fiber', 'InternetService_No',\n",
       "       'Contract_One_Year', 'Contract_Two_year', 'PaymentMethod_Crcard',\n",
       "       'PaymentMethod_Electr_Check', 'PaymentMethod_Mailed_check',\n",
       "       'MultipleLines_No_phone_serv', 'MultipleLines_Yes', 'Dependents_Yes',\n",
       "       'gender_Male', 'Partner_Yes', 'PhoneService_Yes',\n",
       "       'OnlineSecurity_No_internet_serv', 'OnlineSecurity_Yes',\n",
       "       'OnlineBackup_No_Internet_Serv', 'OnlineBackup_Yes',\n",
       "       'DeviceProtection_No_internet_serv', 'DeviceProtection_Yes',\n",
       "       'TechSupport_No_internet_serv', 'TechSupport_Yes',\n",
       "       'StreamingTV_No_internet_serv', 'StreamingTV_Yes',\n",
       "       'StreamingMovies_No_internet_serv', 'StreamingMovies_Yes',\n",
       "       'PaperlessBilling_Yes', 'Churn_Yes'],\n",
       "      dtype='object')"
      ]
     },
     "execution_count": 5,
     "metadata": {},
     "output_type": "execute_result"
    }
   ],
   "source": [
    "data.columns"
   ]
  },
  {
   "cell_type": "markdown",
   "id": "b6cda65b",
   "metadata": {},
   "source": [
    "### Sklearn defaults to keep in mind\n",
    "- Decision Boundary: 50% cutoff value for positive / negative class\n",
    "- Regularization built in\n",
    "- Hyperparameter C controls effect of model term. Default C=1.0\n",
    "- Set C through validation or cross-validation. Larger C allows model to be more complex.\n",
    "- It's just like the alpha parameter from linear regression regularization, except it multiplies the model term instead of the regularization term. \n",
    "- the regularization term can be the squares of the coefficient betas, like ridge regression, - or it could be the absolute values of those betas, like lasso.\n",
    "- Option to set penalty. Penalty refers to type of regularization penalty:\n",
    "- L2 default means we're squaring the coefficients\n",
    "- L1 set for absolute values. You can also set to elastic net penalty. Or completely turn off regularization. "
   ]
  },
  {
   "cell_type": "markdown",
   "id": "1503498d",
   "metadata": {},
   "source": [
    "### Model Setup"
   ]
  },
  {
   "cell_type": "code",
   "execution_count": 6,
   "id": "7055d877",
   "metadata": {},
   "outputs": [],
   "source": [
    "features_in = ['SeniorCitizen', 'tenure', 'MonthlyCharges',\n",
    "       'TotalCharges', 'InternetService_Fiber', 'InternetService_No',\n",
    "       'Contract_One_Year', 'Contract_Two_year', 'PaymentMethod_Crcard',\n",
    "       'PaymentMethod_Electr_Check', 'PaymentMethod_Mailed_check',\n",
    "       'MultipleLines_No_phone_serv', 'MultipleLines_Yes', 'Dependents_Yes',\n",
    "       'gender_Male', 'Partner_Yes', 'PhoneService_Yes',\n",
    "       'OnlineSecurity_No_internet_serv', 'OnlineSecurity_Yes',\n",
    "       'OnlineBackup_No_Internet_Serv', 'OnlineBackup_Yes',\n",
    "       'DeviceProtection_No_internet_serv', 'DeviceProtection_Yes',\n",
    "       'TechSupport_No_internet_serv', 'TechSupport_Yes',\n",
    "       'StreamingTV_No_internet_serv', 'StreamingTV_Yes',\n",
    "       'StreamingMovies_No_internet_serv', 'StreamingMovies_Yes',\n",
    "       'PaperlessBilling_Yes']\n",
    "\n",
    "y = data['Churn_Yes']\n",
    "X = data[features_in]\n",
    "\n",
    "X_train, X_test, y_train, y_test = train_test_split(X, y, random_state=42)\n",
    "\n",
    "pipe = Pipeline([('scaler', StandardScaler()), ('LogReg', LogisticRegression())])"
   ]
  },
  {
   "cell_type": "code",
   "execution_count": 7,
   "id": "9cf1d46f",
   "metadata": {},
   "outputs": [
    {
     "name": "stdout",
     "output_type": "stream",
     "text": [
      "(5274, 30)\n",
      "(1758, 30)\n",
      "(5274,)\n",
      "(1758,)\n"
     ]
    }
   ],
   "source": [
    "print(X_train.shape)\n",
    "print(X_test.shape)\n",
    "print(y_train.shape)\n",
    "print(y_test.shape)"
   ]
  },
  {
   "cell_type": "markdown",
   "id": "45231ed1",
   "metadata": {},
   "source": [
    "### Fit Logistic Regression to Training Data"
   ]
  },
  {
   "cell_type": "code",
   "execution_count": 8,
   "id": "98f3ae5d",
   "metadata": {},
   "outputs": [
    {
     "data": {
      "text/plain": [
       "Pipeline(steps=[('scaler', StandardScaler()), ('LogReg', LogisticRegression())])"
      ]
     },
     "execution_count": 8,
     "metadata": {},
     "output_type": "execute_result"
    }
   ],
   "source": [
    "pipe.fit(X_train, y_train)  # applies scaling on training data"
   ]
  },
  {
   "cell_type": "markdown",
   "id": "095dc359",
   "metadata": {},
   "source": [
    "### Metrics"
   ]
  },
  {
   "cell_type": "markdown",
   "id": "a4875bb4",
   "metadata": {},
   "source": [
    "#### Determine class imbalance\n",
    "- Average Rate of churn on test data\n",
    "- don't have 50% average churn = class imbalance"
   ]
  },
  {
   "cell_type": "code",
   "execution_count": 9,
   "id": "1fa61168",
   "metadata": {},
   "outputs": [
    {
     "data": {
      "text/plain": [
       "0.26753886992794845"
      ]
     },
     "execution_count": 9,
     "metadata": {},
     "output_type": "execute_result"
    }
   ],
   "source": [
    "np.mean(y_train)"
   ]
  },
  {
   "cell_type": "code",
   "execution_count": 10,
   "id": "9039abd0",
   "metadata": {},
   "outputs": [
    {
     "data": {
      "text/plain": [
       "0.2605233219567691"
      ]
     },
     "execution_count": 10,
     "metadata": {},
     "output_type": "execute_result"
    }
   ],
   "source": [
    "np.mean(y_test)"
   ]
  },
  {
   "cell_type": "markdown",
   "id": "c7f34c10",
   "metadata": {},
   "source": [
    "#### Hard Class Predictions\n",
    "Predict Churn / Not Churn"
   ]
  },
  {
   "cell_type": "code",
   "execution_count": 11,
   "id": "6c06140b",
   "metadata": {},
   "outputs": [],
   "source": [
    "y_pred = pipe.predict(X_test)"
   ]
  },
  {
   "cell_type": "code",
   "execution_count": 12,
   "id": "cd283a0d",
   "metadata": {},
   "outputs": [
    {
     "data": {
      "text/plain": [
       "array([0, 0, 1, ..., 0, 0, 0])"
      ]
     },
     "execution_count": 12,
     "metadata": {},
     "output_type": "execute_result"
    }
   ],
   "source": [
    "y_pred"
   ]
  },
  {
   "cell_type": "markdown",
   "id": "1fb5b953",
   "metadata": {},
   "source": [
    "#### Soft Class Predictions\n",
    "- Giving probabilities of being one class or another\n",
    "- If class labels strings Sklearn displays in alphabetical order. If numerical class labels they'll be in ascending order"
   ]
  },
  {
   "cell_type": "code",
   "execution_count": 13,
   "id": "f3baabb6",
   "metadata": {},
   "outputs": [
    {
     "data": {
      "text/plain": [
       "array([[0.99479267, 0.00520733],\n",
       "       [0.8773139 , 0.1226861 ],\n",
       "       [0.30829241, 0.69170759],\n",
       "       [0.88565903, 0.11434097],\n",
       "       [0.63613899, 0.36386101]])"
      ]
     },
     "execution_count": 13,
     "metadata": {},
     "output_type": "execute_result"
    }
   ],
   "source": [
    "pipe.predict_proba(X_test)[:5]"
   ]
  },
  {
   "cell_type": "markdown",
   "id": "4a76f654",
   "metadata": {},
   "source": [
    "#### Accuracy\n",
    "Percentage of observations that were correctly classified.\n",
    "When one class is significantly less common that the other accuracy is often not the most helpful metric to optimize."
   ]
  },
  {
   "cell_type": "code",
   "execution_count": 14,
   "id": "ee07ae95",
   "metadata": {},
   "outputs": [
    {
     "data": {
      "text/plain": [
       "0.8065984072810012"
      ]
     },
     "execution_count": 14,
     "metadata": {},
     "output_type": "execute_result"
    }
   ],
   "source": [
    "#accuracy score on train data\n",
    "pipe.score(X_train, y_train)"
   ]
  },
  {
   "cell_type": "code",
   "execution_count": 15,
   "id": "16f432ec",
   "metadata": {},
   "outputs": [
    {
     "data": {
      "text/plain": [
       "0.7895335608646189"
      ]
     },
     "execution_count": 15,
     "metadata": {},
     "output_type": "execute_result"
    }
   ],
   "source": [
    "#accuracy score on test data\n",
    "pipe.score(X_test, y_test)"
   ]
  },
  {
   "cell_type": "markdown",
   "id": "4df42d3e",
   "metadata": {},
   "source": [
    "#### Confusion Matrix"
   ]
  },
  {
   "cell_type": "code",
   "execution_count": 16,
   "id": "787b646e",
   "metadata": {},
   "outputs": [],
   "source": [
    "#sklearn.metrics.confusion_matrix(y_true, y_pred, *, labels=None, sample_weight=None, normalize=None)"
   ]
  },
  {
   "cell_type": "code",
   "execution_count": 17,
   "id": "9a40bdab",
   "metadata": {},
   "outputs": [],
   "source": [
    "logreg_confusion = confusion_matrix(y_test, y_pred)"
   ]
  },
  {
   "cell_type": "code",
   "execution_count": 18,
   "id": "0f5c6069",
   "metadata": {},
   "outputs": [
    {
     "data": {
      "text/plain": [
       "array([[1151,  149],\n",
       "       [ 221,  237]])"
      ]
     },
     "execution_count": 18,
     "metadata": {},
     "output_type": "execute_result"
    }
   ],
   "source": [
    "logreg_confusion"
   ]
  },
  {
   "cell_type": "code",
   "execution_count": 19,
   "id": "51ee3e11",
   "metadata": {},
   "outputs": [],
   "source": [
    "def make_confusion_matrix(model, threshold = 0.5):\n",
    "    # Predict class 1 if probability of being in class 1 is greater than threshold\n",
    "    # (model.predict(X_test) does this automatically with a threshold of 0.5)\n",
    "    y_predict = (model.predict_proba(X_test)[:, 1] >= threshold)\n",
    "    churn_conf = confusion_matrix(y_test, y_pred)\n",
    "    plt.figure(dpi=80)\n",
    "    sns.heatmap(churn_conf, cmap=plt.cm.Blues, annot=True, square=True, fmt='d',);\n",
    "\n",
    "    #plt.savefig('confusion_matrix.png', dpi=300) "
   ]
  },
  {
   "cell_type": "code",
   "execution_count": 20,
   "id": "cb22dd02",
   "metadata": {},
   "outputs": [
    {
     "data": {
      "application/vnd.jupyter.widget-view+json": {
       "model_id": "0302dc1182284fbfacb5b64668816f0b",
       "version_major": 2,
       "version_minor": 0
      },
      "text/plain": [
       "interactive(children=(FloatSlider(value=0.5, description='threshold', max=1.0, step=0.02), Output()), _dom_cla…"
      ]
     },
     "metadata": {},
     "output_type": "display_data"
    }
   ],
   "source": [
    "# confusion matrix with threshold slider\n",
    "interactive(lambda threshold: make_confusion_matrix(pipe, threshold), threshold=(0.0,1.0,0.02))"
   ]
  },
  {
   "cell_type": "markdown",
   "id": "c081432c",
   "metadata": {},
   "source": [
    "### Percentage version of Confusion Matrix\n",
    "- to do this 'normalize = 'all'"
   ]
  },
  {
   "cell_type": "code",
   "execution_count": 21,
   "id": "61289e6e",
   "metadata": {},
   "outputs": [],
   "source": [
    "def make_confusion_matrix(model, threshold = 0.5):\n",
    "    # Predict class 1 if probability of being in class 1 is greater than threshold\n",
    "    # (model.predict(X_test) does this automatically with a threshold of 0.5)\n",
    "    y_predict = (model.predict_proba(X_test)[:, 1] >= threshold)\n",
    "    churn_conf = confusion_matrix(y_test, y_pred, normalize = 'all')\n",
    "    plt.figure(dpi=80)\n",
    "    sns.heatmap(churn_conf, cmap=plt.cm.Blues, annot=True, square=True, fmt='.2%');\n",
    "    #plt.savefig('confusion_matrix_percent.png', dpi=300) "
   ]
  },
  {
   "cell_type": "markdown",
   "id": "4176b89a",
   "metadata": {},
   "source": [
    "trouble shooting why the slider isn't working\n",
    "As for why the slider does not change your confusion_matrix, I would start debugging that by investigating what pipe outputs. For example does pipe give hard classes or soft probabilities and if they are probabilities are they mostly extreme (close to 0 or 1) or spread out"
   ]
  },
  {
   "cell_type": "code",
   "execution_count": 22,
   "id": "51cf4055",
   "metadata": {},
   "outputs": [
    {
     "data": {
      "application/vnd.jupyter.widget-view+json": {
       "model_id": "cc4260e8e69b4c3b9cb643e92e3a1f20",
       "version_major": 2,
       "version_minor": 0
      },
      "text/plain": [
       "interactive(children=(FloatSlider(value=0.5, description='threshold', max=1.0, step=0.02), Output()), _dom_cla…"
      ]
     },
     "metadata": {},
     "output_type": "display_data"
    }
   ],
   "source": [
    "# confusion matrix with threshold slider\n",
    "# how the widget works https://ipywidgets.readthedocs.io/en/stable/examples/Using%20Interact.html?highlight=interact\n",
    "interactive(lambda threshold: make_confusion_matrix(pipe, threshold), threshold=(0.0,1.0,0.02))"
   ]
  },
  {
   "cell_type": "markdown",
   "id": "398e1218",
   "metadata": {},
   "source": [
    "Confusion matrix findings:\n",
    "- correctly classified 1151 people who didn't cancel their subscription. \n",
    "- correctly classified 237 customers as people who were going to cancel their subscription and did.\n",
    "- incorrectly classified  149 customers as people who were going to cancel their subscription when they actually kept their subscription. \n",
    "- It incorrectly classified 221 customers as people who were going to keep their subscription but actually canceled it. "
   ]
  },
  {
   "cell_type": "markdown",
   "id": "7c6a7e3c",
   "metadata": {},
   "source": [
    "### Precision, Recall, F1 Scores\n",
    "- Precision goes down as you decrease the threshold, while recall goes up. This is called the _precision-recall tradeoff_.\n",
    "- Precision = true positives (correctly classified as people who were going to churn) divided by all of our model's predicted positives.(100% precision indicates that all of the positives identified by our model were actual positives.) \n",
    "- Recall = the number of true positives correctly classified, divided by the actual positives in the dataset. \n",
    "- F1 = the harmonic mean of precision and recall. It's designed to penalize situations where precision or recall is significantly better than the other metric. "
   ]
  },
  {
   "cell_type": "code",
   "execution_count": 23,
   "id": "b4f91027",
   "metadata": {},
   "outputs": [
    {
     "name": "stdout",
     "output_type": "stream",
     "text": [
      "Default treshold:\n",
      "Precision: 0.6139896373056994\n",
      "Recall: 0.517467248908297\n",
      "F1: 0.5616113744075829\n"
     ]
    }
   ],
   "source": [
    "print(\"Default treshold:\")\n",
    "print(f\"Precision: {precision_score(y_test, y_pred)}\")\n",
    "print(f\"Recall: {recall_score(y_test, y_pred)}\")\n",
    "print(f\"F1: {f1_score(y_test, y_pred)}\")"
   ]
  },
  {
   "cell_type": "markdown",
   "id": "7610cf45",
   "metadata": {},
   "source": [
    "### ROC Curve\n",
    "- ROC AUC (area under curve) metric is 1 for a perfect classifier, and it's equal to 0.5 for a model that performs as well as random guess. "
   ]
  },
  {
   "cell_type": "markdown",
   "id": "5ad03296",
   "metadata": {},
   "source": [
    "How the variables below are working\n",
    "- the variables (fpr, tpr, thresholds) are returned by the roc_curve function are stored in these three variables - fpr (false positive rate), tpr (true positive rate) and thresholds. Fpr and tpr are used later to plot the chart."
   ]
  },
  {
   "cell_type": "code",
   "execution_count": 24,
   "id": "e71d2ef5",
   "metadata": {},
   "outputs": [],
   "source": [
    "fpr, tpr, thresholds = roc_curve(y_test, pipe.predict_proba(X_test)[:,1])"
   ]
  },
  {
   "cell_type": "code",
   "execution_count": 25,
   "id": "d07d456e",
   "metadata": {},
   "outputs": [
    {
     "name": "stdout",
     "output_type": "stream",
     "text": [
      "ROC AUC score =  0.8344776620759153\n"
     ]
    },
    {
     "data": {
      "image/png": "[encoded data removed]",
      "text/plain": [
       "<Figure size 640x480 with 1 Axes>"
      ]
     },
     "metadata": {},
     "output_type": "display_data"
    }
   ],
   "source": [
    "plt.plot(fpr, tpr,lw=2)\n",
    "plt.plot([0,1],[0,1],c='orange',ls='--')\n",
    "plt.xlim([-0.05,1.05])\n",
    "plt.ylim([-0.05,1.05])\n",
    "\n",
    "\n",
    "plt.xlabel('False positive rate')\n",
    "plt.ylabel('True positive rate')\n",
    "plt.title('ROC Curve');\n",
    "print(\"ROC AUC score = \", roc_auc_score(y_test, pipe.predict_proba(X_test)[:,1]))\n",
    "#plt.savefig('ROC Curve.png', dpi=300) "
   ]
  },
  {
   "cell_type": "markdown",
   "id": "85ecf33a",
   "metadata": {},
   "source": [
    "### Interpreting Coefficients: Would like to indicate which features are more strongly associated with churn\n",
    "- One unit of increase in x actually increases the log odds by beta units. \n",
    "- In other words: One unit of increase in x, increases the odds by an exponential factor of beta.\n",
    "- If the features coefficient beta is positive, increasing that feature makes the positive class more likely\n",
    "- If beta is negative, increasing the feature does the opposite and the positive class becomes less likely"
   ]
  },
  {
   "cell_type": "markdown",
   "id": "14bf40f6",
   "metadata": {},
   "source": [
    "### Coefficient For Each Feature"
   ]
  },
  {
   "cell_type": "markdown",
   "id": "d8ac9068",
   "metadata": {},
   "source": [
    "#### Coeffcients in Log Odds Units"
   ]
  },
  {
   "cell_type": "code",
   "execution_count": 26,
   "id": "9f2b8004",
   "metadata": {},
   "outputs": [],
   "source": [
    "#.T to transform cuz there was a shape error\n",
    "coefs_tst_data = pd.DataFrame(pipe['LogReg'].coef_.T, X.columns, columns = ['Coeff_Log_Odds'])"
   ]
  },
  {
   "cell_type": "code",
   "execution_count": 27,
   "id": "c63f38a3",
   "metadata": {},
   "outputs": [],
   "source": [
    "#coefs_tst_data.sort_values(by='Coeff_Log_Odds', ascending = False)"
   ]
  },
  {
   "cell_type": "markdown",
   "id": "1a9bf338",
   "metadata": {},
   "source": [
    "#### Coeffecients: Exponentiate to get rid of log odds\n",
    "These are now odds NOT log odds"
   ]
  },
  {
   "cell_type": "code",
   "execution_count": 28,
   "id": "70a37527",
   "metadata": {},
   "outputs": [],
   "source": [
    "coefs_tst_data['Coeff_Odds'] = coefs_tst_data['Coeff_Log_Odds']"
   ]
  },
  {
   "cell_type": "code",
   "execution_count": 29,
   "id": "b475011b",
   "metadata": {},
   "outputs": [],
   "source": [
    "#coefs_tst_data"
   ]
  },
  {
   "cell_type": "code",
   "execution_count": 30,
   "id": "ab4a05bc",
   "metadata": {},
   "outputs": [],
   "source": [
    "coefs_tst_data['Coeff_Odds'] = coefs_tst_data['Coeff_Odds'].apply(lambda x: np.exp(x))"
   ]
  },
  {
   "cell_type": "code",
   "execution_count": 31,
   "id": "a70296ee",
   "metadata": {},
   "outputs": [
    {
     "data": {
      "text/html": [
       "<div>\n",
       "<style scoped>\n",
       "    .dataframe tbody tr th:only-of-type {\n",
       "        vertical-align: middle;\n",
       "    }\n",
       "\n",
       "    .dataframe tbody tr th {\n",
       "        vertical-align: top;\n",
       "    }\n",
       "\n",
       "    .dataframe thead th {\n",
       "        text-align: right;\n",
       "    }\n",
       "</style>\n",
       "<table border=\"1\" class=\"dataframe\">\n",
       "  <thead>\n",
       "    <tr style=\"text-align: right;\">\n",
       "      <th></th>\n",
       "      <th>Coeff_Log_Odds</th>\n",
       "      <th>Coeff_Odds</th>\n",
       "    </tr>\n",
       "  </thead>\n",
       "  <tbody>\n",
       "    <tr>\n",
       "      <th>TotalCharges</th>\n",
       "      <td>0.746655</td>\n",
       "      <td>2.109930</td>\n",
       "    </tr>\n",
       "    <tr>\n",
       "      <th>InternetService_Fiber</th>\n",
       "      <td>0.600124</td>\n",
       "      <td>1.822345</td>\n",
       "    </tr>\n",
       "    <tr>\n",
       "      <th>StreamingMovies_Yes</th>\n",
       "      <td>0.195780</td>\n",
       "      <td>1.216259</td>\n",
       "    </tr>\n",
       "    <tr>\n",
       "      <th>StreamingTV_Yes</th>\n",
       "      <td>0.173457</td>\n",
       "      <td>1.189409</td>\n",
       "    </tr>\n",
       "    <tr>\n",
       "      <th>MultipleLines_Yes</th>\n",
       "      <td>0.131167</td>\n",
       "      <td>1.140158</td>\n",
       "    </tr>\n",
       "    <tr>\n",
       "      <th>PaymentMethod_Electr_Check</th>\n",
       "      <td>0.123118</td>\n",
       "      <td>1.131018</td>\n",
       "    </tr>\n",
       "    <tr>\n",
       "      <th>PaperlessBilling_Yes</th>\n",
       "      <td>0.114826</td>\n",
       "      <td>1.121679</td>\n",
       "    </tr>\n",
       "    <tr>\n",
       "      <th>SeniorCitizen</th>\n",
       "      <td>0.090125</td>\n",
       "      <td>1.094311</td>\n",
       "    </tr>\n",
       "    <tr>\n",
       "      <th>Partner_Yes</th>\n",
       "      <td>0.047038</td>\n",
       "      <td>1.048162</td>\n",
       "    </tr>\n",
       "    <tr>\n",
       "      <th>MultipleLines_No_phone_serv</th>\n",
       "      <td>0.042894</td>\n",
       "      <td>1.043827</td>\n",
       "    </tr>\n",
       "    <tr>\n",
       "      <th>DeviceProtection_Yes</th>\n",
       "      <td>0.038966</td>\n",
       "      <td>1.039735</td>\n",
       "    </tr>\n",
       "    <tr>\n",
       "      <th>gender_Male</th>\n",
       "      <td>-0.015224</td>\n",
       "      <td>0.984891</td>\n",
       "    </tr>\n",
       "    <tr>\n",
       "      <th>OnlineBackup_Yes</th>\n",
       "      <td>-0.025702</td>\n",
       "      <td>0.974625</td>\n",
       "    </tr>\n",
       "    <tr>\n",
       "      <th>PaymentMethod_Mailed_check</th>\n",
       "      <td>-0.033418</td>\n",
       "      <td>0.967134</td>\n",
       "    </tr>\n",
       "    <tr>\n",
       "      <th>PhoneService_Yes</th>\n",
       "      <td>-0.042894</td>\n",
       "      <td>0.958013</td>\n",
       "    </tr>\n",
       "    <tr>\n",
       "      <th>PaymentMethod_Crcard</th>\n",
       "      <td>-0.052276</td>\n",
       "      <td>0.949067</td>\n",
       "    </tr>\n",
       "    <tr>\n",
       "      <th>OnlineSecurity_No_internet_serv</th>\n",
       "      <td>-0.066252</td>\n",
       "      <td>0.935895</td>\n",
       "    </tr>\n",
       "    <tr>\n",
       "      <th>DeviceProtection_No_internet_serv</th>\n",
       "      <td>-0.066252</td>\n",
       "      <td>0.935895</td>\n",
       "    </tr>\n",
       "    <tr>\n",
       "      <th>TechSupport_No_internet_serv</th>\n",
       "      <td>-0.066252</td>\n",
       "      <td>0.935895</td>\n",
       "    </tr>\n",
       "    <tr>\n",
       "      <th>StreamingTV_No_internet_serv</th>\n",
       "      <td>-0.066252</td>\n",
       "      <td>0.935895</td>\n",
       "    </tr>\n",
       "    <tr>\n",
       "      <th>InternetService_No</th>\n",
       "      <td>-0.066252</td>\n",
       "      <td>0.935895</td>\n",
       "    </tr>\n",
       "    <tr>\n",
       "      <th>StreamingMovies_No_internet_serv</th>\n",
       "      <td>-0.066252</td>\n",
       "      <td>0.935895</td>\n",
       "    </tr>\n",
       "    <tr>\n",
       "      <th>OnlineBackup_No_Internet_Serv</th>\n",
       "      <td>-0.066252</td>\n",
       "      <td>0.935895</td>\n",
       "    </tr>\n",
       "    <tr>\n",
       "      <th>Dependents_Yes</th>\n",
       "      <td>-0.110642</td>\n",
       "      <td>0.895259</td>\n",
       "    </tr>\n",
       "    <tr>\n",
       "      <th>TechSupport_Yes</th>\n",
       "      <td>-0.138082</td>\n",
       "      <td>0.871027</td>\n",
       "    </tr>\n",
       "    <tr>\n",
       "      <th>OnlineSecurity_Yes</th>\n",
       "      <td>-0.160019</td>\n",
       "      <td>0.852127</td>\n",
       "    </tr>\n",
       "    <tr>\n",
       "      <th>Contract_One_Year</th>\n",
       "      <td>-0.318596</td>\n",
       "      <td>0.727170</td>\n",
       "    </tr>\n",
       "    <tr>\n",
       "      <th>MonthlyCharges</th>\n",
       "      <td>-0.477732</td>\n",
       "      <td>0.620189</td>\n",
       "    </tr>\n",
       "    <tr>\n",
       "      <th>Contract_Two_year</th>\n",
       "      <td>-0.582751</td>\n",
       "      <td>0.558360</td>\n",
       "    </tr>\n",
       "    <tr>\n",
       "      <th>tenure</th>\n",
       "      <td>-1.502647</td>\n",
       "      <td>0.222540</td>\n",
       "    </tr>\n",
       "  </tbody>\n",
       "</table>\n",
       "</div>"
      ],
      "text/plain": [
       "                                   Coeff_Log_Odds  Coeff_Odds\n",
       "TotalCharges                             0.746655    2.109930\n",
       "InternetService_Fiber                    0.600124    1.822345\n",
       "StreamingMovies_Yes                      0.195780    1.216259\n",
       "StreamingTV_Yes                          0.173457    1.189409\n",
       "MultipleLines_Yes                        0.131167    1.140158\n",
       "PaymentMethod_Electr_Check               0.123118    1.131018\n",
       "PaperlessBilling_Yes                     0.114826    1.121679\n",
       "SeniorCitizen                            0.090125    1.094311\n",
       "Partner_Yes                              0.047038    1.048162\n",
       "MultipleLines_No_phone_serv              0.042894    1.043827\n",
       "DeviceProtection_Yes                     0.038966    1.039735\n",
       "gender_Male                             -0.015224    0.984891\n",
       "OnlineBackup_Yes                        -0.025702    0.974625\n",
       "PaymentMethod_Mailed_check              -0.033418    0.967134\n",
       "PhoneService_Yes                        -0.042894    0.958013\n",
       "PaymentMethod_Crcard                    -0.052276    0.949067\n",
       "OnlineSecurity_No_internet_serv         -0.066252    0.935895\n",
       "DeviceProtection_No_internet_serv       -0.066252    0.935895\n",
       "TechSupport_No_internet_serv            -0.066252    0.935895\n",
       "StreamingTV_No_internet_serv            -0.066252    0.935895\n",
       "InternetService_No                      -0.066252    0.935895\n",
       "StreamingMovies_No_internet_serv        -0.066252    0.935895\n",
       "OnlineBackup_No_Internet_Serv           -0.066252    0.935895\n",
       "Dependents_Yes                          -0.110642    0.895259\n",
       "TechSupport_Yes                         -0.138082    0.871027\n",
       "OnlineSecurity_Yes                      -0.160019    0.852127\n",
       "Contract_One_Year                       -0.318596    0.727170\n",
       "MonthlyCharges                          -0.477732    0.620189\n",
       "Contract_Two_year                       -0.582751    0.558360\n",
       "tenure                                  -1.502647    0.222540"
      ]
     },
     "execution_count": 31,
     "metadata": {},
     "output_type": "execute_result"
    }
   ],
   "source": [
    "coefs_tst_data.sort_values(by='Coeff_Odds', ascending = False)"
   ]
  }
 ],
 "metadata": {
  "kernelspec": {
   "display_name": "Python 3 (ipykernel)",
   "language": "python",
   "name": "python3"
  },
  "language_info": {
   "codemirror_mode": {
    "name": "ipython",
    "version": 3
   },
   "file_extension": ".py",
   "mimetype": "text/x-python",
   "name": "python",
   "nbconvert_exporter": "python",
   "pygments_lexer": "ipython3",
   "version": "3.9.13"
  }
 },
 "nbformat": 4,
 "nbformat_minor": 5
}
